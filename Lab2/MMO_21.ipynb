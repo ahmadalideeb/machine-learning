{
  "nbformat": 4,
  "nbformat_minor": 0,
  "metadata": {
    "kernelspec": {
      "display_name": "Python 3",
      "language": "python",
      "name": "python3"
    },
    "language_info": {
      "codemirror_mode": {
        "name": "ipython",
        "version": 3
      },
      "file_extension": ".py",
      "mimetype": "text/x-python",
      "name": "python",
      "nbconvert_exporter": "python",
      "pygments_lexer": "ipython3",
      "version": "3.6.3"
    },
    "colab": {
      "name": "MMO_21.ipynb",
      "provenance": []
    }
  },
  "cells": [
    {
      "cell_type": "code",
      "metadata": {
        "id": "7N94cbilPh5K",
        "colab_type": "code",
        "colab": {}
      },
      "source": [
        "import numpy as np\n",
        "import pandas as pd"
      ],
      "execution_count": 0,
      "outputs": []
    },
    {
      "cell_type": "code",
      "metadata": {
        "id": "vKIBGYdSPh5O",
        "colab_type": "code",
        "colab": {}
      },
      "source": [
        "data=pd.read_csv('adult.data.txt')"
      ],
      "execution_count": 0,
      "outputs": []
    },
    {
      "cell_type": "code",
      "metadata": {
        "id": "XoxpnJEdPh5R",
        "colab_type": "code",
        "colab": {},
        "outputId": "6137ba1f-5dcb-491a-b8ad-652da8710131"
      },
      "source": [
        "data.head()"
      ],
      "execution_count": 0,
      "outputs": [
        {
          "output_type": "execute_result",
          "data": {
            "text/html": [
              "<div>\n",
              "<style scoped>\n",
              "    .dataframe tbody tr th:only-of-type {\n",
              "        vertical-align: middle;\n",
              "    }\n",
              "\n",
              "    .dataframe tbody tr th {\n",
              "        vertical-align: top;\n",
              "    }\n",
              "\n",
              "    .dataframe thead th {\n",
              "        text-align: right;\n",
              "    }\n",
              "</style>\n",
              "<table border=\"1\" class=\"dataframe\">\n",
              "  <thead>\n",
              "    <tr style=\"text-align: right;\">\n",
              "      <th></th>\n",
              "      <th>age</th>\n",
              "      <th>workclass</th>\n",
              "      <th>fnlwgt</th>\n",
              "      <th>education</th>\n",
              "      <th>education-num</th>\n",
              "      <th>marital-status</th>\n",
              "      <th>occupation</th>\n",
              "      <th>relationship</th>\n",
              "      <th>race</th>\n",
              "      <th>sex</th>\n",
              "      <th>capital-gain</th>\n",
              "      <th>capital-loss</th>\n",
              "      <th>hours-per-week</th>\n",
              "      <th>native-country</th>\n",
              "      <th>salary</th>\n",
              "    </tr>\n",
              "  </thead>\n",
              "  <tbody>\n",
              "    <tr>\n",
              "      <th>0</th>\n",
              "      <td>39</td>\n",
              "      <td>State-gov</td>\n",
              "      <td>77516</td>\n",
              "      <td>Bachelors</td>\n",
              "      <td>13</td>\n",
              "      <td>Never-married</td>\n",
              "      <td>Adm-clerical</td>\n",
              "      <td>Not-in-family</td>\n",
              "      <td>White</td>\n",
              "      <td>Male</td>\n",
              "      <td>2174</td>\n",
              "      <td>0</td>\n",
              "      <td>40</td>\n",
              "      <td>United-States</td>\n",
              "      <td>&lt;=50K</td>\n",
              "    </tr>\n",
              "    <tr>\n",
              "      <th>1</th>\n",
              "      <td>50</td>\n",
              "      <td>Self-emp-not-inc</td>\n",
              "      <td>83311</td>\n",
              "      <td>Bachelors</td>\n",
              "      <td>13</td>\n",
              "      <td>Married-civ-spouse</td>\n",
              "      <td>Exec-managerial</td>\n",
              "      <td>Husband</td>\n",
              "      <td>White</td>\n",
              "      <td>Male</td>\n",
              "      <td>0</td>\n",
              "      <td>0</td>\n",
              "      <td>13</td>\n",
              "      <td>United-States</td>\n",
              "      <td>&lt;=50K</td>\n",
              "    </tr>\n",
              "    <tr>\n",
              "      <th>2</th>\n",
              "      <td>38</td>\n",
              "      <td>Private</td>\n",
              "      <td>215646</td>\n",
              "      <td>HS-grad</td>\n",
              "      <td>9</td>\n",
              "      <td>Divorced</td>\n",
              "      <td>Handlers-cleaners</td>\n",
              "      <td>Not-in-family</td>\n",
              "      <td>White</td>\n",
              "      <td>Male</td>\n",
              "      <td>0</td>\n",
              "      <td>0</td>\n",
              "      <td>40</td>\n",
              "      <td>United-States</td>\n",
              "      <td>&lt;=50K</td>\n",
              "    </tr>\n",
              "    <tr>\n",
              "      <th>3</th>\n",
              "      <td>53</td>\n",
              "      <td>Private</td>\n",
              "      <td>234721</td>\n",
              "      <td>11th</td>\n",
              "      <td>7</td>\n",
              "      <td>Married-civ-spouse</td>\n",
              "      <td>Handlers-cleaners</td>\n",
              "      <td>Husband</td>\n",
              "      <td>Black</td>\n",
              "      <td>Male</td>\n",
              "      <td>0</td>\n",
              "      <td>0</td>\n",
              "      <td>40</td>\n",
              "      <td>United-States</td>\n",
              "      <td>&lt;=50K</td>\n",
              "    </tr>\n",
              "    <tr>\n",
              "      <th>4</th>\n",
              "      <td>28</td>\n",
              "      <td>Private</td>\n",
              "      <td>338409</td>\n",
              "      <td>Bachelors</td>\n",
              "      <td>13</td>\n",
              "      <td>Married-civ-spouse</td>\n",
              "      <td>Prof-specialty</td>\n",
              "      <td>Wife</td>\n",
              "      <td>Black</td>\n",
              "      <td>Female</td>\n",
              "      <td>0</td>\n",
              "      <td>0</td>\n",
              "      <td>40</td>\n",
              "      <td>Cuba</td>\n",
              "      <td>&lt;=50K</td>\n",
              "    </tr>\n",
              "  </tbody>\n",
              "</table>\n",
              "</div>"
            ],
            "text/plain": [
              "   age         workclass  fnlwgt  education  education-num  \\\n",
              "0   39         State-gov   77516  Bachelors             13   \n",
              "1   50  Self-emp-not-inc   83311  Bachelors             13   \n",
              "2   38           Private  215646    HS-grad              9   \n",
              "3   53           Private  234721       11th              7   \n",
              "4   28           Private  338409  Bachelors             13   \n",
              "\n",
              "       marital-status         occupation   relationship   race     sex  \\\n",
              "0       Never-married       Adm-clerical  Not-in-family  White    Male   \n",
              "1  Married-civ-spouse    Exec-managerial        Husband  White    Male   \n",
              "2            Divorced  Handlers-cleaners  Not-in-family  White    Male   \n",
              "3  Married-civ-spouse  Handlers-cleaners        Husband  Black    Male   \n",
              "4  Married-civ-spouse     Prof-specialty           Wife  Black  Female   \n",
              "\n",
              "   capital-gain  capital-loss  hours-per-week native-country salary  \n",
              "0          2174             0              40  United-States  <=50K  \n",
              "1             0             0              13  United-States  <=50K  \n",
              "2             0             0              40  United-States  <=50K  \n",
              "3             0             0              40  United-States  <=50K  \n",
              "4             0             0              40           Cuba  <=50K  "
            ]
          },
          "metadata": {
            "tags": []
          },
          "execution_count": 3
        }
      ]
    },
    {
      "cell_type": "code",
      "metadata": {
        "id": "li3pWjRxPh5V",
        "colab_type": "code",
        "colab": {},
        "outputId": "ad95e6cc-5020-41fb-ed60-720216e2757f"
      },
      "source": [
        "data['sex'].value_counts()"
      ],
      "execution_count": 0,
      "outputs": [
        {
          "output_type": "execute_result",
          "data": {
            "text/plain": [
              "Male      21790\n",
              "Female    10771\n",
              "Name: sex, dtype: int64"
            ]
          },
          "metadata": {
            "tags": []
          },
          "execution_count": 4
        }
      ]
    },
    {
      "cell_type": "code",
      "metadata": {
        "id": "XtMYz0kIPh5X",
        "colab_type": "code",
        "colab": {},
        "outputId": "e63c501e-f9d5-4f56-d33b-cd9e3b15272d"
      },
      "source": [
        "data.loc[data['sex']=='Female','age'].mean()"
      ],
      "execution_count": 0,
      "outputs": [
        {
          "output_type": "execute_result",
          "data": {
            "text/plain": [
              "36.85823043357163"
            ]
          },
          "metadata": {
            "tags": []
          },
          "execution_count": 5
        }
      ]
    },
    {
      "cell_type": "code",
      "metadata": {
        "id": "iS3Y-sl1Ph5a",
        "colab_type": "code",
        "colab": {},
        "outputId": "c458b8b9-60a9-4804-b3cd-76de2f5d9096"
      },
      "source": [
        "data['age'][data['sex']=='Female'].mean()"
      ],
      "execution_count": 0,
      "outputs": [
        {
          "output_type": "execute_result",
          "data": {
            "text/plain": [
              "36.85823043357163"
            ]
          },
          "metadata": {
            "tags": []
          },
          "execution_count": 6
        }
      ]
    },
    {
      "cell_type": "code",
      "metadata": {
        "id": "6eZ179dBPh5d",
        "colab_type": "code",
        "colab": {},
        "outputId": "b23ab5fe-8d87-4c13-bce5-b328fa84ea77"
      },
      "source": [
        "(data['native-country']=='Germany').sum()/data.shape[0]"
      ],
      "execution_count": 0,
      "outputs": [
        {
          "output_type": "execute_result",
          "data": {
            "text/plain": [
              "0.004207487485028101"
            ]
          },
          "metadata": {
            "tags": []
          },
          "execution_count": 7
        }
      ]
    },
    {
      "cell_type": "code",
      "metadata": {
        "id": "eJzID9BiPh5g",
        "colab_type": "code",
        "colab": {},
        "outputId": "468c96f5-693e-4f5c-8cc9-0354430aa6c1"
      },
      "source": [
        "ages1=data.loc[data['salary']=='>50K','age']\n",
        "ages2=data.loc[data['salary']=='<=50K','age']\n",
        "print(\"The average age of the rich: {0} +- {1} years, poor - {2} +- {3} years.\".format(\n",
        "    round(ages1.mean()), round(ages1.std(),1),\n",
        "    round(ages2.mean()), round(ages2.std(),1)))"
      ],
      "execution_count": 0,
      "outputs": [
        {
          "output_type": "stream",
          "text": [
            "The average age of the rich: 44.0 +- 10.5 years, poor - 37.0 +- 14.0 years.\n"
          ],
          "name": "stdout"
        }
      ]
    },
    {
      "cell_type": "code",
      "metadata": {
        "id": "C_QpH56vPh5i",
        "colab_type": "code",
        "colab": {},
        "outputId": "104641e8-be84-4772-ec47-6efa59ddc502"
      },
      "source": [
        "data.loc[data['salary']=='>50K','education'].unique()"
      ],
      "execution_count": 0,
      "outputs": [
        {
          "output_type": "execute_result",
          "data": {
            "text/plain": [
              "array(['HS-grad', 'Masters', 'Bachelors', 'Some-college', 'Assoc-voc',\n",
              "       'Doctorate', 'Prof-school', 'Assoc-acdm', '7th-8th', '12th',\n",
              "       '10th', '11th', '9th', '5th-6th', '1st-4th'], dtype=object)"
            ]
          },
          "metadata": {
            "tags": []
          },
          "execution_count": 9
        }
      ]
    },
    {
      "cell_type": "code",
      "metadata": {
        "id": "8nCPkT58Ph5m",
        "colab_type": "code",
        "colab": {},
        "outputId": "7434d579-7644-4678-a50a-08b86a6c7f61"
      },
      "source": [
        "data.groupby(['race','sex']).first()"
      ],
      "execution_count": 0,
      "outputs": [
        {
          "output_type": "execute_result",
          "data": {
            "text/html": [
              "<div>\n",
              "<style scoped>\n",
              "    .dataframe tbody tr th:only-of-type {\n",
              "        vertical-align: middle;\n",
              "    }\n",
              "\n",
              "    .dataframe tbody tr th {\n",
              "        vertical-align: top;\n",
              "    }\n",
              "\n",
              "    .dataframe thead th {\n",
              "        text-align: right;\n",
              "    }\n",
              "</style>\n",
              "<table border=\"1\" class=\"dataframe\">\n",
              "  <thead>\n",
              "    <tr style=\"text-align: right;\">\n",
              "      <th></th>\n",
              "      <th></th>\n",
              "      <th>age</th>\n",
              "      <th>workclass</th>\n",
              "      <th>fnlwgt</th>\n",
              "      <th>education</th>\n",
              "      <th>education-num</th>\n",
              "      <th>marital-status</th>\n",
              "      <th>occupation</th>\n",
              "      <th>relationship</th>\n",
              "      <th>capital-gain</th>\n",
              "      <th>capital-loss</th>\n",
              "      <th>hours-per-week</th>\n",
              "      <th>native-country</th>\n",
              "      <th>salary</th>\n",
              "    </tr>\n",
              "    <tr>\n",
              "      <th>race</th>\n",
              "      <th>sex</th>\n",
              "      <th></th>\n",
              "      <th></th>\n",
              "      <th></th>\n",
              "      <th></th>\n",
              "      <th></th>\n",
              "      <th></th>\n",
              "      <th></th>\n",
              "      <th></th>\n",
              "      <th></th>\n",
              "      <th></th>\n",
              "      <th></th>\n",
              "      <th></th>\n",
              "      <th></th>\n",
              "    </tr>\n",
              "  </thead>\n",
              "  <tbody>\n",
              "    <tr>\n",
              "      <th rowspan=\"2\" valign=\"top\">Amer-Indian-Eskimo</th>\n",
              "      <th>Female</th>\n",
              "      <td>35</td>\n",
              "      <td>Private</td>\n",
              "      <td>153790</td>\n",
              "      <td>Some-college</td>\n",
              "      <td>10</td>\n",
              "      <td>Never-married</td>\n",
              "      <td>Sales</td>\n",
              "      <td>Not-in-family</td>\n",
              "      <td>0</td>\n",
              "      <td>0</td>\n",
              "      <td>40</td>\n",
              "      <td>United-States</td>\n",
              "      <td>&lt;=50K</td>\n",
              "    </tr>\n",
              "    <tr>\n",
              "      <th>Male</th>\n",
              "      <td>34</td>\n",
              "      <td>Private</td>\n",
              "      <td>245487</td>\n",
              "      <td>7th-8th</td>\n",
              "      <td>4</td>\n",
              "      <td>Married-civ-spouse</td>\n",
              "      <td>Transport-moving</td>\n",
              "      <td>Husband</td>\n",
              "      <td>0</td>\n",
              "      <td>0</td>\n",
              "      <td>45</td>\n",
              "      <td>Mexico</td>\n",
              "      <td>&lt;=50K</td>\n",
              "    </tr>\n",
              "    <tr>\n",
              "      <th rowspan=\"2\" valign=\"top\">Asian-Pac-Islander</th>\n",
              "      <th>Female</th>\n",
              "      <td>30</td>\n",
              "      <td>Private</td>\n",
              "      <td>117747</td>\n",
              "      <td>HS-grad</td>\n",
              "      <td>9</td>\n",
              "      <td>Married-civ-spouse</td>\n",
              "      <td>Sales</td>\n",
              "      <td>Wife</td>\n",
              "      <td>0</td>\n",
              "      <td>1573</td>\n",
              "      <td>35</td>\n",
              "      <td>?</td>\n",
              "      <td>&lt;=50K</td>\n",
              "    </tr>\n",
              "    <tr>\n",
              "      <th>Male</th>\n",
              "      <td>30</td>\n",
              "      <td>State-gov</td>\n",
              "      <td>141297</td>\n",
              "      <td>Bachelors</td>\n",
              "      <td>13</td>\n",
              "      <td>Married-civ-spouse</td>\n",
              "      <td>Prof-specialty</td>\n",
              "      <td>Husband</td>\n",
              "      <td>0</td>\n",
              "      <td>0</td>\n",
              "      <td>40</td>\n",
              "      <td>India</td>\n",
              "      <td>&gt;50K</td>\n",
              "    </tr>\n",
              "    <tr>\n",
              "      <th rowspan=\"2\" valign=\"top\">Black</th>\n",
              "      <th>Female</th>\n",
              "      <td>28</td>\n",
              "      <td>Private</td>\n",
              "      <td>338409</td>\n",
              "      <td>Bachelors</td>\n",
              "      <td>13</td>\n",
              "      <td>Married-civ-spouse</td>\n",
              "      <td>Prof-specialty</td>\n",
              "      <td>Wife</td>\n",
              "      <td>0</td>\n",
              "      <td>0</td>\n",
              "      <td>40</td>\n",
              "      <td>Cuba</td>\n",
              "      <td>&lt;=50K</td>\n",
              "    </tr>\n",
              "    <tr>\n",
              "      <th>Male</th>\n",
              "      <td>53</td>\n",
              "      <td>Private</td>\n",
              "      <td>234721</td>\n",
              "      <td>11th</td>\n",
              "      <td>7</td>\n",
              "      <td>Married-civ-spouse</td>\n",
              "      <td>Handlers-cleaners</td>\n",
              "      <td>Husband</td>\n",
              "      <td>0</td>\n",
              "      <td>0</td>\n",
              "      <td>40</td>\n",
              "      <td>United-States</td>\n",
              "      <td>&lt;=50K</td>\n",
              "    </tr>\n",
              "    <tr>\n",
              "      <th rowspan=\"2\" valign=\"top\">Other</th>\n",
              "      <th>Female</th>\n",
              "      <td>25</td>\n",
              "      <td>Private</td>\n",
              "      <td>32275</td>\n",
              "      <td>Some-college</td>\n",
              "      <td>10</td>\n",
              "      <td>Married-civ-spouse</td>\n",
              "      <td>Exec-managerial</td>\n",
              "      <td>Wife</td>\n",
              "      <td>0</td>\n",
              "      <td>0</td>\n",
              "      <td>40</td>\n",
              "      <td>United-States</td>\n",
              "      <td>&lt;=50K</td>\n",
              "    </tr>\n",
              "    <tr>\n",
              "      <th>Male</th>\n",
              "      <td>65</td>\n",
              "      <td>Private</td>\n",
              "      <td>161400</td>\n",
              "      <td>11th</td>\n",
              "      <td>7</td>\n",
              "      <td>Widowed</td>\n",
              "      <td>Other-service</td>\n",
              "      <td>Unmarried</td>\n",
              "      <td>0</td>\n",
              "      <td>0</td>\n",
              "      <td>40</td>\n",
              "      <td>United-States</td>\n",
              "      <td>&lt;=50K</td>\n",
              "    </tr>\n",
              "    <tr>\n",
              "      <th rowspan=\"2\" valign=\"top\">White</th>\n",
              "      <th>Female</th>\n",
              "      <td>37</td>\n",
              "      <td>Private</td>\n",
              "      <td>284582</td>\n",
              "      <td>Masters</td>\n",
              "      <td>14</td>\n",
              "      <td>Married-civ-spouse</td>\n",
              "      <td>Exec-managerial</td>\n",
              "      <td>Wife</td>\n",
              "      <td>0</td>\n",
              "      <td>0</td>\n",
              "      <td>40</td>\n",
              "      <td>United-States</td>\n",
              "      <td>&lt;=50K</td>\n",
              "    </tr>\n",
              "    <tr>\n",
              "      <th>Male</th>\n",
              "      <td>39</td>\n",
              "      <td>State-gov</td>\n",
              "      <td>77516</td>\n",
              "      <td>Bachelors</td>\n",
              "      <td>13</td>\n",
              "      <td>Never-married</td>\n",
              "      <td>Adm-clerical</td>\n",
              "      <td>Not-in-family</td>\n",
              "      <td>2174</td>\n",
              "      <td>0</td>\n",
              "      <td>40</td>\n",
              "      <td>United-States</td>\n",
              "      <td>&lt;=50K</td>\n",
              "    </tr>\n",
              "  </tbody>\n",
              "</table>\n",
              "</div>"
            ],
            "text/plain": [
              "                           age  workclass  fnlwgt     education  \\\n",
              "race               sex                                            \n",
              "Amer-Indian-Eskimo Female   35    Private  153790  Some-college   \n",
              "                   Male     34    Private  245487       7th-8th   \n",
              "Asian-Pac-Islander Female   30    Private  117747       HS-grad   \n",
              "                   Male     30  State-gov  141297     Bachelors   \n",
              "Black              Female   28    Private  338409     Bachelors   \n",
              "                   Male     53    Private  234721          11th   \n",
              "Other              Female   25    Private   32275  Some-college   \n",
              "                   Male     65    Private  161400          11th   \n",
              "White              Female   37    Private  284582       Masters   \n",
              "                   Male     39  State-gov   77516     Bachelors   \n",
              "\n",
              "                           education-num      marital-status  \\\n",
              "race               sex                                         \n",
              "Amer-Indian-Eskimo Female             10       Never-married   \n",
              "                   Male                4  Married-civ-spouse   \n",
              "Asian-Pac-Islander Female              9  Married-civ-spouse   \n",
              "                   Male               13  Married-civ-spouse   \n",
              "Black              Female             13  Married-civ-spouse   \n",
              "                   Male                7  Married-civ-spouse   \n",
              "Other              Female             10  Married-civ-spouse   \n",
              "                   Male                7             Widowed   \n",
              "White              Female             14  Married-civ-spouse   \n",
              "                   Male               13       Never-married   \n",
              "\n",
              "                                  occupation   relationship  capital-gain  \\\n",
              "race               sex                                                      \n",
              "Amer-Indian-Eskimo Female              Sales  Not-in-family             0   \n",
              "                   Male     Transport-moving        Husband             0   \n",
              "Asian-Pac-Islander Female              Sales           Wife             0   \n",
              "                   Male       Prof-specialty        Husband             0   \n",
              "Black              Female     Prof-specialty           Wife             0   \n",
              "                   Male    Handlers-cleaners        Husband             0   \n",
              "Other              Female    Exec-managerial           Wife             0   \n",
              "                   Male        Other-service      Unmarried             0   \n",
              "White              Female    Exec-managerial           Wife             0   \n",
              "                   Male         Adm-clerical  Not-in-family          2174   \n",
              "\n",
              "                           capital-loss  hours-per-week native-country salary  \n",
              "race               sex                                                         \n",
              "Amer-Indian-Eskimo Female             0              40  United-States  <=50K  \n",
              "                   Male               0              45         Mexico  <=50K  \n",
              "Asian-Pac-Islander Female          1573              35              ?  <=50K  \n",
              "                   Male               0              40          India   >50K  \n",
              "Black              Female             0              40           Cuba  <=50K  \n",
              "                   Male               0              40  United-States  <=50K  \n",
              "Other              Female             0              40  United-States  <=50K  \n",
              "                   Male               0              40  United-States  <=50K  \n",
              "White              Female             0              40  United-States  <=50K  \n",
              "                   Male               0              40  United-States  <=50K  "
            ]
          },
          "metadata": {
            "tags": []
          },
          "execution_count": 10
        }
      ]
    },
    {
      "cell_type": "code",
      "metadata": {
        "id": "T-lg7ImOPh5o",
        "colab_type": "code",
        "colab": {},
        "outputId": "a62d12b7-baee-4c0a-8f90-c4289c89174e"
      },
      "source": [
        "for element in data.groupby(['race','sex']):\n",
        "    print(\"Race:{0},Sex:{1}\".format(element[0][0],element[0][1]))\n",
        "    print(element[1]['age'].describe())"
      ],
      "execution_count": 0,
      "outputs": [
        {
          "output_type": "stream",
          "text": [
            "Race:Amer-Indian-Eskimo,Sex:Female\n",
            "count    119.000000\n",
            "mean      37.117647\n",
            "std       13.114991\n",
            "min       17.000000\n",
            "25%       27.000000\n",
            "50%       36.000000\n",
            "75%       46.000000\n",
            "max       80.000000\n",
            "Name: age, dtype: float64\n",
            "Race:Amer-Indian-Eskimo,Sex:Male\n",
            "count    192.000000\n",
            "mean      37.208333\n",
            "std       12.049563\n",
            "min       17.000000\n",
            "25%       28.000000\n",
            "50%       35.000000\n",
            "75%       45.000000\n",
            "max       82.000000\n",
            "Name: age, dtype: float64\n",
            "Race:Asian-Pac-Islander,Sex:Female\n",
            "count    346.000000\n",
            "mean      35.089595\n",
            "std       12.300845\n",
            "min       17.000000\n",
            "25%       25.000000\n",
            "50%       33.000000\n",
            "75%       43.750000\n",
            "max       75.000000\n",
            "Name: age, dtype: float64\n",
            "Race:Asian-Pac-Islander,Sex:Male\n",
            "count    693.000000\n",
            "mean      39.073593\n",
            "std       12.883944\n",
            "min       18.000000\n",
            "25%       29.000000\n",
            "50%       37.000000\n",
            "75%       46.000000\n",
            "max       90.000000\n",
            "Name: age, dtype: float64\n",
            "Race:Black,Sex:Female\n",
            "count    1555.000000\n",
            "mean       37.854019\n",
            "std        12.637197\n",
            "min        17.000000\n",
            "25%        28.000000\n",
            "50%        37.000000\n",
            "75%        46.000000\n",
            "max        90.000000\n",
            "Name: age, dtype: float64\n",
            "Race:Black,Sex:Male\n",
            "count    1569.000000\n",
            "mean       37.682600\n",
            "std        12.882612\n",
            "min        17.000000\n",
            "25%        27.000000\n",
            "50%        36.000000\n",
            "75%        46.000000\n",
            "max        90.000000\n",
            "Name: age, dtype: float64\n",
            "Race:Other,Sex:Female\n",
            "count    109.000000\n",
            "mean      31.678899\n",
            "std       11.631599\n",
            "min       17.000000\n",
            "25%       23.000000\n",
            "50%       29.000000\n",
            "75%       39.000000\n",
            "max       74.000000\n",
            "Name: age, dtype: float64\n",
            "Race:Other,Sex:Male\n",
            "count    162.000000\n",
            "mean      34.654321\n",
            "std       11.355531\n",
            "min       17.000000\n",
            "25%       26.000000\n",
            "50%       32.000000\n",
            "75%       42.000000\n",
            "max       77.000000\n",
            "Name: age, dtype: float64\n",
            "Race:White,Sex:Female\n",
            "count    8642.000000\n",
            "mean       36.811618\n",
            "std        14.329093\n",
            "min        17.000000\n",
            "25%        25.000000\n",
            "50%        35.000000\n",
            "75%        46.000000\n",
            "max        90.000000\n",
            "Name: age, dtype: float64\n",
            "Race:White,Sex:Male\n",
            "count    19174.000000\n",
            "mean        39.652498\n",
            "std         13.436029\n",
            "min         17.000000\n",
            "25%         29.000000\n",
            "50%         38.000000\n",
            "75%         49.000000\n",
            "max         90.000000\n",
            "Name: age, dtype: float64\n"
          ],
          "name": "stdout"
        }
      ]
    },
    {
      "cell_type": "code",
      "metadata": {
        "id": "EjCDSmQIPh5r",
        "colab_type": "code",
        "colab": {},
        "outputId": "9e5beef7-4f9c-4438-b109-b2e1f854f3f6"
      },
      "source": [
        "data.loc[(data['sex'] == 'Male') &\n",
        "     (data['marital-status'].isin(['Never-married', \n",
        "                                   'Separated', \n",
        "                                   'Divorced',\n",
        "                                   'Widowed'])), 'salary'].value_counts()"
      ],
      "execution_count": 0,
      "outputs": [
        {
          "output_type": "execute_result",
          "data": {
            "text/plain": [
              "<=50K    7552\n",
              ">50K      697\n",
              "Name: salary, dtype: int64"
            ]
          },
          "metadata": {
            "tags": []
          },
          "execution_count": 12
        }
      ]
    },
    {
      "cell_type": "code",
      "metadata": {
        "id": "6MiTaLPKPh5u",
        "colab_type": "code",
        "colab": {},
        "outputId": "ce5edd8c-4226-4266-e87c-fdf69a15495c"
      },
      "source": [
        "data.loc[(data['sex'] == 'Male') &\n",
        "     (data['marital-status'].str.startswith('Married')), 'salary'].value_counts()"
      ],
      "execution_count": 0,
      "outputs": [
        {
          "output_type": "execute_result",
          "data": {
            "text/plain": [
              "<=50K    7576\n",
              ">50K     5965\n",
              "Name: salary, dtype: int64"
            ]
          },
          "metadata": {
            "tags": []
          },
          "execution_count": 13
        }
      ]
    },
    {
      "cell_type": "code",
      "metadata": {
        "id": "0p7s6ys9Ph5w",
        "colab_type": "code",
        "colab": {},
        "outputId": "7c0fc017-a0f5-4173-affe-81b1f908f09c"
      },
      "source": [
        "data['marital-status']"
      ],
      "execution_count": 0,
      "outputs": [
        {
          "output_type": "execute_result",
          "data": {
            "text/plain": [
              "0             Never-married\n",
              "1        Married-civ-spouse\n",
              "2                  Divorced\n",
              "3        Married-civ-spouse\n",
              "4        Married-civ-spouse\n",
              "                ...        \n",
              "32556    Married-civ-spouse\n",
              "32557    Married-civ-spouse\n",
              "32558               Widowed\n",
              "32559         Never-married\n",
              "32560    Married-civ-spouse\n",
              "Name: marital-status, Length: 32561, dtype: object"
            ]
          },
          "metadata": {
            "tags": []
          },
          "execution_count": 14
        }
      ]
    },
    {
      "cell_type": "code",
      "metadata": {
        "id": "CL8z-PzXPh5y",
        "colab_type": "code",
        "colab": {},
        "outputId": "dd5ad370-655a-4586-9b22-9e51832f9b1d"
      },
      "source": [
        "max_load=data['hours-per-week'].max()\n",
        "print(\"Max time - {0} hours./week.\".format(max_load))\n",
        "num_workaholics=data[data['hours-per-week']==max_load].shape[0]\n",
        "print(\"Total number of such hard workers {0}\".format(num_workaholics))\n",
        "rich_share=data[(data['hours-per-week']==max_load) & (data['salary']=='>50K')].shape[0]/num_workaholics\n",
        "print(\"Percentage of rich among them {0}%\".format(int(100 * rich_share)))"
      ],
      "execution_count": 0,
      "outputs": [
        {
          "output_type": "stream",
          "text": [
            "Max time - 99 hours./week.\n",
            "Total number of such hard workers 85\n",
            "Percentage of rich among them 29%\n"
          ],
          "name": "stdout"
        }
      ]
    },
    {
      "cell_type": "code",
      "metadata": {
        "id": "fZB0XQroPh50",
        "colab_type": "code",
        "colab": {},
        "outputId": "6f2d4d81-75d6-44cd-8029-830cb36331cb"
      },
      "source": [
        "for element in data.groupby(['native-country','salary']):\n",
        "    print(element[0][0],\" \",element[0][1],\":\",element[1]['hours-per-week'].mean())"
      ],
      "execution_count": 0,
      "outputs": [
        {
          "output_type": "stream",
          "text": [
            "?   <=50K : 40.16475972540046\n",
            "?   >50K : 45.54794520547945\n",
            "Cambodia   <=50K : 41.416666666666664\n",
            "Cambodia   >50K : 40.0\n",
            "Canada   <=50K : 37.91463414634146\n",
            "Canada   >50K : 45.64102564102564\n",
            "China   <=50K : 37.38181818181818\n",
            "China   >50K : 38.9\n",
            "Columbia   <=50K : 38.68421052631579\n",
            "Columbia   >50K : 50.0\n",
            "Cuba   <=50K : 37.98571428571429\n",
            "Cuba   >50K : 42.44\n",
            "Dominican-Republic   <=50K : 42.338235294117645\n",
            "Dominican-Republic   >50K : 47.0\n",
            "Ecuador   <=50K : 38.041666666666664\n",
            "Ecuador   >50K : 48.75\n",
            "El-Salvador   <=50K : 36.03092783505155\n",
            "El-Salvador   >50K : 45.0\n",
            "England   <=50K : 40.483333333333334\n",
            "England   >50K : 44.53333333333333\n",
            "France   <=50K : 41.05882352941177\n",
            "France   >50K : 50.75\n",
            "Germany   <=50K : 39.13978494623656\n",
            "Germany   >50K : 44.97727272727273\n",
            "Greece   <=50K : 41.80952380952381\n",
            "Greece   >50K : 50.625\n",
            "Guatemala   <=50K : 39.36065573770492\n",
            "Guatemala   >50K : 36.666666666666664\n",
            "Haiti   <=50K : 36.325\n",
            "Haiti   >50K : 42.75\n",
            "Holand-Netherlands   <=50K : 40.0\n",
            "Honduras   <=50K : 34.333333333333336\n",
            "Honduras   >50K : 60.0\n",
            "Hong   <=50K : 39.142857142857146\n",
            "Hong   >50K : 45.0\n",
            "Hungary   <=50K : 31.3\n",
            "Hungary   >50K : 50.0\n",
            "India   <=50K : 38.233333333333334\n",
            "India   >50K : 46.475\n",
            "Iran   <=50K : 41.44\n",
            "Iran   >50K : 47.5\n",
            "Ireland   <=50K : 40.94736842105263\n",
            "Ireland   >50K : 48.0\n",
            "Italy   <=50K : 39.625\n",
            "Italy   >50K : 45.4\n",
            "Jamaica   <=50K : 38.23943661971831\n",
            "Jamaica   >50K : 41.1\n",
            "Japan   <=50K : 41.0\n",
            "Japan   >50K : 47.958333333333336\n",
            "Laos   <=50K : 40.375\n",
            "Laos   >50K : 40.0\n",
            "Mexico   <=50K : 40.00327868852459\n",
            "Mexico   >50K : 46.57575757575758\n",
            "Nicaragua   <=50K : 36.09375\n",
            "Nicaragua   >50K : 37.5\n",
            "Outlying-US(Guam-USVI-etc)   <=50K : 41.857142857142854\n",
            "Peru   <=50K : 35.06896551724138\n",
            "Peru   >50K : 40.0\n",
            "Philippines   <=50K : 38.065693430656935\n",
            "Philippines   >50K : 43.032786885245905\n",
            "Poland   <=50K : 38.166666666666664\n",
            "Poland   >50K : 39.0\n",
            "Portugal   <=50K : 41.93939393939394\n",
            "Portugal   >50K : 41.5\n",
            "Puerto-Rico   <=50K : 38.470588235294116\n",
            "Puerto-Rico   >50K : 39.416666666666664\n",
            "Scotland   <=50K : 39.44444444444444\n",
            "Scotland   >50K : 46.666666666666664\n",
            "South   <=50K : 40.15625\n",
            "South   >50K : 51.4375\n",
            "Taiwan   <=50K : 33.774193548387096\n",
            "Taiwan   >50K : 46.8\n",
            "Thailand   <=50K : 42.86666666666667\n",
            "Thailand   >50K : 58.333333333333336\n",
            "Trinadad&Tobago   <=50K : 37.05882352941177\n",
            "Trinadad&Tobago   >50K : 40.0\n",
            "United-States   <=50K : 38.79912723305605\n",
            "United-States   >50K : 45.50536884674383\n",
            "Vietnam   <=50K : 37.193548387096776\n",
            "Vietnam   >50K : 39.2\n",
            "Yugoslavia   <=50K : 41.6\n",
            "Yugoslavia   >50K : 49.5\n"
          ],
          "name": "stdout"
        }
      ]
    },
    {
      "cell_type": "code",
      "metadata": {
        "id": "GZ4V4kWMPh52",
        "colab_type": "code",
        "colab": {},
        "outputId": "a50e4b89-9bba-4917-e60a-3d44cfc7ab40"
      },
      "source": [
        "pd.crosstab(data['salary'], data['native-country'], \n",
        "           values=data['hours-per-week'], aggfunc=np.mean)"
      ],
      "execution_count": 0,
      "outputs": [
        {
          "output_type": "execute_result",
          "data": {
            "text/html": [
              "<div>\n",
              "<style scoped>\n",
              "    .dataframe tbody tr th:only-of-type {\n",
              "        vertical-align: middle;\n",
              "    }\n",
              "\n",
              "    .dataframe tbody tr th {\n",
              "        vertical-align: top;\n",
              "    }\n",
              "\n",
              "    .dataframe thead th {\n",
              "        text-align: right;\n",
              "    }\n",
              "</style>\n",
              "<table border=\"1\" class=\"dataframe\">\n",
              "  <thead>\n",
              "    <tr style=\"text-align: right;\">\n",
              "      <th>native-country</th>\n",
              "      <th>?</th>\n",
              "      <th>Cambodia</th>\n",
              "      <th>Canada</th>\n",
              "      <th>China</th>\n",
              "      <th>Columbia</th>\n",
              "      <th>Cuba</th>\n",
              "      <th>Dominican-Republic</th>\n",
              "      <th>Ecuador</th>\n",
              "      <th>El-Salvador</th>\n",
              "      <th>England</th>\n",
              "      <th>...</th>\n",
              "      <th>Portugal</th>\n",
              "      <th>Puerto-Rico</th>\n",
              "      <th>Scotland</th>\n",
              "      <th>South</th>\n",
              "      <th>Taiwan</th>\n",
              "      <th>Thailand</th>\n",
              "      <th>Trinadad&amp;Tobago</th>\n",
              "      <th>United-States</th>\n",
              "      <th>Vietnam</th>\n",
              "      <th>Yugoslavia</th>\n",
              "    </tr>\n",
              "    <tr>\n",
              "      <th>salary</th>\n",
              "      <th></th>\n",
              "      <th></th>\n",
              "      <th></th>\n",
              "      <th></th>\n",
              "      <th></th>\n",
              "      <th></th>\n",
              "      <th></th>\n",
              "      <th></th>\n",
              "      <th></th>\n",
              "      <th></th>\n",
              "      <th></th>\n",
              "      <th></th>\n",
              "      <th></th>\n",
              "      <th></th>\n",
              "      <th></th>\n",
              "      <th></th>\n",
              "      <th></th>\n",
              "      <th></th>\n",
              "      <th></th>\n",
              "      <th></th>\n",
              "      <th></th>\n",
              "    </tr>\n",
              "  </thead>\n",
              "  <tbody>\n",
              "    <tr>\n",
              "      <th>&lt;=50K</th>\n",
              "      <td>40.164760</td>\n",
              "      <td>41.416667</td>\n",
              "      <td>37.914634</td>\n",
              "      <td>37.381818</td>\n",
              "      <td>38.684211</td>\n",
              "      <td>37.985714</td>\n",
              "      <td>42.338235</td>\n",
              "      <td>38.041667</td>\n",
              "      <td>36.030928</td>\n",
              "      <td>40.483333</td>\n",
              "      <td>...</td>\n",
              "      <td>41.939394</td>\n",
              "      <td>38.470588</td>\n",
              "      <td>39.444444</td>\n",
              "      <td>40.15625</td>\n",
              "      <td>33.774194</td>\n",
              "      <td>42.866667</td>\n",
              "      <td>37.058824</td>\n",
              "      <td>38.799127</td>\n",
              "      <td>37.193548</td>\n",
              "      <td>41.6</td>\n",
              "    </tr>\n",
              "    <tr>\n",
              "      <th>&gt;50K</th>\n",
              "      <td>45.547945</td>\n",
              "      <td>40.000000</td>\n",
              "      <td>45.641026</td>\n",
              "      <td>38.900000</td>\n",
              "      <td>50.000000</td>\n",
              "      <td>42.440000</td>\n",
              "      <td>47.000000</td>\n",
              "      <td>48.750000</td>\n",
              "      <td>45.000000</td>\n",
              "      <td>44.533333</td>\n",
              "      <td>...</td>\n",
              "      <td>41.500000</td>\n",
              "      <td>39.416667</td>\n",
              "      <td>46.666667</td>\n",
              "      <td>51.43750</td>\n",
              "      <td>46.800000</td>\n",
              "      <td>58.333333</td>\n",
              "      <td>40.000000</td>\n",
              "      <td>45.505369</td>\n",
              "      <td>39.200000</td>\n",
              "      <td>49.5</td>\n",
              "    </tr>\n",
              "  </tbody>\n",
              "</table>\n",
              "<p>2 rows × 42 columns</p>\n",
              "</div>"
            ],
            "text/plain": [
              "native-country          ?   Cambodia     Canada      China   Columbia  \\\n",
              "salary                                                                  \n",
              "<=50K           40.164760  41.416667  37.914634  37.381818  38.684211   \n",
              ">50K            45.547945  40.000000  45.641026  38.900000  50.000000   \n",
              "\n",
              "native-country       Cuba  Dominican-Republic    Ecuador  El-Salvador  \\\n",
              "salary                                                                  \n",
              "<=50K           37.985714           42.338235  38.041667    36.030928   \n",
              ">50K            42.440000           47.000000  48.750000    45.000000   \n",
              "\n",
              "native-country    England  ...   Portugal  Puerto-Rico   Scotland     South  \\\n",
              "salary                     ...                                                \n",
              "<=50K           40.483333  ...  41.939394    38.470588  39.444444  40.15625   \n",
              ">50K            44.533333  ...  41.500000    39.416667  46.666667  51.43750   \n",
              "\n",
              "native-country     Taiwan   Thailand  Trinadad&Tobago  United-States  \\\n",
              "salary                                                                 \n",
              "<=50K           33.774194  42.866667        37.058824      38.799127   \n",
              ">50K            46.800000  58.333333        40.000000      45.505369   \n",
              "\n",
              "native-country    Vietnam  Yugoslavia  \n",
              "salary                                 \n",
              "<=50K           37.193548        41.6  \n",
              ">50K            39.200000        49.5  \n",
              "\n",
              "[2 rows x 42 columns]"
            ]
          },
          "metadata": {
            "tags": []
          },
          "execution_count": 17
        }
      ]
    }
  ]
}