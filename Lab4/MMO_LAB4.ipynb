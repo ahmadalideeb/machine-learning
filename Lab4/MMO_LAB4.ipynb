{
  "nbformat": 4,
  "nbformat_minor": 0,
  "metadata": {
    "colab": {
      "name": "MMO_LAB4.ipynb",
      "provenance": [],
      "authorship_tag": "ABX9TyOxbN5uzj9H++Xh448j8tr4",
      "include_colab_link": true
    },
    "kernelspec": {
      "name": "python3",
      "display_name": "Python 3"
    }
  },
  "cells": [
    {
      "cell_type": "markdown",
      "metadata": {
        "id": "view-in-github",
        "colab_type": "text"
      },
      "source": [
        "<a href=\"https://colab.research.google.com/github/ahmadalideeb/machine-learning/blob/master/Lab4/MMO_LAB4.ipynb\" target=\"_parent\"><img src=\"https://colab.research.google.com/assets/colab-badge.svg\" alt=\"Open In Colab\"/></a>"
      ]
    },
    {
      "cell_type": "code",
      "metadata": {
        "id": "pAHiVudswiOB",
        "colab_type": "code",
        "outputId": "3c01599e-8d10-478f-abed-7ee16eeae4b7",
        "colab": {
          "base_uri": "https://localhost:8080/",
          "height": 51
        }
      },
      "source": [
        "import  numpy  as  np \n",
        "import  pandas  as  pd \n",
        "from  typing  import  Dict ,  Tuple \n",
        "from  scipy  import  stats \n",
        "from  sklearn.datasets  import  * \n",
        "from  sklearn.model_selection  import  train_test_split \n",
        "from  sklearn.neighbors  import  KNeighborsRegressor ,  KNeighborsClassifier\n",
        "from sklearn.model_selection import cross_val_score, cross_validate\n",
        "from sklearn.model_selection import KFold, RepeatedKFold, LeaveOneOut, LeavePOut, ShuffleSplit, StratifiedKFold\n",
        "from  sklearn.metrics  import  accuracy_score ,  balanced_accuracy_score \n",
        "from sklearn.metrics  import  plot_confusion_matrix \n",
        "from  sklearn.metrics  import  precision_score ,  recall_score ,  f1_score ,  classification_report \n",
        "from  sklearn.metrics  import  confusion_matrix \n",
        "from  sklearn.metrics  import  mean_absolute_error ,  mean_squared_error ,  mean_squared_log_error ,  median_absolute_error ,  r2_score  \n",
        "from  sklearn.metrics  import  roc_curve ,  roc_auc_score\n",
        "from sklearn.model_selection import GridSearchCV, RandomizedSearchCV\n",
        "from sklearn.model_selection import learning_curve, validation_curve\n",
        "import  seaborn  as  sns\n",
        "import  matplotlib.pyplot  as  plt \n",
        "% matplotlib inline \n",
        "sns . set ( style = \"ticks\" )"
      ],
      "execution_count": 1,
      "outputs": [
        {
          "output_type": "stream",
          "text": [
            "/usr/local/lib/python3.6/dist-packages/statsmodels/tools/_testing.py:19: FutureWarning: pandas.util.testing is deprecated. Use the functions in the public API at pandas.testing instead.\n",
            "  import pandas.util.testing as tm\n"
          ],
          "name": "stderr"
        }
      ]
    },
    {
      "cell_type": "markdown",
      "metadata": {
        "id": "QMuecFE0xE5d",
        "colab_type": "text"
      },
      "source": [
        "#**Изучение качества классификации**\n",
        "**Решение задачи классификации - это предсказание значений качественного (категориального) признака.**"
      ]
    },
    {
      "cell_type": "markdown",
      "metadata": {
        "id": "IesLR1QkxwDM",
        "colab_type": "text"
      },
      "source": [
        "##**Подготовка данных и построение базовых моделей для оценки качества**\n",
        "Будем использовать набор данных \"Breast cancer wisconsin\"."
      ]
    },
    {
      "cell_type": "code",
      "metadata": {
        "id": "O_S3KAt-wv-Y",
        "colab_type": "code",
        "colab": {}
      },
      "source": [
        "#https://scikit-learn.org/stable/modules/generated/sklearn.datasets.load_breast_cancer.html#sklearn.datasets.load_breast_cancer\n",
        "cancer = load_breast_cancer()"
      ],
      "execution_count": 0,
      "outputs": []
    },
    {
      "cell_type": "code",
      "metadata": {
        "id": "Esuh-qtczMs-",
        "colab_type": "code",
        "outputId": "2ae9821a-bf94-498a-fdd1-7c1ceb027161",
        "colab": {
          "base_uri": "https://localhost:8080/",
          "height": 187
        }
      },
      "source": [
        "# Наименования признаков\n",
        "cancer.feature_names"
      ],
      "execution_count": 3,
      "outputs": [
        {
          "output_type": "execute_result",
          "data": {
            "text/plain": [
              "array(['mean radius', 'mean texture', 'mean perimeter', 'mean area',\n",
              "       'mean smoothness', 'mean compactness', 'mean concavity',\n",
              "       'mean concave points', 'mean symmetry', 'mean fractal dimension',\n",
              "       'radius error', 'texture error', 'perimeter error', 'area error',\n",
              "       'smoothness error', 'compactness error', 'concavity error',\n",
              "       'concave points error', 'symmetry error',\n",
              "       'fractal dimension error', 'worst radius', 'worst texture',\n",
              "       'worst perimeter', 'worst area', 'worst smoothness',\n",
              "       'worst compactness', 'worst concavity', 'worst concave points',\n",
              "       'worst symmetry', 'worst fractal dimension'], dtype='<U23')"
            ]
          },
          "metadata": {
            "tags": []
          },
          "execution_count": 3
        }
      ]
    },
    {
      "cell_type": "code",
      "metadata": {
        "id": "vTirg9Lszhi4",
        "colab_type": "code",
        "outputId": "766c2732-a8bc-4eb8-9696-1de990ac83dd",
        "colab": {
          "base_uri": "https://localhost:8080/",
          "height": 272
        }
      },
      "source": [
        "# Значения признаков\n",
        "cancer.data[:3]"
      ],
      "execution_count": 4,
      "outputs": [
        {
          "output_type": "execute_result",
          "data": {
            "text/plain": [
              "array([[1.799e+01, 1.038e+01, 1.228e+02, 1.001e+03, 1.184e-01, 2.776e-01,\n",
              "        3.001e-01, 1.471e-01, 2.419e-01, 7.871e-02, 1.095e+00, 9.053e-01,\n",
              "        8.589e+00, 1.534e+02, 6.399e-03, 4.904e-02, 5.373e-02, 1.587e-02,\n",
              "        3.003e-02, 6.193e-03, 2.538e+01, 1.733e+01, 1.846e+02, 2.019e+03,\n",
              "        1.622e-01, 6.656e-01, 7.119e-01, 2.654e-01, 4.601e-01, 1.189e-01],\n",
              "       [2.057e+01, 1.777e+01, 1.329e+02, 1.326e+03, 8.474e-02, 7.864e-02,\n",
              "        8.690e-02, 7.017e-02, 1.812e-01, 5.667e-02, 5.435e-01, 7.339e-01,\n",
              "        3.398e+00, 7.408e+01, 5.225e-03, 1.308e-02, 1.860e-02, 1.340e-02,\n",
              "        1.389e-02, 3.532e-03, 2.499e+01, 2.341e+01, 1.588e+02, 1.956e+03,\n",
              "        1.238e-01, 1.866e-01, 2.416e-01, 1.860e-01, 2.750e-01, 8.902e-02],\n",
              "       [1.969e+01, 2.125e+01, 1.300e+02, 1.203e+03, 1.096e-01, 1.599e-01,\n",
              "        1.974e-01, 1.279e-01, 2.069e-01, 5.999e-02, 7.456e-01, 7.869e-01,\n",
              "        4.585e+00, 9.403e+01, 6.150e-03, 4.006e-02, 3.832e-02, 2.058e-02,\n",
              "        2.250e-02, 4.571e-03, 2.357e+01, 2.553e+01, 1.525e+02, 1.709e+03,\n",
              "        1.444e-01, 4.245e-01, 4.504e-01, 2.430e-01, 3.613e-01, 8.758e-02]])"
            ]
          },
          "metadata": {
            "tags": []
          },
          "execution_count": 4
        }
      ]
    },
    {
      "cell_type": "code",
      "metadata": {
        "id": "bX3eYqqCzrO6",
        "colab_type": "code",
        "outputId": "90af896f-52e1-44a7-d6d2-71e6116614a3",
        "colab": {
          "base_uri": "https://localhost:8080/",
          "height": 34
        }
      },
      "source": [
        "type(cancer.data)"
      ],
      "execution_count": 5,
      "outputs": [
        {
          "output_type": "execute_result",
          "data": {
            "text/plain": [
              "numpy.ndarray"
            ]
          },
          "metadata": {
            "tags": []
          },
          "execution_count": 5
        }
      ]
    },
    {
      "cell_type": "code",
      "metadata": {
        "id": "UVwJPvMJzzM2",
        "colab_type": "code",
        "outputId": "b0420e8a-2a2c-4074-821f-c85c1023ba7c",
        "colab": {
          "base_uri": "https://localhost:8080/",
          "height": 34
        }
      },
      "source": [
        "# Значения целевого признака\n",
        "np.unique(cancer.target)"
      ],
      "execution_count": 6,
      "outputs": [
        {
          "output_type": "execute_result",
          "data": {
            "text/plain": [
              "array([0, 1])"
            ]
          },
          "metadata": {
            "tags": []
          },
          "execution_count": 6
        }
      ]
    },
    {
      "cell_type": "code",
      "metadata": {
        "id": "OXwFOzoBz24Z",
        "colab_type": "code",
        "outputId": "eea24637-c137-4235-9e6e-ab651fe1de31",
        "colab": {
          "base_uri": "https://localhost:8080/",
          "height": 34
        }
      },
      "source": [
        "# Наименования значений целевого признака\n",
        "cancer.target_names"
      ],
      "execution_count": 7,
      "outputs": [
        {
          "output_type": "execute_result",
          "data": {
            "text/plain": [
              "array(['malignant', 'benign'], dtype='<U9')"
            ]
          },
          "metadata": {
            "tags": []
          },
          "execution_count": 7
        }
      ]
    },
    {
      "cell_type": "code",
      "metadata": {
        "id": "id0X-NCH1EPz",
        "colab_type": "code",
        "outputId": "e03b8e8e-cc2e-46fc-b219-34c4c44ba693",
        "colab": {
          "base_uri": "https://localhost:8080/",
          "height": 34
        }
      },
      "source": [
        "list(zip(np.unique(cancer.target), cancer.target_names))"
      ],
      "execution_count": 8,
      "outputs": [
        {
          "output_type": "execute_result",
          "data": {
            "text/plain": [
              "[(0, 'malignant'), (1, 'benign')]"
            ]
          },
          "metadata": {
            "tags": []
          },
          "execution_count": 8
        }
      ]
    },
    {
      "cell_type": "code",
      "metadata": {
        "id": "NrNsNOZ01hj2",
        "colab_type": "code",
        "outputId": "c4915296-b0ed-4216-b16e-37a33b5200ed",
        "colab": {
          "base_uri": "https://localhost:8080/",
          "height": 34
        }
      },
      "source": [
        "# Значения целевого признака\n",
        "cancer.target[:20]"
      ],
      "execution_count": 9,
      "outputs": [
        {
          "output_type": "execute_result",
          "data": {
            "text/plain": [
              "array([0, 0, 0, 0, 0, 0, 0, 0, 0, 0, 0, 0, 0, 0, 0, 0, 0, 0, 0, 1])"
            ]
          },
          "metadata": {
            "tags": []
          },
          "execution_count": 9
        }
      ]
    },
    {
      "cell_type": "code",
      "metadata": {
        "id": "tIcWzWc-1q-U",
        "colab_type": "code",
        "outputId": "af0f3e8d-047c-47e7-aa7e-363b12c31ac5",
        "colab": {
          "base_uri": "https://localhost:8080/",
          "height": 34
        }
      },
      "source": [
        "# Размер выборки\n",
        "cancer.data.shape, cancer.target.shape"
      ],
      "execution_count": 10,
      "outputs": [
        {
          "output_type": "execute_result",
          "data": {
            "text/plain": [
              "((569, 30), (569,))"
            ]
          },
          "metadata": {
            "tags": []
          },
          "execution_count": 10
        }
      ]
    },
    {
      "cell_type": "code",
      "metadata": {
        "id": "JLiVA0eo1_qy",
        "colab_type": "code",
        "colab": {}
      },
      "source": [
        "# Сформируем DataFrame\n",
        "cancer_df = pd.DataFrame(data= np.c_[cancer['data'], cancer['target']],\n",
        "                     columns= list(cancer['feature_names']) + ['target'])\n"
      ],
      "execution_count": 0,
      "outputs": []
    },
    {
      "cell_type": "code",
      "metadata": {
        "id": "4A1YkrD53JDa",
        "colab_type": "code",
        "outputId": "8063a6f7-0ea7-4a25-abd6-df948123d1c0",
        "colab": {
          "base_uri": "https://localhost:8080/",
          "height": 351
        }
      },
      "source": [
        "# И выведем его статистические характеристики\n",
        "cancer_df.describe()"
      ],
      "execution_count": 12,
      "outputs": [
        {
          "output_type": "execute_result",
          "data": {
            "text/html": [
              "<div>\n",
              "<style scoped>\n",
              "    .dataframe tbody tr th:only-of-type {\n",
              "        vertical-align: middle;\n",
              "    }\n",
              "\n",
              "    .dataframe tbody tr th {\n",
              "        vertical-align: top;\n",
              "    }\n",
              "\n",
              "    .dataframe thead th {\n",
              "        text-align: right;\n",
              "    }\n",
              "</style>\n",
              "<table border=\"1\" class=\"dataframe\">\n",
              "  <thead>\n",
              "    <tr style=\"text-align: right;\">\n",
              "      <th></th>\n",
              "      <th>mean radius</th>\n",
              "      <th>mean texture</th>\n",
              "      <th>mean perimeter</th>\n",
              "      <th>mean area</th>\n",
              "      <th>mean smoothness</th>\n",
              "      <th>mean compactness</th>\n",
              "      <th>mean concavity</th>\n",
              "      <th>mean concave points</th>\n",
              "      <th>mean symmetry</th>\n",
              "      <th>mean fractal dimension</th>\n",
              "      <th>radius error</th>\n",
              "      <th>texture error</th>\n",
              "      <th>perimeter error</th>\n",
              "      <th>area error</th>\n",
              "      <th>smoothness error</th>\n",
              "      <th>compactness error</th>\n",
              "      <th>concavity error</th>\n",
              "      <th>concave points error</th>\n",
              "      <th>symmetry error</th>\n",
              "      <th>fractal dimension error</th>\n",
              "      <th>worst radius</th>\n",
              "      <th>worst texture</th>\n",
              "      <th>worst perimeter</th>\n",
              "      <th>worst area</th>\n",
              "      <th>worst smoothness</th>\n",
              "      <th>worst compactness</th>\n",
              "      <th>worst concavity</th>\n",
              "      <th>worst concave points</th>\n",
              "      <th>worst symmetry</th>\n",
              "      <th>worst fractal dimension</th>\n",
              "      <th>target</th>\n",
              "    </tr>\n",
              "  </thead>\n",
              "  <tbody>\n",
              "    <tr>\n",
              "      <th>count</th>\n",
              "      <td>569.000000</td>\n",
              "      <td>569.000000</td>\n",
              "      <td>569.000000</td>\n",
              "      <td>569.000000</td>\n",
              "      <td>569.000000</td>\n",
              "      <td>569.000000</td>\n",
              "      <td>569.000000</td>\n",
              "      <td>569.000000</td>\n",
              "      <td>569.000000</td>\n",
              "      <td>569.000000</td>\n",
              "      <td>569.000000</td>\n",
              "      <td>569.000000</td>\n",
              "      <td>569.000000</td>\n",
              "      <td>569.000000</td>\n",
              "      <td>569.000000</td>\n",
              "      <td>569.000000</td>\n",
              "      <td>569.000000</td>\n",
              "      <td>569.000000</td>\n",
              "      <td>569.000000</td>\n",
              "      <td>569.000000</td>\n",
              "      <td>569.000000</td>\n",
              "      <td>569.000000</td>\n",
              "      <td>569.000000</td>\n",
              "      <td>569.000000</td>\n",
              "      <td>569.000000</td>\n",
              "      <td>569.000000</td>\n",
              "      <td>569.000000</td>\n",
              "      <td>569.000000</td>\n",
              "      <td>569.000000</td>\n",
              "      <td>569.000000</td>\n",
              "      <td>569.000000</td>\n",
              "    </tr>\n",
              "    <tr>\n",
              "      <th>mean</th>\n",
              "      <td>14.127292</td>\n",
              "      <td>19.289649</td>\n",
              "      <td>91.969033</td>\n",
              "      <td>654.889104</td>\n",
              "      <td>0.096360</td>\n",
              "      <td>0.104341</td>\n",
              "      <td>0.088799</td>\n",
              "      <td>0.048919</td>\n",
              "      <td>0.181162</td>\n",
              "      <td>0.062798</td>\n",
              "      <td>0.405172</td>\n",
              "      <td>1.216853</td>\n",
              "      <td>2.866059</td>\n",
              "      <td>40.337079</td>\n",
              "      <td>0.007041</td>\n",
              "      <td>0.025478</td>\n",
              "      <td>0.031894</td>\n",
              "      <td>0.011796</td>\n",
              "      <td>0.020542</td>\n",
              "      <td>0.003795</td>\n",
              "      <td>16.269190</td>\n",
              "      <td>25.677223</td>\n",
              "      <td>107.261213</td>\n",
              "      <td>880.583128</td>\n",
              "      <td>0.132369</td>\n",
              "      <td>0.254265</td>\n",
              "      <td>0.272188</td>\n",
              "      <td>0.114606</td>\n",
              "      <td>0.290076</td>\n",
              "      <td>0.083946</td>\n",
              "      <td>0.627417</td>\n",
              "    </tr>\n",
              "    <tr>\n",
              "      <th>std</th>\n",
              "      <td>3.524049</td>\n",
              "      <td>4.301036</td>\n",
              "      <td>24.298981</td>\n",
              "      <td>351.914129</td>\n",
              "      <td>0.014064</td>\n",
              "      <td>0.052813</td>\n",
              "      <td>0.079720</td>\n",
              "      <td>0.038803</td>\n",
              "      <td>0.027414</td>\n",
              "      <td>0.007060</td>\n",
              "      <td>0.277313</td>\n",
              "      <td>0.551648</td>\n",
              "      <td>2.021855</td>\n",
              "      <td>45.491006</td>\n",
              "      <td>0.003003</td>\n",
              "      <td>0.017908</td>\n",
              "      <td>0.030186</td>\n",
              "      <td>0.006170</td>\n",
              "      <td>0.008266</td>\n",
              "      <td>0.002646</td>\n",
              "      <td>4.833242</td>\n",
              "      <td>6.146258</td>\n",
              "      <td>33.602542</td>\n",
              "      <td>569.356993</td>\n",
              "      <td>0.022832</td>\n",
              "      <td>0.157336</td>\n",
              "      <td>0.208624</td>\n",
              "      <td>0.065732</td>\n",
              "      <td>0.061867</td>\n",
              "      <td>0.018061</td>\n",
              "      <td>0.483918</td>\n",
              "    </tr>\n",
              "    <tr>\n",
              "      <th>min</th>\n",
              "      <td>6.981000</td>\n",
              "      <td>9.710000</td>\n",
              "      <td>43.790000</td>\n",
              "      <td>143.500000</td>\n",
              "      <td>0.052630</td>\n",
              "      <td>0.019380</td>\n",
              "      <td>0.000000</td>\n",
              "      <td>0.000000</td>\n",
              "      <td>0.106000</td>\n",
              "      <td>0.049960</td>\n",
              "      <td>0.111500</td>\n",
              "      <td>0.360200</td>\n",
              "      <td>0.757000</td>\n",
              "      <td>6.802000</td>\n",
              "      <td>0.001713</td>\n",
              "      <td>0.002252</td>\n",
              "      <td>0.000000</td>\n",
              "      <td>0.000000</td>\n",
              "      <td>0.007882</td>\n",
              "      <td>0.000895</td>\n",
              "      <td>7.930000</td>\n",
              "      <td>12.020000</td>\n",
              "      <td>50.410000</td>\n",
              "      <td>185.200000</td>\n",
              "      <td>0.071170</td>\n",
              "      <td>0.027290</td>\n",
              "      <td>0.000000</td>\n",
              "      <td>0.000000</td>\n",
              "      <td>0.156500</td>\n",
              "      <td>0.055040</td>\n",
              "      <td>0.000000</td>\n",
              "    </tr>\n",
              "    <tr>\n",
              "      <th>25%</th>\n",
              "      <td>11.700000</td>\n",
              "      <td>16.170000</td>\n",
              "      <td>75.170000</td>\n",
              "      <td>420.300000</td>\n",
              "      <td>0.086370</td>\n",
              "      <td>0.064920</td>\n",
              "      <td>0.029560</td>\n",
              "      <td>0.020310</td>\n",
              "      <td>0.161900</td>\n",
              "      <td>0.057700</td>\n",
              "      <td>0.232400</td>\n",
              "      <td>0.833900</td>\n",
              "      <td>1.606000</td>\n",
              "      <td>17.850000</td>\n",
              "      <td>0.005169</td>\n",
              "      <td>0.013080</td>\n",
              "      <td>0.015090</td>\n",
              "      <td>0.007638</td>\n",
              "      <td>0.015160</td>\n",
              "      <td>0.002248</td>\n",
              "      <td>13.010000</td>\n",
              "      <td>21.080000</td>\n",
              "      <td>84.110000</td>\n",
              "      <td>515.300000</td>\n",
              "      <td>0.116600</td>\n",
              "      <td>0.147200</td>\n",
              "      <td>0.114500</td>\n",
              "      <td>0.064930</td>\n",
              "      <td>0.250400</td>\n",
              "      <td>0.071460</td>\n",
              "      <td>0.000000</td>\n",
              "    </tr>\n",
              "    <tr>\n",
              "      <th>50%</th>\n",
              "      <td>13.370000</td>\n",
              "      <td>18.840000</td>\n",
              "      <td>86.240000</td>\n",
              "      <td>551.100000</td>\n",
              "      <td>0.095870</td>\n",
              "      <td>0.092630</td>\n",
              "      <td>0.061540</td>\n",
              "      <td>0.033500</td>\n",
              "      <td>0.179200</td>\n",
              "      <td>0.061540</td>\n",
              "      <td>0.324200</td>\n",
              "      <td>1.108000</td>\n",
              "      <td>2.287000</td>\n",
              "      <td>24.530000</td>\n",
              "      <td>0.006380</td>\n",
              "      <td>0.020450</td>\n",
              "      <td>0.025890</td>\n",
              "      <td>0.010930</td>\n",
              "      <td>0.018730</td>\n",
              "      <td>0.003187</td>\n",
              "      <td>14.970000</td>\n",
              "      <td>25.410000</td>\n",
              "      <td>97.660000</td>\n",
              "      <td>686.500000</td>\n",
              "      <td>0.131300</td>\n",
              "      <td>0.211900</td>\n",
              "      <td>0.226700</td>\n",
              "      <td>0.099930</td>\n",
              "      <td>0.282200</td>\n",
              "      <td>0.080040</td>\n",
              "      <td>1.000000</td>\n",
              "    </tr>\n",
              "    <tr>\n",
              "      <th>75%</th>\n",
              "      <td>15.780000</td>\n",
              "      <td>21.800000</td>\n",
              "      <td>104.100000</td>\n",
              "      <td>782.700000</td>\n",
              "      <td>0.105300</td>\n",
              "      <td>0.130400</td>\n",
              "      <td>0.130700</td>\n",
              "      <td>0.074000</td>\n",
              "      <td>0.195700</td>\n",
              "      <td>0.066120</td>\n",
              "      <td>0.478900</td>\n",
              "      <td>1.474000</td>\n",
              "      <td>3.357000</td>\n",
              "      <td>45.190000</td>\n",
              "      <td>0.008146</td>\n",
              "      <td>0.032450</td>\n",
              "      <td>0.042050</td>\n",
              "      <td>0.014710</td>\n",
              "      <td>0.023480</td>\n",
              "      <td>0.004558</td>\n",
              "      <td>18.790000</td>\n",
              "      <td>29.720000</td>\n",
              "      <td>125.400000</td>\n",
              "      <td>1084.000000</td>\n",
              "      <td>0.146000</td>\n",
              "      <td>0.339100</td>\n",
              "      <td>0.382900</td>\n",
              "      <td>0.161400</td>\n",
              "      <td>0.317900</td>\n",
              "      <td>0.092080</td>\n",
              "      <td>1.000000</td>\n",
              "    </tr>\n",
              "    <tr>\n",
              "      <th>max</th>\n",
              "      <td>28.110000</td>\n",
              "      <td>39.280000</td>\n",
              "      <td>188.500000</td>\n",
              "      <td>2501.000000</td>\n",
              "      <td>0.163400</td>\n",
              "      <td>0.345400</td>\n",
              "      <td>0.426800</td>\n",
              "      <td>0.201200</td>\n",
              "      <td>0.304000</td>\n",
              "      <td>0.097440</td>\n",
              "      <td>2.873000</td>\n",
              "      <td>4.885000</td>\n",
              "      <td>21.980000</td>\n",
              "      <td>542.200000</td>\n",
              "      <td>0.031130</td>\n",
              "      <td>0.135400</td>\n",
              "      <td>0.396000</td>\n",
              "      <td>0.052790</td>\n",
              "      <td>0.078950</td>\n",
              "      <td>0.029840</td>\n",
              "      <td>36.040000</td>\n",
              "      <td>49.540000</td>\n",
              "      <td>251.200000</td>\n",
              "      <td>4254.000000</td>\n",
              "      <td>0.222600</td>\n",
              "      <td>1.058000</td>\n",
              "      <td>1.252000</td>\n",
              "      <td>0.291000</td>\n",
              "      <td>0.663800</td>\n",
              "      <td>0.207500</td>\n",
              "      <td>1.000000</td>\n",
              "    </tr>\n",
              "  </tbody>\n",
              "</table>\n",
              "</div>"
            ],
            "text/plain": [
              "       mean radius  mean texture  ...  worst fractal dimension      target\n",
              "count   569.000000    569.000000  ...               569.000000  569.000000\n",
              "mean     14.127292     19.289649  ...                 0.083946    0.627417\n",
              "std       3.524049      4.301036  ...                 0.018061    0.483918\n",
              "min       6.981000      9.710000  ...                 0.055040    0.000000\n",
              "25%      11.700000     16.170000  ...                 0.071460    0.000000\n",
              "50%      13.370000     18.840000  ...                 0.080040    1.000000\n",
              "75%      15.780000     21.800000  ...                 0.092080    1.000000\n",
              "max      28.110000     39.280000  ...                 0.207500    1.000000\n",
              "\n",
              "[8 rows x 31 columns]"
            ]
          },
          "metadata": {
            "tags": []
          },
          "execution_count": 12
        }
      ]
    },
    {
      "cell_type": "markdown",
      "metadata": {
        "id": "--EChukc3kOl",
        "colab_type": "text"
      },
      "source": [
        "###**Разделение выборки на обучающую и тестовую**\n",
        "\n",
        "Для разделения выборки на обучающую и тестовую используется функция train_test_split."
      ]
    },
    {
      "cell_type": "code",
      "metadata": {
        "id": "kFxj40uL3dAu",
        "colab_type": "code",
        "colab": {}
      },
      "source": [
        "cancer_X_train, cancer_X_test, cancer_y_train, cancer_y_test = train_test_split(\n",
        "    cancer.data, cancer.target, test_size=0.5, random_state=1)"
      ],
      "execution_count": 0,
      "outputs": []
    },
    {
      "cell_type": "markdown",
      "metadata": {
        "id": "a7DtnSAf6eoO",
        "colab_type": "text"
      },
      "source": [
        "Как правило, параметр test_size устанавливают в 20% или 30%. Здесь используется test_size=0.5 (50%) чтобы искусственно \"ухудшить\" результат на хорошем наборе данных и показать различные возможности использования метрик качества.\n",
        "<br><br>\n",
        "Параметр random_state позволяет задавать базовое значение для генератора случайных чисел. Это делает разбиение неслучайным. Если задается параметр random_state то результаты разбиения будут одинаковыми при различных запусках. На практике этот параметр удобно использовать для создания \"устойчивых\" учебных примеров, которые выдают одинаковый результат при различных запусках."
      ]
    },
    {
      "cell_type": "code",
      "metadata": {
        "id": "CBYJpZtS6QPx",
        "colab_type": "code",
        "outputId": "06394c3f-c11b-456f-aaff-938050714b51",
        "colab": {
          "base_uri": "https://localhost:8080/",
          "height": 34
        }
      },
      "source": [
        "# Размер обучающей выборки\n",
        "cancer_X_train.shape, cancer_y_train.shape"
      ],
      "execution_count": 14,
      "outputs": [
        {
          "output_type": "execute_result",
          "data": {
            "text/plain": [
              "((284, 30), (284,))"
            ]
          },
          "metadata": {
            "tags": []
          },
          "execution_count": 14
        }
      ]
    },
    {
      "cell_type": "code",
      "metadata": {
        "id": "9G1P9qdt7ozt",
        "colab_type": "code",
        "outputId": "b36eb862-d1cc-45ae-fa36-433f1323a7d4",
        "colab": {
          "base_uri": "https://localhost:8080/",
          "height": 34
        }
      },
      "source": [
        "# Размер тестовой выборки\n",
        "cancer_X_test.shape, cancer_y_test.shape"
      ],
      "execution_count": 15,
      "outputs": [
        {
          "output_type": "execute_result",
          "data": {
            "text/plain": [
              "((285, 30), (285,))"
            ]
          },
          "metadata": {
            "tags": []
          },
          "execution_count": 15
        }
      ]
    },
    {
      "cell_type": "markdown",
      "metadata": {
        "id": "DpyZPTO479OR",
        "colab_type": "text"
      },
      "source": [
        "Функция train_test_split разделила исходную выборку таким образом, чтобы в обучающей и тестовой частях сохранились все классы.\n"
      ]
    },
    {
      "cell_type": "code",
      "metadata": {
        "id": "gWKth3do7xHJ",
        "colab_type": "code",
        "outputId": "4977ea6d-584b-45e4-e7ab-843af093cc54",
        "colab": {
          "base_uri": "https://localhost:8080/",
          "height": 34
        }
      },
      "source": [
        "np.unique(cancer_y_train)"
      ],
      "execution_count": 16,
      "outputs": [
        {
          "output_type": "execute_result",
          "data": {
            "text/plain": [
              "array([0, 1])"
            ]
          },
          "metadata": {
            "tags": []
          },
          "execution_count": 16
        }
      ]
    },
    {
      "cell_type": "code",
      "metadata": {
        "id": "c9aGHmY_8Cwm",
        "colab_type": "code",
        "outputId": "c089e49d-c1ec-405a-8aee-6508ac4d601b",
        "colab": {
          "base_uri": "https://localhost:8080/",
          "height": 34
        }
      },
      "source": [
        "np.unique(cancer_y_test)"
      ],
      "execution_count": 17,
      "outputs": [
        {
          "output_type": "execute_result",
          "data": {
            "text/plain": [
              "array([0, 1])"
            ]
          },
          "metadata": {
            "tags": []
          },
          "execution_count": 17
        }
      ]
    },
    {
      "cell_type": "code",
      "metadata": {
        "id": "L5nr11BG8IZ4",
        "colab_type": "code",
        "colab": {}
      },
      "source": [
        "def class_proportions(array: np.ndarray) -> Dict[int, Tuple[int, float]]:\n",
        "    \"\"\"\n",
        "    Вычисляет пропорции классов\n",
        "    array - массив, содержащий метки классов\n",
        "    \"\"\"\n",
        "    # Получение меток классов и количества меток каждого класса \n",
        "    labels, counts = np.unique(array, return_counts=True)\n",
        "    # Превращаем количество меток в процент их встречаемости\n",
        "    # делим количество меток каждого класса на общее количество меток\n",
        "    counts_perc = counts/array.size\n",
        "    # Теперь sum(counts_perc)==1.0\n",
        "    # Создаем результирующий словарь,\n",
        "    # ключом словаря явлется метка класса, \n",
        "    # а значением словаря процент встречаемости метки\n",
        "    res = dict()\n",
        "    for label, count2 in zip(labels, zip(counts, counts_perc)):\n",
        "        res[label] = count2\n",
        "    return res\n",
        "\n",
        "def print_class_proportions(array: np.ndarray):\n",
        "    \"\"\"\n",
        "    Вывод пропорций классов\n",
        "    \"\"\"\n",
        "    proportions = class_proportions(array)\n",
        "    if len(proportions)>0:\n",
        "        print('Метка \\t Количество \\t Процент встречаемости')\n",
        "    for i in proportions:\n",
        "        val, val_perc = proportions[i]\n",
        "        val_perc_100 = round(val_perc * 100, 2)\n",
        "        print('{} \\t {} \\t \\t {}%'.format(i, val, val_perc_100))"
      ],
      "execution_count": 0,
      "outputs": []
    },
    {
      "cell_type": "code",
      "metadata": {
        "id": "EEmb1hvx8oNl",
        "colab_type": "code",
        "outputId": "1b8c0166-6829-4a48-bb8a-bf9c7cab66ac",
        "colab": {
          "base_uri": "https://localhost:8080/",
          "height": 68
        }
      },
      "source": [
        "# В исходной выборке нет явного дисбаланса классов для целевого признака\n",
        "print_class_proportions(cancer.target)\n",
        "\n",
        "# Функция train_test_split разделила исходную выборку таким образом, \n",
        "# чтобы в обучающей и тестовой частях сохранились пропорции классов."
      ],
      "execution_count": 19,
      "outputs": [
        {
          "output_type": "stream",
          "text": [
            "Метка \t Количество \t Процент встречаемости\n",
            "0 \t 212 \t \t 37.26%\n",
            "1 \t 357 \t \t 62.74%\n"
          ],
          "name": "stdout"
        }
      ]
    },
    {
      "cell_type": "code",
      "metadata": {
        "id": "9gIoyZzG8pjl",
        "colab_type": "code",
        "outputId": "cd9aa81c-4b60-4c50-e928-b9a23dfa08f6",
        "colab": {
          "base_uri": "https://localhost:8080/",
          "height": 68
        }
      },
      "source": [
        "# Для обучающей выборки\n",
        "print_class_proportions(cancer_y_train)"
      ],
      "execution_count": 20,
      "outputs": [
        {
          "output_type": "stream",
          "text": [
            "Метка \t Количество \t Процент встречаемости\n",
            "0 \t 109 \t \t 38.38%\n",
            "1 \t 175 \t \t 61.62%\n"
          ],
          "name": "stdout"
        }
      ]
    },
    {
      "cell_type": "code",
      "metadata": {
        "id": "mGb8CLD99BmB",
        "colab_type": "code",
        "outputId": "cfef756c-1c4c-4c8b-fdf6-f36aeeec5037",
        "colab": {
          "base_uri": "https://localhost:8080/",
          "height": 68
        }
      },
      "source": [
        "# Для тестовой выборки\n",
        "print_class_proportions(cancer_y_test)"
      ],
      "execution_count": 21,
      "outputs": [
        {
          "output_type": "stream",
          "text": [
            "Метка \t Количество \t Процент встречаемости\n",
            "0 \t 103 \t \t 36.14%\n",
            "1 \t 182 \t \t 63.86%\n"
          ],
          "name": "stdout"
        }
      ]
    },
    {
      "cell_type": "markdown",
      "metadata": {
        "id": "gLzUtlua9xB6",
        "colab_type": "text"
      },
      "source": [
        "####**Построим базовые модели на основе метода ближайших соседей**"
      ]
    },
    {
      "cell_type": "code",
      "metadata": {
        "id": "Kv-6_khE9Pmx",
        "colab_type": "code",
        "outputId": "9578e81c-9f62-45cf-8871-9401a09653b1",
        "colab": {
          "base_uri": "https://localhost:8080/",
          "height": 0
        }
      },
      "source": [
        "# 2 ближайших соседа\n",
        "cl1_1 = KNeighborsClassifier(n_neighbors=2)\n",
        "cl1_1.fit(cancer_X_train, cancer_y_train)\n",
        "target1_1 = cl1_1.predict(cancer_X_test)\n",
        "len(target1_1), target1_1"
      ],
      "execution_count": 22,
      "outputs": [
        {
          "output_type": "execute_result",
          "data": {
            "text/plain": [
              "(285, array([0, 0, 1, 0, 0, 0, 0, 0, 1, 1, 1, 0, 0, 1, 0, 0, 1, 1, 1, 0, 1, 1,\n",
              "        0, 1, 0, 1, 1, 0, 0, 0, 0, 1, 0, 0, 1, 1, 0, 0, 1, 1, 1, 1, 1, 1,\n",
              "        1, 0, 1, 1, 0, 0, 0, 0, 1, 1, 1, 1, 1, 0, 1, 1, 1, 0, 1, 0, 1, 1,\n",
              "        1, 0, 1, 1, 1, 1, 0, 0, 1, 0, 1, 1, 1, 0, 1, 0, 1, 0, 1, 1, 0, 1,\n",
              "        0, 1, 1, 0, 1, 1, 0, 0, 1, 1, 1, 1, 1, 1, 1, 1, 1, 1, 1, 1, 0, 0,\n",
              "        1, 1, 0, 1, 0, 0, 1, 1, 1, 1, 1, 0, 0, 1, 1, 0, 0, 0, 0, 0, 1, 0,\n",
              "        1, 0, 1, 0, 0, 0, 1, 1, 0, 0, 1, 0, 1, 0, 1, 1, 1, 0, 1, 1, 1, 1,\n",
              "        0, 1, 1, 1, 1, 1, 1, 1, 1, 0, 1, 1, 0, 0, 0, 1, 1, 1, 1, 0, 1, 1,\n",
              "        1, 1, 0, 1, 1, 1, 1, 1, 0, 0, 0, 1, 0, 1, 1, 1, 0, 0, 0, 1, 1, 0,\n",
              "        0, 1, 1, 1, 1, 1, 0, 0, 1, 0, 1, 0, 1, 1, 1, 1, 0, 0, 1, 1, 1, 1,\n",
              "        1, 1, 0, 1, 0, 1, 1, 0, 0, 0, 1, 1, 1, 0, 0, 0, 0, 0, 1, 0, 1, 1,\n",
              "        1, 1, 1, 0, 1, 1, 0, 0, 0, 0, 1, 0, 0, 1, 0, 1, 0, 1, 1, 1, 1, 0,\n",
              "        1, 1, 0, 1, 1, 1, 0, 0, 1, 1, 0, 1, 1, 1, 1, 0, 1, 1, 1, 1, 1]))"
            ]
          },
          "metadata": {
            "tags": []
          },
          "execution_count": 22
        }
      ]
    },
    {
      "cell_type": "code",
      "metadata": {
        "id": "9TEXTzis-Gtr",
        "colab_type": "code",
        "outputId": "b21e80bf-b7d2-4586-87d7-a4b68e21ba23",
        "colab": {
          "base_uri": "https://localhost:8080/",
          "height": 0
        }
      },
      "source": [
        "# 10 ближайших соседей\n",
        "cl1_2 = KNeighborsClassifier(n_neighbors=10)\n",
        "cl1_2.fit(cancer_X_train, cancer_y_train)\n",
        "target1_2 = cl1_2.predict(cancer_X_test)\n",
        "len(target1_2), target1_2"
      ],
      "execution_count": 23,
      "outputs": [
        {
          "output_type": "execute_result",
          "data": {
            "text/plain": [
              "(285, array([1, 0, 1, 0, 0, 0, 0, 0, 1, 1, 1, 0, 0, 1, 1, 1, 1, 1, 1, 0, 1, 1,\n",
              "        0, 1, 0, 1, 1, 0, 0, 0, 0, 1, 0, 0, 1, 1, 0, 1, 1, 1, 1, 1, 1, 1,\n",
              "        1, 0, 1, 1, 1, 0, 0, 0, 1, 1, 1, 1, 1, 0, 1, 1, 1, 1, 1, 0, 1, 1,\n",
              "        1, 0, 1, 1, 1, 1, 0, 0, 1, 0, 1, 1, 1, 0, 1, 0, 1, 0, 1, 1, 1, 1,\n",
              "        0, 1, 1, 0, 1, 1, 0, 1, 1, 1, 1, 1, 1, 1, 1, 0, 1, 1, 1, 1, 0, 0,\n",
              "        1, 1, 1, 1, 0, 0, 1, 1, 1, 1, 1, 0, 0, 1, 1, 0, 0, 0, 0, 0, 1, 1,\n",
              "        1, 0, 1, 0, 0, 0, 1, 1, 0, 0, 1, 0, 1, 0, 1, 1, 1, 0, 1, 1, 0, 1,\n",
              "        1, 1, 1, 1, 1, 1, 1, 1, 1, 0, 1, 1, 0, 0, 0, 1, 1, 1, 1, 0, 1, 1,\n",
              "        1, 1, 0, 1, 1, 1, 1, 1, 1, 0, 0, 1, 0, 1, 1, 1, 1, 0, 0, 1, 1, 0,\n",
              "        0, 1, 0, 1, 1, 1, 0, 0, 1, 1, 1, 0, 1, 1, 1, 1, 0, 1, 1, 1, 1, 1,\n",
              "        1, 1, 0, 1, 0, 1, 1, 0, 0, 1, 1, 1, 1, 0, 1, 1, 0, 0, 1, 0, 1, 1,\n",
              "        1, 1, 1, 0, 1, 1, 0, 0, 0, 0, 1, 0, 1, 1, 0, 1, 0, 1, 1, 1, 1, 0,\n",
              "        1, 1, 0, 1, 1, 1, 1, 0, 1, 1, 0, 1, 1, 1, 1, 0, 1, 1, 1, 1, 1]))"
            ]
          },
          "metadata": {
            "tags": []
          },
          "execution_count": 23
        }
      ]
    },
    {
      "cell_type": "markdown",
      "metadata": {
        "id": "XerqruuO_Pf4",
        "colab_type": "text"
      },
      "source": [
        "#**Метрики качества классификации**"
      ]
    },
    {
      "cell_type": "markdown",
      "metadata": {
        "id": "apzOvQhH_ZNS",
        "colab_type": "text"
      },
      "source": [
        "##**1) Accuracy**\n",
        "\n",
        "Метрика вычисляет процент (долю в диапазоне от 0 до 1) правильно определенных классов."
      ]
    },
    {
      "cell_type": "code",
      "metadata": {
        "id": "ArStg4r6-PkI",
        "colab_type": "code",
        "outputId": "b8988dcf-7671-4038-98df-673eb21dae91",
        "colab": {
          "base_uri": "https://localhost:8080/",
          "height": 34
        }
      },
      "source": [
        "# cancer_y_test - эталонное значение классов из исходной (тестовой) выборки\n",
        "# target* - предсказанное значение классов\n",
        "\n",
        "# 2 ближайших соседа\n",
        "accuracy_score(cancer_y_test, target1_1)"
      ],
      "execution_count": 24,
      "outputs": [
        {
          "output_type": "execute_result",
          "data": {
            "text/plain": [
              "0.8842105263157894"
            ]
          },
          "metadata": {
            "tags": []
          },
          "execution_count": 24
        }
      ]
    },
    {
      "cell_type": "code",
      "metadata": {
        "id": "6ROKHhMA_2Tp",
        "colab_type": "code",
        "outputId": "c667f905-1fb7-4962-a3ca-c828d88b369f",
        "colab": {
          "base_uri": "https://localhost:8080/",
          "height": 34
        }
      },
      "source": [
        "# 10 ближайших соседей\n",
        "accuracy_score(cancer_y_test, target1_2)"
      ],
      "execution_count": 25,
      "outputs": [
        {
          "output_type": "execute_result",
          "data": {
            "text/plain": [
              "0.9157894736842105"
            ]
          },
          "metadata": {
            "tags": []
          },
          "execution_count": 25
        }
      ]
    },
    {
      "cell_type": "markdown",
      "metadata": {
        "id": "oSWOHNQCAQNZ",
        "colab_type": "text"
      },
      "source": [
        "Точность в случае 10 ближайших соседей составляет более 91%, а точность в случае 2 ближайших соседей составляет 88%."
      ]
    },
    {
      "cell_type": "markdown",
      "metadata": {
        "id": "6tEgGP8dAeWL",
        "colab_type": "text"
      },
      "source": [
        "Метрика \"Accuracy\" показывает точность по всем классам, но точность может быть различной для различных классов.\n",
        "\n",
        "Это очень серьезная проблема, которая часто возникает на несбалансированных выборках."
      ]
    },
    {
      "cell_type": "code",
      "metadata": {
        "id": "yrPgpTDbAIyL",
        "colab_type": "code",
        "colab": {}
      },
      "source": [
        "def accuracy_score_for_classes(\n",
        "    y_true: np.ndarray, \n",
        "    y_pred: np.ndarray) -> Dict[int, float]:\n",
        "    \"\"\"\n",
        "    Вычисление метрики accuracy для каждого класса\n",
        "    y_true - истинные значения классов\n",
        "    y_pred - предсказанные значения классов\n",
        "    Возвращает словарь: ключ - метка класса, \n",
        "    значение - Accuracy для данного класса\n",
        "    \"\"\"\n",
        "    # Для удобства фильтрации сформируем Pandas DataFrame \n",
        "    d = {'t': y_true, 'p': y_pred}\n",
        "    df = pd.DataFrame(data=d)\n",
        "    # Метки классов\n",
        "    classes = np.unique(y_true)\n",
        "    # Результирующий словарь\n",
        "    res = dict()\n",
        "    # Перебор меток классов\n",
        "    for c in classes:\n",
        "        # отфильтруем данные, которые соответствуют \n",
        "        # текущей метке класса в истинных значениях\n",
        "        temp_data_flt = df[df['t']==c]\n",
        "        # расчет accuracy для заданной метки класса\n",
        "        temp_acc = accuracy_score(\n",
        "            temp_data_flt['t'].values, \n",
        "            temp_data_flt['p'].values)\n",
        "        # сохранение результата в словарь\n",
        "        res[c] = temp_acc\n",
        "    return res\n",
        "\n",
        "def print_accuracy_score_for_classes(\n",
        "    y_true: np.ndarray, \n",
        "    y_pred: np.ndarray):\n",
        "    \"\"\"\n",
        "    Вывод метрики accuracy для каждого класса\n",
        "    \"\"\"\n",
        "    accs = accuracy_score_for_classes(y_true, y_pred)\n",
        "    if len(accs)>0:\n",
        "        print('Метка \\t Accuracy')\n",
        "    for i in accs:\n",
        "        print('{} \\t {}'.format(i, accs[i]))"
      ],
      "execution_count": 0,
      "outputs": []
    },
    {
      "cell_type": "code",
      "metadata": {
        "id": "lxpT0aTYDvQX",
        "colab_type": "code",
        "outputId": "e651faa4-0807-417c-b60b-65077d1604f3",
        "colab": {
          "base_uri": "https://localhost:8080/",
          "height": 68
        }
      },
      "source": [
        "# 2 ближайших соседа\n",
        "print_accuracy_score_for_classes(cancer_y_test, target1_1)"
      ],
      "execution_count": 27,
      "outputs": [
        {
          "output_type": "stream",
          "text": [
            "Метка \t Accuracy\n",
            "0 \t 0.883495145631068\n",
            "1 \t 0.8846153846153846\n"
          ],
          "name": "stdout"
        }
      ]
    },
    {
      "cell_type": "markdown",
      "metadata": {
        "id": "02b4F0tqD6Kt",
        "colab_type": "text"
      },
      "source": [
        "Accuracy для классов 0 и 1 составляет 88%."
      ]
    },
    {
      "cell_type": "code",
      "metadata": {
        "id": "5lw3crpbD19g",
        "colab_type": "code",
        "outputId": "329195e2-d7f3-4975-8b69-9fcdbe1fa0c0",
        "colab": {
          "base_uri": "https://localhost:8080/",
          "height": 68
        }
      },
      "source": [
        "# 10 ближайших соседей\n",
        "print_accuracy_score_for_classes(cancer_y_test, target1_2)"
      ],
      "execution_count": 28,
      "outputs": [
        {
          "output_type": "stream",
          "text": [
            "Метка \t Accuracy\n",
            "0 \t 0.8446601941747572\n",
            "1 \t 0.9560439560439561\n"
          ],
          "name": "stdout"
        }
      ]
    },
    {
      "cell_type": "markdown",
      "metadata": {
        "id": "XC8zbEOeELAL",
        "colab_type": "text"
      },
      "source": [
        "Accuracy для класса 0 составляет 88%, но для классов 1 95%."
      ]
    },
    {
      "cell_type": "markdown",
      "metadata": {
        "id": "ASwJWxr5K3gz",
        "colab_type": "text"
      },
      "source": [
        "###**Вывод.**\n",
        "Метрика Accuracy интуитивно понятна и часто используется на практике. Но если количество классов относительно невелико, то лучше всего вычислять Accuracy отдельно для каждого класса."
      ]
    },
    {
      "cell_type": "markdown",
      "metadata": {
        "id": "2dRJZ9FILHVz",
        "colab_type": "text"
      },
      "source": [
        "##**2) Матрица ошибок или Confusion Matrix**\n",
        "Количество верно и ошибочно классифицированных данных, представленное в виде матрицы."
      ]
    },
    {
      "cell_type": "code",
      "metadata": {
        "id": "qbIgodSzL0D3",
        "colab_type": "code",
        "outputId": "6980c284-5fb0-41aa-ecc1-b9eb73f9f337",
        "colab": {
          "base_uri": "https://localhost:8080/",
          "height": 34
        }
      },
      "source": [
        "tn, fp, fn, tp = confusion_matrix(cancer_y_test, target1_2).ravel()\n",
        "tn, fp, fn, tp"
      ],
      "execution_count": 29,
      "outputs": [
        {
          "output_type": "execute_result",
          "data": {
            "text/plain": [
              "(87, 16, 8, 174)"
            ]
          },
          "metadata": {
            "tags": []
          },
          "execution_count": 29
        }
      ]
    },
    {
      "cell_type": "code",
      "metadata": {
        "id": "mRe5Ljf6Np1b",
        "colab_type": "code",
        "outputId": "4cd10658-cf83-4bf0-e892-2b314552ec89",
        "colab": {
          "base_uri": "https://localhost:8080/",
          "height": 302
        }
      },
      "source": [
        "plot_confusion_matrix(cl1_2, cancer_X_test, cancer_y_test, \n",
        "                      display_labels=cancer.target_names, cmap=plt.cm.Blues)"
      ],
      "execution_count": 30,
      "outputs": [
        {
          "output_type": "execute_result",
          "data": {
            "text/plain": [
              "<sklearn.metrics._plot.confusion_matrix.ConfusionMatrixDisplay at 0x7fae0d643f60>"
            ]
          },
          "metadata": {
            "tags": []
          },
          "execution_count": 30
        },
        {
          "output_type": "display_data",
          "data": {
            "image/png": "[encoded data removed]",
            "text/plain": [
              "<Figure size 432x288 with 2 Axes>"
            ]
          },
          "metadata": {
            "tags": [],
            "needs_background": "light"
          }
        }
      ]
    },
    {
      "cell_type": "code",
      "metadata": {
        "id": "k33KGEgHW0ch",
        "colab_type": "code",
        "outputId": "7197cbff-ad07-4511-c203-e0c5049c627e",
        "colab": {
          "base_uri": "https://localhost:8080/",
          "height": 302
        }
      },
      "source": [
        "plot_confusion_matrix(cl1_2, cancer_X_test, cancer_y_test, \n",
        "                      display_labels=cancer.target_names,\n",
        "                      cmap=plt.cm.Blues, normalize='true')"
      ],
      "execution_count": 31,
      "outputs": [
        {
          "output_type": "execute_result",
          "data": {
            "text/plain": [
              "<sklearn.metrics._plot.confusion_matrix.ConfusionMatrixDisplay at 0x7fae0d54e518>"
            ]
          },
          "metadata": {
            "tags": []
          },
          "execution_count": 31
        },
        {
          "output_type": "display_data",
          "data": {
            "image/png": "[encoded data removed]",
            "text/plain": [
              "<Figure size 432x288 with 2 Axes>"
            ]
          },
          "metadata": {
            "tags": [],
            "needs_background": "light"
          }
        }
      ]
    },
    {
      "cell_type": "code",
      "metadata": {
        "id": "JBhbmjhUXflD",
        "colab_type": "code",
        "outputId": "9c308a26-4167-4221-bfce-41cda701b3ef",
        "colab": {
          "base_uri": "https://localhost:8080/",
          "height": 375
        }
      },
      "source": [
        "fig, ax = plt.subplots(1, 2, sharex='col', sharey='row', figsize=(15,5))\n",
        "\n",
        "plot_confusion_matrix(cl1_1, cancer_X_test, cancer_y_test, \n",
        "                      display_labels=cancer.target_names, \n",
        "                      cmap=plt.cm.Blues, normalize='true', ax=ax[0])\n",
        "\n",
        "plot_confusion_matrix(cl1_2, cancer_X_test, cancer_y_test, \n",
        "                      display_labels=cancer.target_names, \n",
        "                      cmap=plt.cm.Blues, normalize='true', ax=ax[1])\n",
        "\n",
        "fig.suptitle('Матрицы ошибок')\n",
        "ax[0].title.set_text('K=2')\n",
        "ax[1].title.set_text('K=10')"
      ],
      "execution_count": 32,
      "outputs": [
        {
          "output_type": "display_data",
          "data": {
            "image/png": "[encoded data removed]",
            "text/plain": [
              "<Figure size 1080x360 with 4 Axes>"
            ]
          },
          "metadata": {
            "tags": [],
            "needs_background": "light"
          }
        }
      ]
    },
    {
      "cell_type": "markdown",
      "metadata": {
        "id": "cDOcKxH3YUNm",
        "colab_type": "text"
      },
      "source": [
        "##**3) Precision, recall и F-мера**"
      ]
    },
    {
      "cell_type": "code",
      "metadata": {
        "id": "VJG0PxZdYNSg",
        "colab_type": "code",
        "outputId": "c8009101-9ea3-44fb-8023-1b8865f8bd20",
        "colab": {
          "base_uri": "https://localhost:8080/",
          "height": 34
        }
      },
      "source": [
        "# По умолчанию метрики считаются для 1 класса бинарной классификации\n",
        "# Для 2 ближайших соседей\n",
        "precision_score(cancer_y_test, target1_1), recall_score(cancer_y_test, target1_1)"
      ],
      "execution_count": 33,
      "outputs": [
        {
          "output_type": "execute_result",
          "data": {
            "text/plain": [
              "(0.930635838150289, 0.8846153846153846)"
            ]
          },
          "metadata": {
            "tags": []
          },
          "execution_count": 33
        }
      ]
    },
    {
      "cell_type": "code",
      "metadata": {
        "id": "55gwYmtVkZhz",
        "colab_type": "code",
        "outputId": "e05aac68-39ff-47e4-b2f3-5ff5cfcedad8",
        "colab": {
          "base_uri": "https://localhost:8080/",
          "height": 34
        }
      },
      "source": [
        "# Для 10 ближайших соседей\n",
        "precision_score(cancer_y_test, target1_2), recall_score(cancer_y_test, target1_2)"
      ],
      "execution_count": 34,
      "outputs": [
        {
          "output_type": "execute_result",
          "data": {
            "text/plain": [
              "(0.9157894736842105, 0.9560439560439561)"
            ]
          },
          "metadata": {
            "tags": []
          },
          "execution_count": 34
        }
      ]
    },
    {
      "cell_type": "code",
      "metadata": {
        "id": "k65blSjjuwVa",
        "colab_type": "code",
        "outputId": "4674f1cd-d6f8-465f-9225-02aa7bbade98",
        "colab": {
          "base_uri": "https://localhost:8080/",
          "height": 34
        }
      },
      "source": [
        "# Параметры TP, TN, FP, FN считаются как сумма по всем классам\n",
        "precision_score(cancer_y_test, target1_1, average='micro')"
      ],
      "execution_count": 35,
      "outputs": [
        {
          "output_type": "execute_result",
          "data": {
            "text/plain": [
              "0.8842105263157894"
            ]
          },
          "metadata": {
            "tags": []
          },
          "execution_count": 35
        }
      ]
    },
    {
      "cell_type": "code",
      "metadata": {
        "id": "nOEiWUaJvEDx",
        "colab_type": "code",
        "outputId": "bafbff80-7421-438e-848c-0327ae740c52",
        "colab": {
          "base_uri": "https://localhost:8080/",
          "height": 34
        }
      },
      "source": [
        "# Параметры TP, TN, FP, FN считаются отдельно для каждого класса \n",
        "# и берется среднее значение, дисбаланс классов не учитывается.\n",
        "precision_score(cancer_y_test, target1_1, average='macro')"
      ],
      "execution_count": 36,
      "outputs": [
        {
          "output_type": "execute_result",
          "data": {
            "text/plain": [
              "0.8715679190751445"
            ]
          },
          "metadata": {
            "tags": []
          },
          "execution_count": 36
        }
      ]
    },
    {
      "cell_type": "code",
      "metadata": {
        "id": "pbR4CL6EvIbf",
        "colab_type": "code",
        "outputId": "c3d47e08-741a-4a97-e4fa-9494f986c6e7",
        "colab": {
          "base_uri": "https://localhost:8080/",
          "height": 34
        }
      },
      "source": [
        "# Параметры TP, TN, FP, FN считаются отдельно для каждого класса \n",
        "# и берется средневзвешенное значение, дисбаланс классов учитывается \n",
        "# в виде веса классов (вес - количество истинных значений каждого класса).\n",
        "precision_score(cancer_y_test, target1_1, average='weighted')"
      ],
      "execution_count": 37,
      "outputs": [
        {
          "output_type": "execute_result",
          "data": {
            "text/plain": [
              "0.8879411317310617"
            ]
          },
          "metadata": {
            "tags": []
          },
          "execution_count": 37
        }
      ]
    },
    {
      "cell_type": "markdown",
      "metadata": {
        "id": "ti0ciyL-vxlR",
        "colab_type": "text"
      },
      "source": [
        "###**F-мера**"
      ]
    },
    {
      "cell_type": "code",
      "metadata": {
        "id": "sRFhuHD3vS5L",
        "colab_type": "code",
        "outputId": "a1ea0c83-85c4-4aa1-eb9e-0e7d3ce2e94f",
        "colab": {
          "base_uri": "https://localhost:8080/",
          "height": 34
        }
      },
      "source": [
        "f1_score(cancer_y_test, target1_2)"
      ],
      "execution_count": 38,
      "outputs": [
        {
          "output_type": "execute_result",
          "data": {
            "text/plain": [
              "0.935483870967742"
            ]
          },
          "metadata": {
            "tags": []
          },
          "execution_count": 38
        }
      ]
    },
    {
      "cell_type": "code",
      "metadata": {
        "id": "CPghL4N5wKEi",
        "colab_type": "code",
        "outputId": "dcdbf236-f484-4539-a985-64a10d24cf43",
        "colab": {
          "base_uri": "https://localhost:8080/",
          "height": 34
        }
      },
      "source": [
        "f1_score(cancer_y_test, target1_1, average='micro')"
      ],
      "execution_count": 39,
      "outputs": [
        {
          "output_type": "execute_result",
          "data": {
            "text/plain": [
              "0.8842105263157894"
            ]
          },
          "metadata": {
            "tags": []
          },
          "execution_count": 39
        }
      ]
    },
    {
      "cell_type": "code",
      "metadata": {
        "id": "-kq54nvSwKB2",
        "colab_type": "code",
        "outputId": "2c236fe5-8d09-4b3e-a8c2-12ecdfbbe18c",
        "colab": {
          "base_uri": "https://localhost:8080/",
          "height": 34
        }
      },
      "source": [
        "f1_score(cancer_y_test, target1_1, average='macro')"
      ],
      "execution_count": 40,
      "outputs": [
        {
          "output_type": "execute_result",
          "data": {
            "text/plain": [
              "0.8767769407140518"
            ]
          },
          "metadata": {
            "tags": []
          },
          "execution_count": 40
        }
      ]
    },
    {
      "cell_type": "code",
      "metadata": {
        "id": "cqMDr4PewJ_m",
        "colab_type": "code",
        "outputId": "3be4baad-cb15-45b5-f2a1-96fbe76a7bca",
        "colab": {
          "base_uri": "https://localhost:8080/",
          "height": 34
        }
      },
      "source": [
        "f1_score(cancer_y_test, target1_1, average='weighted')"
      ],
      "execution_count": 41,
      "outputs": [
        {
          "output_type": "execute_result",
          "data": {
            "text/plain": [
              "0.8851662730360129"
            ]
          },
          "metadata": {
            "tags": []
          },
          "execution_count": 41
        }
      ]
    },
    {
      "cell_type": "markdown",
      "metadata": {
        "id": "WFsHf451wn-P",
        "colab_type": "text"
      },
      "source": [
        "Функция classification_report позволяет выводить значения точности, полноты и F-меры для всех классов выборки."
      ]
    },
    {
      "cell_type": "code",
      "metadata": {
        "id": "xS6B3BD6wf-S",
        "colab_type": "code",
        "outputId": "d6b93e0f-642e-4a40-faef-e1f54f10cdb0",
        "colab": {
          "base_uri": "https://localhost:8080/",
          "height": 306
        }
      },
      "source": [
        "classification_report(cancer_y_test, target1_1, \n",
        "                      target_names=cancer.target_names, output_dict=True)"
      ],
      "execution_count": 42,
      "outputs": [
        {
          "output_type": "execute_result",
          "data": {
            "text/plain": [
              "{'accuracy': 0.8842105263157894,\n",
              " 'benign': {'f1-score': 0.9070422535211268,\n",
              "  'precision': 0.930635838150289,\n",
              "  'recall': 0.8846153846153846,\n",
              "  'support': 182},\n",
              " 'macro avg': {'f1-score': 0.8767769407140518,\n",
              "  'precision': 0.8715679190751445,\n",
              "  'recall': 0.8840552651232263,\n",
              "  'support': 285},\n",
              " 'malignant': {'f1-score': 0.8465116279069768,\n",
              "  'precision': 0.8125,\n",
              "  'recall': 0.883495145631068,\n",
              "  'support': 103},\n",
              " 'weighted avg': {'f1-score': 0.8851662730360129,\n",
              "  'precision': 0.8879411317310617,\n",
              "  'recall': 0.8842105263157894,\n",
              "  'support': 285}}"
            ]
          },
          "metadata": {
            "tags": []
          },
          "execution_count": 42
        }
      ]
    },
    {
      "cell_type": "markdown",
      "metadata": {
        "id": "zKT3nXiXZL7O",
        "colab_type": "text"
      },
      "source": [
        "#**Стратегии кросс-валидации**"
      ]
    },
    {
      "cell_type": "code",
      "metadata": {
        "id": "i1mNqvbGwuU1",
        "colab_type": "code",
        "colab": {}
      },
      "source": [
        "scoring = {'precision': 'precision_weighted', \n",
        "           'recall': 'recall_weighted',\n",
        "           'f1': 'f1_weighted'}"
      ],
      "execution_count": 0,
      "outputs": []
    },
    {
      "cell_type": "markdown",
      "metadata": {
        "id": "Li3m5Tv-Z6NJ",
        "colab_type": "text"
      },
      "source": [
        "###**K-fold**"
      ]
    },
    {
      "cell_type": "code",
      "metadata": {
        "id": "O65nkYCeY23x",
        "colab_type": "code",
        "outputId": "21e42873-2212-4e7d-deea-1338b2b79fb4",
        "colab": {
          "base_uri": "https://localhost:8080/",
          "height": 153
        }
      },
      "source": [
        "kf = KFold(n_splits=5)\n",
        "scores = cross_validate(KNeighborsClassifier(n_neighbors=2), \n",
        "                        cancer.data, cancer.target, scoring=scoring, \n",
        "                        cv=kf, return_train_score=True)\n",
        "scores"
      ],
      "execution_count": 44,
      "outputs": [
        {
          "output_type": "execute_result",
          "data": {
            "text/plain": [
              "{'fit_time': array([0.00461268, 0.00116181, 0.00116491, 0.00106263, 0.001091  ]),\n",
              " 'score_time': array([0.01139617, 0.00795913, 0.00789094, 0.00695252, 0.00687551]),\n",
              " 'test_f1': array([0.87833964, 0.9122807 , 0.94764978, 0.90663256, 0.89111744]),\n",
              " 'test_precision': array([0.89296517, 0.9122807 , 0.94855194, 0.9172852 , 0.91524629]),\n",
              " 'test_recall': array([0.87719298, 0.9122807 , 0.94736842, 0.90350877, 0.88495575]),\n",
              " 'train_f1': array([0.97605126, 0.96732351, 0.96727296, 0.9650388 , 0.97162092]),\n",
              " 'train_precision': array([0.97753988, 0.96981109, 0.96967738, 0.96766249, 0.97335361]),\n",
              " 'train_recall': array([0.97582418, 0.96703297, 0.96703297, 0.96483516, 0.97149123])}"
            ]
          },
          "metadata": {
            "tags": []
          },
          "execution_count": 44
        }
      ]
    },
    {
      "cell_type": "markdown",
      "metadata": {
        "id": "cf33gKLsaPnc",
        "colab_type": "text"
      },
      "source": [
        "###**Repeated K-Fold**"
      ]
    },
    {
      "cell_type": "code",
      "metadata": {
        "id": "m4T5a5Q8aHMv",
        "colab_type": "code",
        "outputId": "6e33cc1a-821c-4108-e8ca-5b0de8c6e051",
        "colab": {
          "base_uri": "https://localhost:8080/",
          "height": 204
        }
      },
      "source": [
        "kf = RepeatedKFold(n_splits=5, n_repeats=2)\n",
        "scores = cross_validate(KNeighborsClassifier(n_neighbors=2), \n",
        "                        cancer.data, cancer.target, scoring=scoring, \n",
        "                        cv=kf, return_train_score=False)\n",
        "scores, np.mean(scores['test_precision'])"
      ],
      "execution_count": 45,
      "outputs": [
        {
          "output_type": "execute_result",
          "data": {
            "text/plain": [
              "({'fit_time': array([0.00244737, 0.0010705 , 0.00112605, 0.00106359, 0.00104475,\n",
              "         0.00108576, 0.00103593, 0.00109339, 0.00103092, 0.00102997]),\n",
              "  'score_time': array([0.00895882, 0.00707459, 0.00692487, 0.00701952, 0.00689721,\n",
              "         0.00706792, 0.00712609, 0.00691986, 0.00688624, 0.00931263]),\n",
              "  'test_f1': array([0.91479967, 0.95642996, 0.89698771, 0.94716501, 0.89304339,\n",
              "         0.90574567, 0.90239212, 0.90580438, 0.91260832, 0.93803367]),\n",
              "  'test_precision': array([0.93177388, 0.95809814, 0.90829731, 0.94757348, 0.89747492,\n",
              "         0.91951025, 0.90271543, 0.9153053 , 0.9151893 , 0.93816143]),\n",
              "  'test_recall': array([0.9122807 , 0.95614035, 0.89473684, 0.94736842, 0.89380531,\n",
              "         0.90350877, 0.90350877, 0.90350877, 0.9122807 , 0.9380531 ])},\n",
              " 0.9234099446595081)"
            ]
          },
          "metadata": {
            "tags": []
          },
          "execution_count": 45
        }
      ]
    },
    {
      "cell_type": "markdown",
      "metadata": {
        "id": "APwgCJOzbpGq",
        "colab_type": "text"
      },
      "source": [
        "###**ShuffleSplit**"
      ]
    },
    {
      "cell_type": "markdown",
      "metadata": {
        "id": "EzCMWbWTdf1m",
        "colab_type": "text"
      },
      "source": [
        "Генерируется N случайных перемешиваний данных, в каждом перемешивании заданная доля помещается в тестовую выборку."
      ]
    },
    {
      "cell_type": "code",
      "metadata": {
        "id": "niVQ1xXdbHik",
        "colab_type": "code",
        "outputId": "d7240021-f254-4708-f988-e64d40addca4",
        "colab": {
          "base_uri": "https://localhost:8080/",
          "height": 102
        }
      },
      "source": [
        "kf = ShuffleSplit(n_splits=5, test_size=0.25)\n",
        "scores = cross_validate(KNeighborsClassifier(n_neighbors=2), \n",
        "                        cancer.data, cancer.target, scoring=scoring, \n",
        "                        cv=kf, return_train_score=False)\n",
        "scores"
      ],
      "execution_count": 46,
      "outputs": [
        {
          "output_type": "execute_result",
          "data": {
            "text/plain": [
              "{'fit_time': array([0.00182581, 0.00102854, 0.00102663, 0.00116014, 0.00100994]),\n",
              " 'score_time': array([0.01241708, 0.00808048, 0.00803518, 0.00846529, 0.00801444]),\n",
              " 'test_f1': array([0.87412587, 0.92318645, 0.91635089, 0.89531463, 0.9020979 ]),\n",
              " 'test_precision': array([0.87412587, 0.92338898, 0.91698836, 0.89561654, 0.9020979 ]),\n",
              " 'test_recall': array([0.87412587, 0.92307692, 0.91608392, 0.8951049 , 0.9020979 ])}"
            ]
          },
          "metadata": {
            "tags": []
          },
          "execution_count": 46
        }
      ]
    },
    {
      "cell_type": "markdown",
      "metadata": {
        "id": "IBFPV0sbfZI7",
        "colab_type": "text"
      },
      "source": [
        "#**Оптимизация гиперпараметров**"
      ]
    },
    {
      "cell_type": "markdown",
      "metadata": {
        "id": "Q7p-cuHlflOV",
        "colab_type": "text"
      },
      "source": [
        "##**Grid Search**"
      ]
    },
    {
      "cell_type": "code",
      "metadata": {
        "id": "CYj-SP13fONs",
        "colab_type": "code",
        "outputId": "3b8648c9-9ff9-409f-daa1-becd627f25c8",
        "colab": {
          "base_uri": "https://localhost:8080/",
          "height": 34
        }
      },
      "source": [
        "n_range = np.array(range(1,15,1))\n",
        "tuned_parameters = [{'n_neighbors': n_range}]\n",
        "tuned_parameters"
      ],
      "execution_count": 47,
      "outputs": [
        {
          "output_type": "execute_result",
          "data": {
            "text/plain": [
              "[{'n_neighbors': array([ 1,  2,  3,  4,  5,  6,  7,  8,  9, 10, 11, 12, 13, 14])}]"
            ]
          },
          "metadata": {
            "tags": []
          },
          "execution_count": 47
        }
      ]
    },
    {
      "cell_type": "code",
      "metadata": {
        "id": "-0qTU_hfkmOY",
        "colab_type": "code",
        "outputId": "4d16a79e-9fc4-4eef-aa22-55f4979d0de6",
        "colab": {
          "base_uri": "https://localhost:8080/",
          "height": 51
        }
      },
      "source": [
        "%%time\n",
        "clf_gs = GridSearchCV(KNeighborsClassifier(), tuned_parameters, cv=5, scoring='accuracy')\n",
        "clf_gs.fit(cancer_X_train, cancer_y_train)\n"
      ],
      "execution_count": 48,
      "outputs": [
        {
          "output_type": "stream",
          "text": [
            "CPU times: user 284 ms, sys: 0 ns, total: 284 ms\n",
            "Wall time: 286 ms\n"
          ],
          "name": "stdout"
        }
      ]
    },
    {
      "cell_type": "code",
      "metadata": {
        "id": "RFnpqsc9krcq",
        "colab_type": "code",
        "outputId": "681ba768-33d5-4346-db9f-32ff57ee6c2a",
        "colab": {
          "base_uri": "https://localhost:8080/",
          "height": 969
        }
      },
      "source": [
        "clf_gs.cv_results_"
      ],
      "execution_count": 49,
      "outputs": [
        {
          "output_type": "execute_result",
          "data": {
            "text/plain": [
              "{'mean_fit_time': array([0.00091767, 0.00068064, 0.00072966, 0.0006598 , 0.00063391,\n",
              "        0.00063553, 0.00064073, 0.00064344, 0.00064263, 0.0006258 ,\n",
              "        0.00078754, 0.00063276, 0.0006557 , 0.00062914]),\n",
              " 'mean_score_time': array([0.0035708 , 0.00283265, 0.00283136, 0.00281153, 0.00283117,\n",
              "        0.00284863, 0.00284986, 0.00286865, 0.00285835, 0.0029449 ,\n",
              "        0.00350924, 0.00289102, 0.00313835, 0.0030261 ]),\n",
              " 'mean_test_score': array([0.92957393, 0.91898496, 0.94367168, 0.92957393, 0.94010025,\n",
              "        0.92957393, 0.93652882, 0.93652882, 0.94003759, 0.94003759,\n",
              "        0.93646617, 0.92938596, 0.93646617, 0.93295739]),\n",
              " 'param_n_neighbors': masked_array(data=[1, 2, 3, 4, 5, 6, 7, 8, 9, 10, 11, 12, 13, 14],\n",
              "              mask=[False, False, False, False, False, False, False, False,\n",
              "                    False, False, False, False, False, False],\n",
              "        fill_value='?',\n",
              "             dtype=object),\n",
              " 'params': [{'n_neighbors': 1},\n",
              "  {'n_neighbors': 2},\n",
              "  {'n_neighbors': 3},\n",
              "  {'n_neighbors': 4},\n",
              "  {'n_neighbors': 5},\n",
              "  {'n_neighbors': 6},\n",
              "  {'n_neighbors': 7},\n",
              "  {'n_neighbors': 8},\n",
              "  {'n_neighbors': 9},\n",
              "  {'n_neighbors': 10},\n",
              "  {'n_neighbors': 11},\n",
              "  {'n_neighbors': 12},\n",
              "  {'n_neighbors': 13},\n",
              "  {'n_neighbors': 14}],\n",
              " 'rank_test_score': array([10, 14,  1, 10,  2, 10,  5,  5,  3,  3,  7, 13,  7,  9],\n",
              "       dtype=int32),\n",
              " 'split0_test_score': array([0.94736842, 0.92982456, 0.92982456, 0.9122807 , 0.9122807 ,\n",
              "        0.89473684, 0.9122807 , 0.89473684, 0.92982456, 0.9122807 ,\n",
              "        0.92982456, 0.9122807 , 0.92982456, 0.89473684]),\n",
              " 'split1_test_score': array([0.85964912, 0.89473684, 0.92982456, 0.89473684, 0.92982456,\n",
              "        0.9122807 , 0.92982456, 0.94736842, 0.94736842, 0.96491228,\n",
              "        0.96491228, 0.96491228, 0.96491228, 0.96491228]),\n",
              " 'split2_test_score': array([0.94736842, 0.9122807 , 0.92982456, 0.92982456, 0.94736842,\n",
              "        0.92982456, 0.94736842, 0.94736842, 0.94736842, 0.94736842,\n",
              "        0.92982456, 0.92982456, 0.92982456, 0.94736842]),\n",
              " 'split3_test_score': array([0.96491228, 0.94736842, 0.98245614, 0.98245614, 0.98245614,\n",
              "        0.98245614, 0.98245614, 0.98245614, 0.96491228, 0.96491228,\n",
              "        0.96491228, 0.96491228, 0.96491228, 0.96491228]),\n",
              " 'split4_test_score': array([0.92857143, 0.91071429, 0.94642857, 0.92857143, 0.92857143,\n",
              "        0.92857143, 0.91071429, 0.91071429, 0.91071429, 0.91071429,\n",
              "        0.89285714, 0.875     , 0.89285714, 0.89285714]),\n",
              " 'std_fit_time': array([3.76610473e-04, 5.90961510e-05, 2.13793735e-04, 6.12221773e-05,\n",
              "        1.47576286e-05, 1.23597442e-05, 1.55660859e-05, 5.73276470e-06,\n",
              "        4.89681813e-06, 1.08917373e-05, 1.60704479e-04, 1.43487582e-05,\n",
              "        2.27533781e-05, 1.22273172e-05]),\n",
              " 'std_score_time': array([1.56505918e-03, 1.26920222e-04, 5.68428294e-05, 1.83978829e-05,\n",
              "        4.49721907e-05, 4.24842909e-05, 2.39946240e-05, 7.92736577e-05,\n",
              "        4.15167193e-05, 1.08722992e-04, 6.17235843e-04, 3.26452066e-05,\n",
              "        1.60448966e-04, 1.95010460e-04]),\n",
              " 'std_test_score': array([0.03680372, 0.01802465, 0.02043068, 0.02936077, 0.0239135 ,\n",
              "        0.02936077, 0.02655607, 0.03084566, 0.01838692, 0.02417247,\n",
              "        0.02686385, 0.03398486, 0.02686385, 0.03261517])}"
            ]
          },
          "metadata": {
            "tags": []
          },
          "execution_count": 49
        }
      ]
    },
    {
      "cell_type": "code",
      "metadata": {
        "id": "keqn4-HNk4xc",
        "colab_type": "code",
        "outputId": "abfd993d-57f4-4b3f-fe75-555e3a88a256",
        "colab": {
          "base_uri": "https://localhost:8080/",
          "height": 68
        }
      },
      "source": [
        "# Лучшая модель\n",
        "clf_gs.best_estimator_"
      ],
      "execution_count": 50,
      "outputs": [
        {
          "output_type": "execute_result",
          "data": {
            "text/plain": [
              "KNeighborsClassifier(algorithm='auto', leaf_size=30, metric='minkowski',\n",
              "                     metric_params=None, n_jobs=None, n_neighbors=3, p=2,\n",
              "                     weights='uniform')"
            ]
          },
          "metadata": {
            "tags": []
          },
          "execution_count": 50
        }
      ]
    },
    {
      "cell_type": "code",
      "metadata": {
        "id": "pf5ozQD_lGXt",
        "colab_type": "code",
        "outputId": "6fe91e66-bee7-4d0e-8a00-91285c172b89",
        "colab": {
          "base_uri": "https://localhost:8080/",
          "height": 34
        }
      },
      "source": [
        "clf_gs.best_score_"
      ],
      "execution_count": 51,
      "outputs": [
        {
          "output_type": "execute_result",
          "data": {
            "text/plain": [
              "0.9436716791979951"
            ]
          },
          "metadata": {
            "tags": []
          },
          "execution_count": 51
        }
      ]
    },
    {
      "cell_type": "code",
      "metadata": {
        "id": "2Knu2uUulV7N",
        "colab_type": "code",
        "outputId": "7079375e-ae61-488d-8d3e-6158bb4bbb7a",
        "colab": {
          "base_uri": "https://localhost:8080/",
          "height": 34
        }
      },
      "source": [
        "# Лучшее значение параметров\n",
        "clf_gs.best_params_"
      ],
      "execution_count": 52,
      "outputs": [
        {
          "output_type": "execute_result",
          "data": {
            "text/plain": [
              "{'n_neighbors': 3}"
            ]
          },
          "metadata": {
            "tags": []
          },
          "execution_count": 52
        }
      ]
    },
    {
      "cell_type": "code",
      "metadata": {
        "id": "J1YFhGvJlj-x",
        "colab_type": "code",
        "outputId": "de00f4bc-a52b-4828-dfd8-b27f8bf07ff2",
        "colab": {
          "base_uri": "https://localhost:8080/",
          "height": 285
        }
      },
      "source": [
        "# Изменение качества на тестовой выборке в зависимости от К-соседей\n",
        "plt.plot(n_range, clf_gs.cv_results_['mean_test_score'])"
      ],
      "execution_count": 53,
      "outputs": [
        {
          "output_type": "execute_result",
          "data": {
            "text/plain": [
              "[<matplotlib.lines.Line2D at 0x7fae0ceb89e8>]"
            ]
          },
          "metadata": {
            "tags": []
          },
          "execution_count": 53
        },
        {
          "output_type": "display_data",
          "data": {
            "image/png": "[encoded data removed]",
            "text/plain": [
              "<Figure size 432x288 with 1 Axes>"
            ]
          },
          "metadata": {
            "tags": [],
            "needs_background": "light"
          }
        }
      ]
    },
    {
      "cell_type": "markdown",
      "metadata": {
        "id": "3amyYDXYvgC9",
        "colab_type": "text"
      },
      "source": [
        "###**Grid search с стратегией KFold кросс-валидации**"
      ]
    },
    {
      "cell_type": "code",
      "metadata": {
        "id": "z501w2iylzrX",
        "colab_type": "code",
        "colab": {}
      },
      "source": [
        "kf = KFold(n_splits=10)"
      ],
      "execution_count": 0,
      "outputs": []
    },
    {
      "cell_type": "code",
      "metadata": {
        "id": "WvAoRYOXu_Js",
        "colab_type": "code",
        "outputId": "a0b54f68-ffcd-4995-af04-7daf495c40a8",
        "colab": {
          "base_uri": "https://localhost:8080/",
          "height": 51
        }
      },
      "source": [
        "%%time\n",
        "clf_gs = GridSearchCV(KNeighborsClassifier(), tuned_parameters, cv=kf, scoring='accuracy')\n",
        "clf_gs.fit(cancer_X_train, cancer_y_train)"
      ],
      "execution_count": 55,
      "outputs": [
        {
          "output_type": "stream",
          "text": [
            "CPU times: user 417 ms, sys: 731 µs, total: 418 ms\n",
            "Wall time: 422 ms\n"
          ],
          "name": "stdout"
        }
      ]
    },
    {
      "cell_type": "code",
      "metadata": {
        "id": "Qv99zlkFvDU5",
        "colab_type": "code",
        "outputId": "285873b6-c25c-4db4-c794-5f93e1c82b7f",
        "colab": {
          "base_uri": "https://localhost:8080/",
          "height": 1000
        }
      },
      "source": [
        "clf_gs.cv_results_"
      ],
      "execution_count": 56,
      "outputs": [
        {
          "output_type": "execute_result",
          "data": {
            "text/plain": [
              "{'mean_fit_time': array([0.00090547, 0.00074117, 0.00074036, 0.00093365, 0.00079889,\n",
              "        0.00076573, 0.00074391, 0.00074277, 0.00082159, 0.00091932,\n",
              "        0.00084972, 0.00090892, 0.00078335, 0.00074477]),\n",
              " 'mean_score_time': array([0.00185347, 0.00169189, 0.00166731, 0.00213156, 0.00170612,\n",
              "        0.00173016, 0.0016634 , 0.00166686, 0.00182595, 0.00206256,\n",
              "        0.00194466, 0.00201693, 0.00182531, 0.00173807]),\n",
              " 'mean_test_score': array([0.94371921, 0.92610837, 0.94014778, 0.94014778, 0.94384236,\n",
              "        0.93669951, 0.94371921, 0.94027094, 0.94371921, 0.94371921,\n",
              "        0.93657635, 0.9364532 , 0.9294335 , 0.93288177]),\n",
              " 'param_n_neighbors': masked_array(data=[1, 2, 3, 4, 5, 6, 7, 8, 9, 10, 11, 12, 13, 14],\n",
              "              mask=[False, False, False, False, False, False, False, False,\n",
              "                    False, False, False, False, False, False],\n",
              "        fill_value='?',\n",
              "             dtype=object),\n",
              " 'params': [{'n_neighbors': 1},\n",
              "  {'n_neighbors': 2},\n",
              "  {'n_neighbors': 3},\n",
              "  {'n_neighbors': 4},\n",
              "  {'n_neighbors': 5},\n",
              "  {'n_neighbors': 6},\n",
              "  {'n_neighbors': 7},\n",
              "  {'n_neighbors': 8},\n",
              "  {'n_neighbors': 9},\n",
              "  {'n_neighbors': 10},\n",
              "  {'n_neighbors': 11},\n",
              "  {'n_neighbors': 12},\n",
              "  {'n_neighbors': 13},\n",
              "  {'n_neighbors': 14}],\n",
              " 'rank_test_score': array([ 3, 14,  7,  7,  1,  9,  2,  6,  3,  3, 10, 11, 13, 12],\n",
              "       dtype=int32),\n",
              " 'split0_test_score': array([0.96551724, 0.96551724, 0.96551724, 0.93103448, 0.96551724,\n",
              "        0.96551724, 0.96551724, 0.96551724, 0.96551724, 0.96551724,\n",
              "        0.96551724, 0.96551724, 0.96551724, 0.96551724]),\n",
              " 'split1_test_score': array([0.93103448, 0.89655172, 0.82758621, 0.86206897, 0.86206897,\n",
              "        0.79310345, 0.86206897, 0.79310345, 0.86206897, 0.86206897,\n",
              "        0.86206897, 0.86206897, 0.86206897, 0.86206897]),\n",
              " 'split2_test_score': array([0.93103448, 0.93103448, 1.        , 1.        , 0.93103448,\n",
              "        0.96551724, 0.96551724, 0.96551724, 0.93103448, 0.93103448,\n",
              "        0.93103448, 0.96551724, 0.93103448, 0.96551724]),\n",
              " 'split3_test_score': array([0.93103448, 0.89655172, 0.96551724, 0.96551724, 0.96551724,\n",
              "        1.        , 0.96551724, 1.        , 1.        , 1.        ,\n",
              "        1.        , 1.        , 1.        , 1.        ]),\n",
              " 'split4_test_score': array([0.92857143, 0.89285714, 0.92857143, 0.92857143, 0.92857143,\n",
              "        0.92857143, 0.92857143, 0.92857143, 0.92857143, 0.92857143,\n",
              "        0.92857143, 0.92857143, 0.92857143, 0.92857143]),\n",
              " 'split5_test_score': array([0.96428571, 0.92857143, 0.92857143, 0.92857143, 0.96428571,\n",
              "        0.92857143, 0.96428571, 0.96428571, 0.96428571, 0.96428571,\n",
              "        0.92857143, 0.92857143, 0.92857143, 0.92857143]),\n",
              " 'split6_test_score': array([0.96428571, 1.        , 1.        , 1.        , 1.        ,\n",
              "        1.        , 1.        , 1.        , 1.        , 1.        ,\n",
              "        0.96428571, 0.96428571, 0.96428571, 0.96428571]),\n",
              " 'split7_test_score': array([0.96428571, 0.96428571, 0.96428571, 0.96428571, 0.96428571,\n",
              "        0.96428571, 0.96428571, 0.96428571, 0.96428571, 0.96428571,\n",
              "        0.96428571, 0.96428571, 0.96428571, 0.96428571]),\n",
              " 'split8_test_score': array([0.89285714, 0.89285714, 0.89285714, 0.92857143, 0.92857143,\n",
              "        0.92857143, 0.92857143, 0.92857143, 0.92857143, 0.92857143,\n",
              "        0.92857143, 0.92857143, 0.89285714, 0.89285714]),\n",
              " 'split9_test_score': array([0.96428571, 0.89285714, 0.92857143, 0.89285714, 0.92857143,\n",
              "        0.89285714, 0.89285714, 0.89285714, 0.89285714, 0.89285714,\n",
              "        0.89285714, 0.85714286, 0.85714286, 0.85714286]),\n",
              " 'std_fit_time': array([3.22154265e-04, 6.49448884e-06, 1.27236247e-05, 3.04639315e-04,\n",
              "        1.63417903e-04, 5.95168468e-05, 1.48803757e-05, 9.58264747e-06,\n",
              "        1.77362464e-04, 1.43622507e-04, 7.30205700e-05, 2.97646228e-04,\n",
              "        7.60436572e-05, 2.16525028e-05]),\n",
              " 'std_score_time': array([7.05335495e-04, 1.88612034e-04, 1.00456010e-04, 7.60400916e-04,\n",
              "        1.97849069e-04, 1.82424455e-04, 2.96341538e-05, 3.34536271e-05,\n",
              "        2.28638003e-04, 3.31914577e-04, 4.55744145e-05, 4.99183513e-04,\n",
              "        2.92333856e-04, 9.76586481e-05]),\n",
              " 'std_test_score': array([0.02337989, 0.03683069, 0.04933861, 0.04148327, 0.03532659,\n",
              "        0.05759862, 0.03892502, 0.05808906, 0.04186848, 0.04186848,\n",
              "        0.03752522, 0.04391633, 0.04451608, 0.0458229 ])}"
            ]
          },
          "metadata": {
            "tags": []
          },
          "execution_count": 56
        }
      ]
    },
    {
      "cell_type": "code",
      "metadata": {
        "id": "cKxBcsTdvF7-",
        "colab_type": "code",
        "outputId": "e2525ac2-2f98-469f-84f9-7cd9451c0aa7",
        "colab": {
          "base_uri": "https://localhost:8080/",
          "height": 68
        }
      },
      "source": [
        "# Лучшая модель\n",
        "clf_gs.best_estimator_"
      ],
      "execution_count": 57,
      "outputs": [
        {
          "output_type": "execute_result",
          "data": {
            "text/plain": [
              "KNeighborsClassifier(algorithm='auto', leaf_size=30, metric='minkowski',\n",
              "                     metric_params=None, n_jobs=None, n_neighbors=5, p=2,\n",
              "                     weights='uniform')"
            ]
          },
          "metadata": {
            "tags": []
          },
          "execution_count": 57
        }
      ]
    },
    {
      "cell_type": "code",
      "metadata": {
        "id": "H2ii-FcmvI8B",
        "colab_type": "code",
        "outputId": "9a426dff-f8ab-47fc-8b45-db075463e20f",
        "colab": {
          "base_uri": "https://localhost:8080/",
          "height": 34
        }
      },
      "source": [
        "clf_gs.best_score_"
      ],
      "execution_count": 58,
      "outputs": [
        {
          "output_type": "execute_result",
          "data": {
            "text/plain": [
              "0.9438423645320198"
            ]
          },
          "metadata": {
            "tags": []
          },
          "execution_count": 58
        }
      ]
    },
    {
      "cell_type": "code",
      "metadata": {
        "id": "GzqNLIWfvPsR",
        "colab_type": "code",
        "outputId": "244195c8-755c-49fe-f750-1f155a22ee42",
        "colab": {
          "base_uri": "https://localhost:8080/",
          "height": 34
        }
      },
      "source": [
        "# Лучшее значение параметров\n",
        "clf_gs.best_params_"
      ],
      "execution_count": 59,
      "outputs": [
        {
          "output_type": "execute_result",
          "data": {
            "text/plain": [
              "{'n_neighbors': 5}"
            ]
          },
          "metadata": {
            "tags": []
          },
          "execution_count": 59
        }
      ]
    },
    {
      "cell_type": "code",
      "metadata": {
        "id": "DiFZGSNsvUH2",
        "colab_type": "code",
        "outputId": "d9d9ad3c-94c3-4e1f-faeb-24da335a45dc",
        "colab": {
          "base_uri": "https://localhost:8080/",
          "height": 285
        }
      },
      "source": [
        "# Изменение качества на тестовой выборке в зависимости от К-соседей\n",
        "plt.plot(n_range, clf_gs.cv_results_['mean_test_score'])"
      ],
      "execution_count": 60,
      "outputs": [
        {
          "output_type": "execute_result",
          "data": {
            "text/plain": [
              "[<matplotlib.lines.Line2D at 0x7fae0ce2f2b0>]"
            ]
          },
          "metadata": {
            "tags": []
          },
          "execution_count": 60
        },
        {
          "output_type": "display_data",
          "data": {
            "image/png": "[encoded data removed]",
            "text/plain": [
              "<Figure size 432x288 with 1 Axes>"
            ]
          },
          "metadata": {
            "tags": [],
            "needs_background": "light"
          }
        }
      ]
    },
    {
      "cell_type": "markdown",
      "metadata": {
        "id": "fvVmazfRwevK",
        "colab_type": "text"
      },
      "source": [
        "#####**сравнивая качество модели между K = 5, K = 10**"
      ]
    },
    {
      "cell_type": "code",
      "metadata": {
        "id": "Nm8HsWBRvXjh",
        "colab_type": "code",
        "outputId": "852c8740-cc30-42ac-af29-35481647ad54",
        "colab": {
          "base_uri": "https://localhost:8080/",
          "height": 34
        }
      },
      "source": [
        "# 10 ближайших соседей\n",
        "accuracy_score(cancer_y_test, target1_2)"
      ],
      "execution_count": 61,
      "outputs": [
        {
          "output_type": "execute_result",
          "data": {
            "text/plain": [
              "0.9157894736842105"
            ]
          },
          "metadata": {
            "tags": []
          },
          "execution_count": 61
        }
      ]
    },
    {
      "cell_type": "code",
      "metadata": {
        "id": "AI8ocuEex1fb",
        "colab_type": "code",
        "outputId": "c24f50c3-c776-4bb0-9cfa-191e46c8c41e",
        "colab": {
          "base_uri": "https://localhost:8080/",
          "height": 34
        }
      },
      "source": [
        "# 4 ближайших соседей\n",
        "cl1_3 = KNeighborsClassifier(n_neighbors=5)\n",
        "cl1_3.fit(cancer_X_train, cancer_y_train)\n",
        "target1_3 = cl1_3.predict(cancer_X_test)\n",
        "accuracy_score(cancer_y_test, target1_3)"
      ],
      "execution_count": 62,
      "outputs": [
        {
          "output_type": "execute_result",
          "data": {
            "text/plain": [
              "0.9052631578947369"
            ]
          },
          "metadata": {
            "tags": []
          },
          "execution_count": 62
        }
      ]
    },
    {
      "cell_type": "markdown",
      "metadata": {
        "id": "cKbvGmUJ0V30",
        "colab_type": "text"
      },
      "source": [
        "В этом тестовом наборе данных мы отмечаем, что K = 10 лучше, чем K = 5, хотя при поиске по сетке K = 5 является лучшим выбором.\n",
        "Это происходит из-за выбора конкретного набора тестовых данных, но в целом K = 5 будет лучше."
      ]
    },
    {
      "cell_type": "markdown",
      "metadata": {
        "id": "zK1bAufS1I4A",
        "colab_type": "text"
      },
      "source": [
        "#**Построение кривых обучения и валидации**"
      ]
    },
    {
      "cell_type": "markdown",
      "metadata": {
        "id": "pQnrlNfT1OTP",
        "colab_type": "text"
      },
      "source": [
        "##**Построение кривых обучения - learning_curve**"
      ]
    },
    {
      "cell_type": "code",
      "metadata": {
        "id": "etuyWeJNybLb",
        "colab_type": "code",
        "colab": {}
      },
      "source": [
        "def plot_learning_curve(estimator, title, X, y, ylim=None, cv=None,\n",
        "                        n_jobs=None, train_sizes=np.linspace(.1, 1.0, 5)):\n",
        "    \"\"\"\n",
        "    Generate a simple plot of the test and training learning curve.\n",
        "\n",
        "    Parameters\n",
        "    ----------\n",
        "    estimator : object type that implements the \"fit\" and \"predict\" methods\n",
        "        An object of that type which is cloned for each validation.\n",
        "\n",
        "    title : string\n",
        "        Title for the chart.\n",
        "\n",
        "    X : array-like, shape (n_samples, n_features)\n",
        "        Training vector, where n_samples is the number of samples and\n",
        "        n_features is the number of features.\n",
        "\n",
        "    y : array-like, shape (n_samples) or (n_samples, n_features), optional\n",
        "        Target relative to X for classification or regression;\n",
        "        None for unsupervised learning.\n",
        "\n",
        "    ylim : tuple, shape (ymin, ymax), optional\n",
        "        Defines minimum and maximum yvalues plotted.\n",
        "\n",
        "    cv : int, cross-validation generator or an iterable, optional\n",
        "        Determines the cross-validation splitting strategy.\n",
        "        Possible inputs for cv are:\n",
        "          - None, to use the default 3-fold cross-validation,\n",
        "          - integer, to specify the number of folds.\n",
        "          - :term:`CV splitter`,\n",
        "          - An iterable yielding (train, test) splits as arrays of indices.\n",
        "\n",
        "        For integer/None inputs, if ``y`` is binary or multiclass,\n",
        "        :class:`StratifiedKFold` used. If the estimator is not a classifier\n",
        "        or if ``y`` is neither binary nor multiclass, :class:`KFold` is used.\n",
        "\n",
        "        Refer :ref:`User Guide <cross_validation>` for the various\n",
        "        cross-validators that can be used here.\n",
        "\n",
        "    n_jobs : int or None, optional (default=None)\n",
        "        Number of jobs to run in parallel.\n",
        "        ``None`` means 1 unless in a :obj:`joblib.parallel_backend` context.\n",
        "        ``-1`` means using all processors. See :term:`Glossary <n_jobs>`\n",
        "        for more details.\n",
        "\n",
        "    train_sizes : array-like, shape (n_ticks,), dtype float or int\n",
        "        Relative or absolute numbers of training examples that will be used to\n",
        "        generate the learning curve. If the dtype is float, it is regarded as a\n",
        "        fraction of the maximum size of the training set (that is determined\n",
        "        by the selected validation method), i.e. it has to be within (0, 1].\n",
        "        Otherwise it is interpreted as absolute sizes of the training sets.\n",
        "        Note that for classification the number of samples usually have to\n",
        "        be big enough to contain at least one sample from each class.\n",
        "        (default: np.linspace(0.1, 1.0, 5))\n",
        "    \"\"\"\n",
        "    plt.figure()\n",
        "    plt.title(title)\n",
        "    if ylim is not None:\n",
        "        plt.ylim(*ylim)\n",
        "    plt.xlabel(\"Training examples\")\n",
        "    plt.ylabel(\"Score\")\n",
        "    train_sizes, train_scores, test_scores = learning_curve(\n",
        "        estimator, X, y, cv=cv, n_jobs=n_jobs, train_sizes=train_sizes)\n",
        "    train_scores_mean = np.mean(train_scores, axis=1)\n",
        "    train_scores_std = np.std(train_scores, axis=1)\n",
        "    test_scores_mean = np.mean(test_scores, axis=1)\n",
        "    test_scores_std = np.std(test_scores, axis=1)\n",
        "    plt.grid()\n",
        "\n",
        "    plt.fill_between(train_sizes, train_scores_mean - train_scores_std,\n",
        "                     train_scores_mean + train_scores_std, alpha=0.3,\n",
        "                     color=\"r\")\n",
        "    plt.fill_between(train_sizes, test_scores_mean - test_scores_std,\n",
        "                     test_scores_mean + test_scores_std, alpha=0.1, color=\"g\")\n",
        "    plt.plot(train_sizes, train_scores_mean, 'o-', color=\"r\",\n",
        "             label=\"Training score\")\n",
        "    plt.plot(train_sizes, test_scores_mean, 'o-', color=\"g\",\n",
        "             label=\"Cross-validation score\")\n",
        "\n",
        "    plt.legend(loc=\"best\")\n",
        "    return plt"
      ],
      "execution_count": 0,
      "outputs": []
    },
    {
      "cell_type": "code",
      "metadata": {
        "id": "0gcdJteu1mdF",
        "colab_type": "code",
        "outputId": "be1eef74-9c20-4399-d1fc-45e09942df76",
        "colab": {
          "base_uri": "https://localhost:8080/",
          "height": 318
        }
      },
      "source": [
        "plot_learning_curve(KNeighborsClassifier(n_neighbors=5), 'n_neighbors=5', \n",
        "                    cancer_X_train, cancer_y_train, cv=20)\n"
      ],
      "execution_count": 64,
      "outputs": [
        {
          "output_type": "execute_result",
          "data": {
            "text/plain": [
              "<module 'matplotlib.pyplot' from '/usr/local/lib/python3.6/dist-packages/matplotlib/pyplot.py'>"
            ]
          },
          "metadata": {
            "tags": []
          },
          "execution_count": 64
        },
        {
          "output_type": "display_data",
          "data": {
            "image/png": "[encoded data removed]",
            "text/plain": [
              "<Figure size 432x288 with 1 Axes>"
            ]
          },
          "metadata": {
            "tags": [],
            "needs_background": "light"
          }
        }
      ]
    },
    {
      "cell_type": "markdown",
      "metadata": {
        "id": "UCxtWNou14I3",
        "colab_type": "text"
      },
      "source": [
        "##**Построение кривой валидации - validation_curve**"
      ]
    },
    {
      "cell_type": "code",
      "metadata": {
        "id": "69JGL6Xn1pX2",
        "colab_type": "code",
        "colab": {}
      },
      "source": [
        "def plot_validation_curve(estimator, title, X, y, \n",
        "                          param_name, param_range, cv, \n",
        "                          scoring=\"accuracy\"):\n",
        "                                                   \n",
        "    train_scores, test_scores = validation_curve(\n",
        "        estimator, X, y, param_name=param_name, param_range=param_range,\n",
        "        cv=cv, scoring=scoring, n_jobs=1)\n",
        "    train_scores_mean = np.mean(train_scores, axis=1)\n",
        "    train_scores_std = np.std(train_scores, axis=1)\n",
        "    test_scores_mean = np.mean(test_scores, axis=1)\n",
        "    test_scores_std = np.std(test_scores, axis=1)\n",
        "\n",
        "    plt.title(title)\n",
        "    plt.xlabel(param_name)\n",
        "    plt.ylabel(str(scoring))\n",
        "    plt.ylim(0.0, 1.1)\n",
        "    lw = 2\n",
        "    plt.plot(param_range, train_scores_mean, label=\"Training score\",\n",
        "                 color=\"darkorange\", lw=lw)\n",
        "    plt.fill_between(param_range, train_scores_mean - train_scores_std,\n",
        "                     train_scores_mean + train_scores_std, alpha=0.4,\n",
        "                     color=\"darkorange\", lw=lw)\n",
        "    plt.plot(param_range, test_scores_mean, label=\"Cross-validation score\",\n",
        "                 color=\"navy\", lw=lw)\n",
        "    plt.fill_between(param_range, test_scores_mean - test_scores_std,\n",
        "                     test_scores_mean + test_scores_std, alpha=0.2,\n",
        "                     color=\"navy\", lw=lw)\n",
        "    plt.legend(loc=\"best\")\n",
        "    return plt"
      ],
      "execution_count": 0,
      "outputs": []
    },
    {
      "cell_type": "code",
      "metadata": {
        "id": "PVNeoMIk2AHA",
        "colab_type": "code",
        "outputId": "60aade3c-668b-4e76-dffb-178f3f337fb4",
        "colab": {
          "base_uri": "https://localhost:8080/",
          "height": 318
        }
      },
      "source": [
        "plot_validation_curve(KNeighborsClassifier(), 'knn', \n",
        "                      cancer_X_train, cancer_y_train, \n",
        "                      param_name='n_neighbors', param_range=n_range, \n",
        "                      cv=20, scoring=\"accuracy\")"
      ],
      "execution_count": 66,
      "outputs": [
        {
          "output_type": "execute_result",
          "data": {
            "text/plain": [
              "<module 'matplotlib.pyplot' from '/usr/local/lib/python3.6/dist-packages/matplotlib/pyplot.py'>"
            ]
          },
          "metadata": {
            "tags": []
          },
          "execution_count": 66
        },
        {
          "output_type": "display_data",
          "data": {
            "image/png": "[encoded data removed]",
            "text/plain": [
              "<Figure size 432x288 with 1 Axes>"
            ]
          },
          "metadata": {
            "tags": [],
            "needs_background": "light"
          }
        }
      ]
    },
    {
      "cell_type": "code",
      "metadata": {
        "id": "WLR3fwcp2FOJ",
        "colab_type": "code",
        "colab": {}
      },
      "source": [
        ""
      ],
      "execution_count": 0,
      "outputs": []
    }
  ]
}