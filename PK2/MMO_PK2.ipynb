{
  "nbformat": 4,
  "nbformat_minor": 0,
  "metadata": {
    "colab": {
      "name": "MMO_PK2.ipynb",
      "provenance": [],
      "collapsed_sections": [],
      "authorship_tag": "ABX9TyP1HLNbMrEJ4iPxeNst9UVr",
      "include_colab_link": true
    },
    "kernelspec": {
      "name": "python3",
      "display_name": "Python 3"
    }
  },
  "cells": [
    {
      "cell_type": "markdown",
      "metadata": {
        "id": "view-in-github",
        "colab_type": "text"
      },
      "source": [
        "<a href=\"https://colab.research.google.com/github/ahmadalideeb/machine-learning/blob/master/PK2/MMO_PK2.ipynb\" target=\"_parent\"><img src=\"https://colab.research.google.com/assets/colab-badge.svg\" alt=\"Open In Colab\"/></a>"
      ]
    },
    {
      "cell_type": "markdown",
      "metadata": {
        "id": "hoOfKjM3TPdf",
        "colab_type": "text"
      },
      "source": [
        "#Цель работы\n",
        "Классификация текстов на арабском языке с использованием разных видов классификаторов нормальных и наивных байесовских классификаторов."
      ]
    },
    {
      "cell_type": "markdown",
      "metadata": {
        "id": "dg7Tza6lWIv0",
        "colab_type": "text"
      },
      "source": [
        "#Набор данных\n",
        "Набор данных представляет собой коллекцию арабских текстов, которая охватывает твит арабских людей в Twitter.\n",
        "\n",
        "Набор данных состоит из 9694 твитов и 246 872 слов, структурированных в текстовые файлы.\n",
        "\n",
        "Документы в наборе данных делятся на 4 класса: объективные, положительные, отрицательные, нейтральные."
      ]
    },
    {
      "cell_type": "code",
      "metadata": {
        "id": "FYuQwd1wjz_7",
        "colab_type": "code",
        "outputId": "5e6d5a96-cafe-4fb3-a66c-700d5fd4991f",
        "colab": {
          "base_uri": "https://localhost:8080/",
          "height": 71
        }
      },
      "source": [
        "import numpy as np\n",
        "import pandas as pd\n",
        "from typing import Dict, Tuple\n",
        "from scipy import stats\n",
        "from IPython.display import Image\n",
        "from sklearn.datasets import load_iris, load_boston\n",
        "from sklearn.feature_extraction.text import CountVectorizer, TfidfVectorizer\n",
        "from sklearn.model_selection import train_test_split\n",
        "from sklearn.neighbors import KNeighborsRegressor, KNeighborsClassifier\n",
        "from sklearn.linear_model import LogisticRegression\n",
        "from sklearn.model_selection import GridSearchCV, RandomizedSearchCV\n",
        "from sklearn.metrics import accuracy_score, balanced_accuracy_score\n",
        "from sklearn.metrics import precision_score, recall_score, f1_score, classification_report\n",
        "from sklearn.metrics import confusion_matrix\n",
        "from sklearn.model_selection import cross_val_score\n",
        "from sklearn.pipeline import Pipeline\n",
        "from sklearn.metrics import mean_absolute_error, mean_squared_error, mean_squared_log_error, median_absolute_error, r2_score \n",
        "from sklearn.metrics import roc_curve, roc_auc_score\n",
        "from sklearn.naive_bayes import GaussianNB, MultinomialNB, ComplementNB, BernoulliNB\n",
        "from sklearn.svm import SVC, NuSVC, LinearSVC, OneClassSVM, SVR, NuSVR, LinearSVR\n",
        "import seaborn as sns\n",
        "from sklearn.metrics import confusion_matrix\n",
        "from sklearn.metrics import plot_confusion_matrix\n",
        "import matplotlib.pyplot as plt\n",
        "%matplotlib inline \n",
        "sns.set(style=\"ticks\")\n",
        "import warnings\n",
        "warnings.filterwarnings(\"ignore\")"
      ],
      "execution_count": 1,
      "outputs": [
        {
          "output_type": "stream",
          "text": [
            "/usr/local/lib/python3.6/dist-packages/statsmodels/tools/_testing.py:19: FutureWarning: pandas.util.testing is deprecated. Use the functions in the public API at pandas.testing instead.\n",
            "  import pandas.util.testing as tm\n"
          ],
          "name": "stderr"
        }
      ]
    },
    {
      "cell_type": "code",
      "metadata": {
        "id": "mQQGh37nmTVA",
        "colab_type": "code",
        "colab": {}
      },
      "source": [
        "def accuracy_score_for_classes(\n",
        "    y_true: np.ndarray, \n",
        "    y_pred: np.ndarray) -> Dict[int, float]:\n",
        "    \"\"\"\n",
        "    Вычисление метрики accuracy для каждого класса\n",
        "    y_true - истинные значения классов\n",
        "    y_pred - предсказанные значения классов\n",
        "    Возвращает словарь: ключ - метка класса, \n",
        "    значение - Accuracy для данного класса\n",
        "    \"\"\"\n",
        "    # Для удобства фильтрации сформируем Pandas DataFrame \n",
        "    d = {'t': y_true, 'p': y_pred}\n",
        "    df = pd.DataFrame(data=d)\n",
        "    # Метки классов\n",
        "    classes = np.unique(y_true)\n",
        "    # Результирующий словарь\n",
        "    res = dict()\n",
        "    # Перебор меток классов\n",
        "    for c in classes:\n",
        "        # отфильтруем данные, которые соответствуют \n",
        "        # текущей метке класса в истинных значениях\n",
        "        temp_data_flt = df[df['t']==c]\n",
        "        # расчет accuracy для заданной метки класса\n",
        "        temp_acc = accuracy_score(\n",
        "            temp_data_flt['t'].values, \n",
        "            temp_data_flt['p'].values)\n",
        "        temp_f1=f1_score(temp_data_flt['t'].values, \n",
        "            temp_data_flt['p'].values,average='weighted')\n",
        "        # сохранение результата в словарь\n",
        "        res[c] = (temp_acc,temp_f1)\n",
        "    return res\n",
        "\n",
        "def print_accuracy_score_for_classes(\n",
        "    y_true: np.ndarray, \n",
        "    y_pred: np.ndarray):\n",
        "    \"\"\"\n",
        "    Вывод метрики accuracy для каждого класса\n",
        "    \"\"\"\n",
        "    accs = accuracy_score_for_classes(y_true, y_pred)\n",
        "    if len(accs)>0:\n",
        "        print('Метка \\t \\t  Accuracy \\t \\t \\t f1_score')\n",
        "    for i in accs:\n",
        "        if i != 'NEUTRAL':\n",
        "          print('{} \\t \\t {} \\t \\t {}'.format(i, accs[i][0],accs[i][1]))\n",
        "        else:\n",
        "          print('NEUT \\t \\t {} \\t \\t {}'.format(accs[i][0],accs[i][1]))"
      ],
      "execution_count": 0,
      "outputs": []
    },
    {
      "cell_type": "code",
      "metadata": {
        "id": "rAAxJKixmeIr",
        "colab_type": "code",
        "outputId": "134e9b9a-bdaf-41e3-cf4b-7bb711d6ebba",
        "colab": {
          "base_uri": "https://localhost:8080/",
          "height": 204
        }
      },
      "source": [
        "# Загрузка данных\n",
        "data = pd.read_csv('/content/gdrive/My Drive/Tweets.txt', delimiter='\\t',header=None, names=['text', 'target'], error_bad_lines=False)\n",
        "data.head()"
      ],
      "execution_count": 3,
      "outputs": [
        {
          "output_type": "execute_result",
          "data": {
            "text/html": [
              "<div>\n",
              "<style scoped>\n",
              "    .dataframe tbody tr th:only-of-type {\n",
              "        vertical-align: middle;\n",
              "    }\n",
              "\n",
              "    .dataframe tbody tr th {\n",
              "        vertical-align: top;\n",
              "    }\n",
              "\n",
              "    .dataframe thead th {\n",
              "        text-align: right;\n",
              "    }\n",
              "</style>\n",
              "<table border=\"1\" class=\"dataframe\">\n",
              "  <thead>\n",
              "    <tr style=\"text-align: right;\">\n",
              "      <th></th>\n",
              "      <th>text</th>\n",
              "      <th>target</th>\n",
              "    </tr>\n",
              "  </thead>\n",
              "  <tbody>\n",
              "    <tr>\n",
              "      <th>0</th>\n",
              "      <td>بعد استقالة رئيس #المحكمة_الدستورية ننتظر استق...</td>\n",
              "      <td>OBJ</td>\n",
              "    </tr>\n",
              "    <tr>\n",
              "      <th>1</th>\n",
              "      <td>أهنئ الدكتور أحمد جمال الدين، القيادي بحزب مصر...</td>\n",
              "      <td>POS</td>\n",
              "    </tr>\n",
              "    <tr>\n",
              "      <th>2</th>\n",
              "      <td>البرادعي يستقوى بامريكا مرةاخرى و يرسل عصام ال...</td>\n",
              "      <td>NEG</td>\n",
              "    </tr>\n",
              "    <tr>\n",
              "      <th>3</th>\n",
              "      <td>#الحرية_والعدالة | شاهد الآن: #ليلة_الاتحادية ...</td>\n",
              "      <td>OBJ</td>\n",
              "    </tr>\n",
              "    <tr>\n",
              "      <th>4</th>\n",
              "      <td>الوالدة لو اقولها بخاطري حشيشة تضحك بس من اقول...</td>\n",
              "      <td>NEUTRAL</td>\n",
              "    </tr>\n",
              "  </tbody>\n",
              "</table>\n",
              "</div>"
            ],
            "text/plain": [
              "                                                text   target\n",
              "0  بعد استقالة رئيس #المحكمة_الدستورية ننتظر استق...      OBJ\n",
              "1  أهنئ الدكتور أحمد جمال الدين، القيادي بحزب مصر...      POS\n",
              "2  البرادعي يستقوى بامريكا مرةاخرى و يرسل عصام ال...      NEG\n",
              "3  #الحرية_والعدالة | شاهد الآن: #ليلة_الاتحادية ...      OBJ\n",
              "4  الوالدة لو اقولها بخاطري حشيشة تضحك بس من اقول...  NEUTRAL"
            ]
          },
          "metadata": {
            "tags": []
          },
          "execution_count": 3
        }
      ]
    },
    {
      "cell_type": "markdown",
      "metadata": {
        "id": "hfifDU_sWTzz",
        "colab_type": "text"
      },
      "source": [
        "Количество строки в нашем наборе данных:"
      ]
    },
    {
      "cell_type": "code",
      "metadata": {
        "id": "eR1TWksh_zOy",
        "colab_type": "code",
        "colab": {
          "base_uri": "https://localhost:8080/",
          "height": 34
        },
        "outputId": "a7eb76f5-12ad-41e0-a6e2-e154267b4455"
      },
      "source": [
        "data.shape"
      ],
      "execution_count": 4,
      "outputs": [
        {
          "output_type": "execute_result",
          "data": {
            "text/plain": [
              "(9694, 2)"
            ]
          },
          "metadata": {
            "tags": []
          },
          "execution_count": 4
        }
      ]
    },
    {
      "cell_type": "code",
      "metadata": {
        "id": "lHcCiioPUN8z",
        "colab_type": "code",
        "colab": {
          "base_uri": "https://localhost:8080/",
          "height": 68
        },
        "outputId": "ab017e0b-afa5-44ac-f755-56dba9d75912"
      },
      "source": [
        "data.count()"
      ],
      "execution_count": 5,
      "outputs": [
        {
          "output_type": "execute_result",
          "data": {
            "text/plain": [
              "text      9694\n",
              "target    9694\n",
              "dtype: int64"
            ]
          },
          "metadata": {
            "tags": []
          },
          "execution_count": 5
        }
      ]
    },
    {
      "cell_type": "code",
      "metadata": {
        "id": "B-gQm_6luLG8",
        "colab_type": "code",
        "outputId": "68e01cb5-4761-423c-a0fb-6d1914ebfb00",
        "colab": {
          "base_uri": "https://localhost:8080/",
          "height": 102
        }
      },
      "source": [
        "data.target.value_counts()"
      ],
      "execution_count": 6,
      "outputs": [
        {
          "output_type": "execute_result",
          "data": {
            "text/plain": [
              "OBJ        6470\n",
              "NEG        1642\n",
              "NEUTRAL     805\n",
              "POS         777\n",
              "Name: target, dtype: int64"
            ]
          },
          "metadata": {
            "tags": []
          },
          "execution_count": 6
        }
      ]
    },
    {
      "cell_type": "code",
      "metadata": {
        "id": "pyty0pLjs2T-",
        "colab_type": "code",
        "outputId": "079d20e9-c6e3-4255-a95d-5d1c7ca36d0d",
        "colab": {
          "base_uri": "https://localhost:8080/",
          "height": 204
        }
      },
      "source": [
        "data.head()"
      ],
      "execution_count": 7,
      "outputs": [
        {
          "output_type": "execute_result",
          "data": {
            "text/html": [
              "<div>\n",
              "<style scoped>\n",
              "    .dataframe tbody tr th:only-of-type {\n",
              "        vertical-align: middle;\n",
              "    }\n",
              "\n",
              "    .dataframe tbody tr th {\n",
              "        vertical-align: top;\n",
              "    }\n",
              "\n",
              "    .dataframe thead th {\n",
              "        text-align: right;\n",
              "    }\n",
              "</style>\n",
              "<table border=\"1\" class=\"dataframe\">\n",
              "  <thead>\n",
              "    <tr style=\"text-align: right;\">\n",
              "      <th></th>\n",
              "      <th>text</th>\n",
              "      <th>target</th>\n",
              "    </tr>\n",
              "  </thead>\n",
              "  <tbody>\n",
              "    <tr>\n",
              "      <th>0</th>\n",
              "      <td>بعد استقالة رئيس #المحكمة_الدستورية ننتظر استق...</td>\n",
              "      <td>OBJ</td>\n",
              "    </tr>\n",
              "    <tr>\n",
              "      <th>1</th>\n",
              "      <td>أهنئ الدكتور أحمد جمال الدين، القيادي بحزب مصر...</td>\n",
              "      <td>POS</td>\n",
              "    </tr>\n",
              "    <tr>\n",
              "      <th>2</th>\n",
              "      <td>البرادعي يستقوى بامريكا مرةاخرى و يرسل عصام ال...</td>\n",
              "      <td>NEG</td>\n",
              "    </tr>\n",
              "    <tr>\n",
              "      <th>3</th>\n",
              "      <td>#الحرية_والعدالة | شاهد الآن: #ليلة_الاتحادية ...</td>\n",
              "      <td>OBJ</td>\n",
              "    </tr>\n",
              "    <tr>\n",
              "      <th>4</th>\n",
              "      <td>الوالدة لو اقولها بخاطري حشيشة تضحك بس من اقول...</td>\n",
              "      <td>NEUTRAL</td>\n",
              "    </tr>\n",
              "  </tbody>\n",
              "</table>\n",
              "</div>"
            ],
            "text/plain": [
              "                                                text   target\n",
              "0  بعد استقالة رئيس #المحكمة_الدستورية ننتظر استق...      OBJ\n",
              "1  أهنئ الدكتور أحمد جمال الدين، القيادي بحزب مصر...      POS\n",
              "2  البرادعي يستقوى بامريكا مرةاخرى و يرسل عصام ال...      NEG\n",
              "3  #الحرية_والعدالة | شاهد الآن: #ليلة_الاتحادية ...      OBJ\n",
              "4  الوالدة لو اقولها بخاطري حشيشة تضحك بس من اقول...  NEUTRAL"
            ]
          },
          "metadata": {
            "tags": []
          },
          "execution_count": 7
        }
      ]
    },
    {
      "cell_type": "code",
      "metadata": {
        "id": "-CfgoMXvtHdB",
        "colab_type": "code",
        "outputId": "bc472700-4d57-4cf6-8725-708c8db6d32d",
        "colab": {
          "base_uri": "https://localhost:8080/",
          "height": 170
        }
      },
      "source": [
        "# Сформируем общий словарь для обучения моделей из обучающей и тестовой выборки\n",
        "vocab_list = data['text'].tolist()\n",
        "vocab_list[1:10]"
      ],
      "execution_count": 8,
      "outputs": [
        {
          "output_type": "execute_result",
          "data": {
            "text/plain": [
              "['أهنئ الدكتور أحمد جمال الدين، القيادي بحزب مصر، بمناسبة صدور أولى روايته',\n",
              " 'البرادعي يستقوى بامريكا مرةاخرى و يرسل عصام العريان الي واشنطن شئ مقرف',\n",
              " '#الحرية_والعدالة | شاهد الآن: #ليلة_الاتحادية أول فيلم استقصائي يتناول أسرار و كواليس تعرض لأول مرة حول حقيقة',\n",
              " 'الوالدة لو اقولها بخاطري حشيشة تضحك بس من اقولها ملل الله وكيلك تعطيني محاضرة عن الفسق والفجور بجنوب الشيشان #ليه كذا يانبع الحنان',\n",
              " '#انتخبوا_العرص #انتخبوا_البرص #مرسى_رئيسى #اين_رئيسى #_ #__ö',\n",
              " 'امير عيد هو اللي فعلا يتقال عليه ستريكر صريح #كاريوكي #السكة_شمال',\n",
              " 'أحكي لكم قصة حدثت بين شاب و أحد الفتيات كان بينهم حب كبير ولكن حدثت غلطة واحدة؟ فهل ستستمر هذه القصة ويتم',\n",
              " 'أدعوكم لحضور الندوة الثقافية الأربعاء مركز اعداد القادة التفاصيل',\n",
              " 'عودة جماعة الإخوان إلى الحياة السياسية بنفس وضعها السابق مستحيلة والطرمخة على جرائم الماضي لن تجعلنا نتقدم شبرا']"
            ]
          },
          "metadata": {
            "tags": []
          },
          "execution_count": 8
        }
      ]
    },
    {
      "cell_type": "markdown",
      "metadata": {
        "id": "XXsoGwBkWcm2",
        "colab_type": "text"
      },
      "source": [
        "Количество уникальных слов в наборе данных."
      ]
    },
    {
      "cell_type": "code",
      "metadata": {
        "id": "AfnPb8NIvNig",
        "colab_type": "code",
        "outputId": "0a99703f-0429-444c-96a9-a2721c6a45d1",
        "colab": {
          "base_uri": "https://localhost:8080/",
          "height": 34
        }
      },
      "source": [
        "vocabVect = CountVectorizer()\n",
        "vocabVect.fit(vocab_list)\n",
        "corpusVocab = vocabVect.vocabulary_\n",
        "print('Количество сформированных признаков - {}'.format(len(corpusVocab)))"
      ],
      "execution_count": 9,
      "outputs": [
        {
          "output_type": "stream",
          "text": [
            "Количество сформированных признаков - 37561\n"
          ],
          "name": "stdout"
        }
      ]
    },
    {
      "cell_type": "markdown",
      "metadata": {
        "id": "TJaq7yGxWjh2",
        "colab_type": "text"
      },
      "source": [
        "Примеры некоторых слов, взятых из набора данных с их частотами."
      ]
    },
    {
      "cell_type": "code",
      "metadata": {
        "id": "pEFkruyhvWaL",
        "colab_type": "code",
        "outputId": "0bce9310-59d4-42a7-ceb4-0db58dbc5002",
        "colab": {
          "base_uri": "https://localhost:8080/",
          "height": 170
        }
      },
      "source": [
        "for i in list(corpusVocab)[1:10]:\n",
        "    print('{}={}'.format(i, corpusVocab[i]))"
      ],
      "execution_count": 10,
      "outputs": [
        {
          "output_type": "stream",
          "text": [
            "استقالة=3491\n",
            "رئيس=18456\n",
            "المحكمة_الدستورية=9298\n",
            "ننتظر=30067\n",
            "رئيس_القضاء=18457\n",
            "السودان=7272\n",
            "أهنئ=1942\n",
            "الدكتور=6675\n",
            "أحمد=977\n"
          ],
          "name": "stdout"
        }
      ]
    },
    {
      "cell_type": "code",
      "metadata": {
        "id": "Ih6Qj25J2G9X",
        "colab_type": "code",
        "colab": {}
      },
      "source": [
        "test_features = vocabVect.transform(vocab_list)"
      ],
      "execution_count": 0,
      "outputs": []
    },
    {
      "cell_type": "code",
      "metadata": {
        "id": "vjUPYLvI3vhg",
        "colab_type": "code",
        "outputId": "bf8f5deb-25ec-4249-a9ea-cd4226be2806",
        "colab": {
          "base_uri": "https://localhost:8080/",
          "height": 357
        }
      },
      "source": [
        "vocabVect.get_feature_names()[100:120]"
      ],
      "execution_count": 12,
      "outputs": [
        {
          "output_type": "execute_result",
          "data": {
            "text/plain": [
              "['14آذار',\n",
              " '15',\n",
              " '150',\n",
              " '151',\n",
              " '1515',\n",
              " '153',\n",
              " '1540',\n",
              " '155',\n",
              " '157',\n",
              " '15سنة',\n",
              " '15على',\n",
              " '16',\n",
              " '1615445',\n",
              " '1620995',\n",
              " '168',\n",
              " '16طالبا',\n",
              " '17',\n",
              " '172',\n",
              " '173',\n",
              " '1735']"
            ]
          },
          "metadata": {
            "tags": []
          },
          "execution_count": 12
        }
      ]
    },
    {
      "cell_type": "code",
      "metadata": {
        "id": "wWbzDVhf3ygt",
        "colab_type": "code",
        "outputId": "ee595636-35a4-4584-d538-f0c80a42abc0",
        "colab": {
          "base_uri": "https://localhost:8080/",
          "height": 51
        }
      },
      "source": [
        "ncv = CountVectorizer(ngram_range=(1,3))\n",
        "ngram_features = ncv.fit_transform(vocab_list)\n",
        "ngram_features"
      ],
      "execution_count": 13,
      "outputs": [
        {
          "output_type": "execute_result",
          "data": {
            "text/plain": [
              "<9694x246872 sparse matrix of type '<class 'numpy.int64'>'\n",
              "\twith 369945 stored elements in Compressed Sparse Row format>"
            ]
          },
          "metadata": {
            "tags": []
          },
          "execution_count": 13
        }
      ]
    },
    {
      "cell_type": "code",
      "metadata": {
        "id": "_RSMgerb7BEa",
        "colab_type": "code",
        "outputId": "ec3c8161-36ee-4e21-a05a-d00aa4142b84",
        "colab": {
          "base_uri": "https://localhost:8080/",
          "height": 34
        }
      },
      "source": [
        "len(ncv.get_feature_names())"
      ],
      "execution_count": 14,
      "outputs": [
        {
          "output_type": "execute_result",
          "data": {
            "text/plain": [
              "246872"
            ]
          },
          "metadata": {
            "tags": []
          },
          "execution_count": 14
        }
      ]
    },
    {
      "cell_type": "code",
      "metadata": {
        "id": "OquY7wMG7FpX",
        "colab_type": "code",
        "outputId": "962912c9-c360-4b48-a2a4-71d6524cb24e",
        "colab": {
          "base_uri": "https://localhost:8080/",
          "height": 510
        }
      },
      "source": [
        "# Теперь признаками являются N-граммы\n",
        "ncv.get_feature_names()[1:30]"
      ],
      "execution_count": 15,
      "outputs": [
        {
          "output_type": "execute_result",
          "data": {
            "text/plain": [
              "['00 00',\n",
              " '00 00 الاجتماع',\n",
              " '00 00 للإستفسار',\n",
              " '00 10',\n",
              " '00 10 00',\n",
              " '00 11',\n",
              " '00 11 00',\n",
              " '00 12',\n",
              " '00 12 00',\n",
              " '00 22',\n",
              " '00 22 00',\n",
              " '00 الاجتماع',\n",
              " '00 الاجتماع الأول',\n",
              " '00 القناة',\n",
              " '00 القناة عصام',\n",
              " '00 المنسق',\n",
              " '00 المنسق كريم',\n",
              " '00 بتوقيت',\n",
              " '00 بتوقيت القاهرة',\n",
              " '00 عصرا',\n",
              " '00 عصرا مع',\n",
              " '00 للإستفسار',\n",
              " '00 للإستفسار والتواصل',\n",
              " '00 مساء',\n",
              " '00 مساء على',\n",
              " '00 يتشرف',\n",
              " '00 يتشرف الدكتور',\n",
              " '000',\n",
              " '000 000']"
            ]
          },
          "metadata": {
            "tags": []
          },
          "execution_count": 15
        }
      ]
    },
    {
      "cell_type": "code",
      "metadata": {
        "id": "HlGr0iKF7cFe",
        "colab_type": "code",
        "outputId": "d90b4d26-584e-4f90-83e6-3f43fb75725e",
        "colab": {
          "base_uri": "https://localhost:8080/",
          "height": 51
        }
      },
      "source": [
        "tfidfv = TfidfVectorizer(ngram_range=(1,3))\n",
        "tfidf_ngram_features = tfidfv.fit_transform(vocab_list)\n",
        "tfidf_ngram_features"
      ],
      "execution_count": 16,
      "outputs": [
        {
          "output_type": "execute_result",
          "data": {
            "text/plain": [
              "<9694x246872 sparse matrix of type '<class 'numpy.float64'>'\n",
              "\twith 369945 stored elements in Compressed Sparse Row format>"
            ]
          },
          "metadata": {
            "tags": []
          },
          "execution_count": 16
        }
      ]
    },
    {
      "cell_type": "markdown",
      "metadata": {
        "id": "zwrt9HXBWwBu",
        "colab_type": "text"
      },
      "source": [
        "#Подгонка и прогнозирование данных обучения и испытаний с использованием нескольких векторизаторов и классификаторов"
      ]
    },
    {
      "cell_type": "code",
      "metadata": {
        "id": "kI5Vr2IY-PNM",
        "colab_type": "code",
        "colab": {}
      },
      "source": [
        "def VectorizeAndClassify(vectorizers_list, classifiers_list):\n",
        "    for v in vectorizers_list:\n",
        "        for c in classifiers_list:\n",
        "            pipeline1 = Pipeline([(\"vectorizer\", v), (\"classifier\", c)])\n",
        "            score = cross_val_score(pipeline1, data['text'], data['target'], scoring='accuracy', cv=3).mean()\n",
        "            score2=cross_val_score(pipeline1, data['text'], data['target'], scoring='f1_weighted', cv=3).mean()\n",
        "            print('Векторизация - {}'.format(v))\n",
        "            print('Модель для классификации - {}'.format(c))\n",
        "            print('Accuracy = {}'.format(score))\n",
        "            print('F1 = {}'.format(score2))\n",
        "            print('===========================')"
      ],
      "execution_count": 0,
      "outputs": []
    },
    {
      "cell_type": "code",
      "metadata": {
        "id": "4l1pCQCG_3CA",
        "colab_type": "code",
        "outputId": "a07a1d75-a4ec-45be-8e4a-28e348fabe30",
        "colab": {
          "base_uri": "https://localhost:8080/",
          "height": 1000
        }
      },
      "source": [
        "vectorizers_list = [CountVectorizer(vocabulary = corpusVocab), TfidfVectorizer(vocabulary = corpusVocab)]\n",
        "classifiers_list = [LogisticRegression(C=3.0), LinearSVC(), KNeighborsClassifier()]\n",
        "VectorizeAndClassify(vectorizers_list, classifiers_list)"
      ],
      "execution_count": 18,
      "outputs": [
        {
          "output_type": "stream",
          "text": [
            "Векторизация - CountVectorizer(analyzer='word', binary=False, decode_error='strict',\n",
            "                dtype=<class 'numpy.int64'>, encoding='utf-8', input='content',\n",
            "                lowercase=True, max_df=1.0, max_features=None, min_df=1,\n",
            "                ngram_range=(1, 1), preprocessor=None, stop_words=None,\n",
            "                strip_accents=None, token_pattern='(?u)\\\\b\\\\w\\\\w+\\\\b',\n",
            "                tokenizer=None,\n",
            "                vocabulary={'00': 0, '000': 1, '00202': 2, '005': 3, '009': 4,\n",
            "                            '01': 5, '01001135875': 6, '01002118193': 7,\n",
            "                            '01008880090': 8, '0101004800': 9, '0103424388': 10,\n",
            "                            '0105064942': 11, '01069883354': 12,\n",
            "                            '0107381486': 13, '0109333999': 14, '011': 15,\n",
            "                            '0111650008': 16, '0112': 17, '01201968': 18,\n",
            "                            '01280423836': 19, '01289954776': 20, '0155': 21,\n",
            "                            '0165541351': 22, '0190555044': 23, '02': 24,\n",
            "                            '029': 25, '03': 26, '033': 27, '04': 28,\n",
            "                            '04681953': 29, ...})\n",
            "Модель для классификации - LogisticRegression(C=3.0, class_weight=None, dual=False, fit_intercept=True,\n",
            "                   intercept_scaling=1, l1_ratio=None, max_iter=100,\n",
            "                   multi_class='auto', n_jobs=None, penalty='l2',\n",
            "                   random_state=None, solver='lbfgs', tol=0.0001, verbose=0,\n",
            "                   warm_start=False)\n",
            "Accuracy = 0.6694843898270978\n",
            "F1 = 0.6161432280899494\n",
            "===========================\n",
            "Векторизация - CountVectorizer(analyzer='word', binary=False, decode_error='strict',\n",
            "                dtype=<class 'numpy.int64'>, encoding='utf-8', input='content',\n",
            "                lowercase=True, max_df=1.0, max_features=None, min_df=1,\n",
            "                ngram_range=(1, 1), preprocessor=None, stop_words=None,\n",
            "                strip_accents=None, token_pattern='(?u)\\\\b\\\\w\\\\w+\\\\b',\n",
            "                tokenizer=None,\n",
            "                vocabulary={'00': 0, '000': 1, '00202': 2, '005': 3, '009': 4,\n",
            "                            '01': 5, '01001135875': 6, '01002118193': 7,\n",
            "                            '01008880090': 8, '0101004800': 9, '0103424388': 10,\n",
            "                            '0105064942': 11, '01069883354': 12,\n",
            "                            '0107381486': 13, '0109333999': 14, '011': 15,\n",
            "                            '0111650008': 16, '0112': 17, '01201968': 18,\n",
            "                            '01280423836': 19, '01289954776': 20, '0155': 21,\n",
            "                            '0165541351': 22, '0190555044': 23, '02': 24,\n",
            "                            '029': 25, '03': 26, '033': 27, '04': 28,\n",
            "                            '04681953': 29, ...})\n",
            "Модель для классификации - LinearSVC(C=1.0, class_weight=None, dual=True, fit_intercept=True,\n",
            "          intercept_scaling=1, loss='squared_hinge', max_iter=1000,\n",
            "          multi_class='ovr', penalty='l2', random_state=None, tol=0.0001,\n",
            "          verbose=0)\n",
            "Accuracy = 0.6517417004003093\n",
            "F1 = 0.6140305778819876\n",
            "===========================\n",
            "Векторизация - CountVectorizer(analyzer='word', binary=False, decode_error='strict',\n",
            "                dtype=<class 'numpy.int64'>, encoding='utf-8', input='content',\n",
            "                lowercase=True, max_df=1.0, max_features=None, min_df=1,\n",
            "                ngram_range=(1, 1), preprocessor=None, stop_words=None,\n",
            "                strip_accents=None, token_pattern='(?u)\\\\b\\\\w\\\\w+\\\\b',\n",
            "                tokenizer=None,\n",
            "                vocabulary={'00': 0, '000': 1, '00202': 2, '005': 3, '009': 4,\n",
            "                            '01': 5, '01001135875': 6, '01002118193': 7,\n",
            "                            '01008880090': 8, '0101004800': 9, '0103424388': 10,\n",
            "                            '0105064942': 11, '01069883354': 12,\n",
            "                            '0107381486': 13, '0109333999': 14, '011': 15,\n",
            "                            '0111650008': 16, '0112': 17, '01201968': 18,\n",
            "                            '01280423836': 19, '01289954776': 20, '0155': 21,\n",
            "                            '0165541351': 22, '0190555044': 23, '02': 24,\n",
            "                            '029': 25, '03': 26, '033': 27, '04': 28,\n",
            "                            '04681953': 29, ...})\n",
            "Модель для классификации - KNeighborsClassifier(algorithm='auto', leaf_size=30, metric='minkowski',\n",
            "                     metric_params=None, n_jobs=None, n_neighbors=5, p=2,\n",
            "                     weights='uniform')\n",
            "Accuracy = 0.6486491731810134\n",
            "F1 = 0.5483458747364962\n",
            "===========================\n",
            "Векторизация - TfidfVectorizer(analyzer='word', binary=False, decode_error='strict',\n",
            "                dtype=<class 'numpy.float64'>, encoding='utf-8',\n",
            "                input='content', lowercase=True, max_df=1.0, max_features=None,\n",
            "                min_df=1, ngram_range=(1, 1), norm='l2', preprocessor=None,\n",
            "                smooth_idf=True, stop_words=None, strip_accents=None,\n",
            "                sublinear_tf=False, token_pattern='(?u)\\\\b\\\\w\\\\w+\\\\b',\n",
            "                tokenizer=None, use...\n",
            "                vocabulary={'00': 0, '000': 1, '00202': 2, '005': 3, '009': 4,\n",
            "                            '01': 5, '01001135875': 6, '01002118193': 7,\n",
            "                            '01008880090': 8, '0101004800': 9, '0103424388': 10,\n",
            "                            '0105064942': 11, '01069883354': 12,\n",
            "                            '0107381486': 13, '0109333999': 14, '011': 15,\n",
            "                            '0111650008': 16, '0112': 17, '01201968': 18,\n",
            "                            '01280423836': 19, '01289954776': 20, '0155': 21,\n",
            "                            '0165541351': 22, '0190555044': 23, '02': 24,\n",
            "                            '029': 25, '03': 26, '033': 27, '04': 28,\n",
            "                            '04681953': 29, ...})\n",
            "Модель для классификации - LogisticRegression(C=3.0, class_weight=None, dual=False, fit_intercept=True,\n",
            "                   intercept_scaling=1, l1_ratio=None, max_iter=100,\n",
            "                   multi_class='auto', n_jobs=None, penalty='l2',\n",
            "                   random_state=None, solver='lbfgs', tol=0.0001, verbose=0,\n",
            "                   warm_start=False)\n",
            "Accuracy = 0.6780478448262653\n",
            "F1 = 0.5864210910123421\n",
            "===========================\n",
            "Векторизация - TfidfVectorizer(analyzer='word', binary=False, decode_error='strict',\n",
            "                dtype=<class 'numpy.float64'>, encoding='utf-8',\n",
            "                input='content', lowercase=True, max_df=1.0, max_features=None,\n",
            "                min_df=1, ngram_range=(1, 1), norm='l2', preprocessor=None,\n",
            "                smooth_idf=True, stop_words=None, strip_accents=None,\n",
            "                sublinear_tf=False, token_pattern='(?u)\\\\b\\\\w\\\\w+\\\\b',\n",
            "                tokenizer=None, use...\n",
            "                vocabulary={'00': 0, '000': 1, '00202': 2, '005': 3, '009': 4,\n",
            "                            '01': 5, '01001135875': 6, '01002118193': 7,\n",
            "                            '01008880090': 8, '0101004800': 9, '0103424388': 10,\n",
            "                            '0105064942': 11, '01069883354': 12,\n",
            "                            '0107381486': 13, '0109333999': 14, '011': 15,\n",
            "                            '0111650008': 16, '0112': 17, '01201968': 18,\n",
            "                            '01280423836': 19, '01289954776': 20, '0155': 21,\n",
            "                            '0165541351': 22, '0190555044': 23, '02': 24,\n",
            "                            '029': 25, '03': 26, '033': 27, '04': 28,\n",
            "                            '04681953': 29, ...})\n",
            "Модель для классификации - LinearSVC(C=1.0, class_weight=None, dual=True, fit_intercept=True,\n",
            "          intercept_scaling=1, loss='squared_hinge', max_iter=1000,\n",
            "          multi_class='ovr', penalty='l2', random_state=None, tol=0.0001,\n",
            "          verbose=0)\n",
            "Accuracy = 0.6729924269121433\n",
            "F1 = 0.6003665807484148\n",
            "===========================\n",
            "Векторизация - TfidfVectorizer(analyzer='word', binary=False, decode_error='strict',\n",
            "                dtype=<class 'numpy.float64'>, encoding='utf-8',\n",
            "                input='content', lowercase=True, max_df=1.0, max_features=None,\n",
            "                min_df=1, ngram_range=(1, 1), norm='l2', preprocessor=None,\n",
            "                smooth_idf=True, stop_words=None, strip_accents=None,\n",
            "                sublinear_tf=False, token_pattern='(?u)\\\\b\\\\w\\\\w+\\\\b',\n",
            "                tokenizer=None, use...\n",
            "                vocabulary={'00': 0, '000': 1, '00202': 2, '005': 3, '009': 4,\n",
            "                            '01': 5, '01001135875': 6, '01002118193': 7,\n",
            "                            '01008880090': 8, '0101004800': 9, '0103424388': 10,\n",
            "                            '0105064942': 11, '01069883354': 12,\n",
            "                            '0107381486': 13, '0109333999': 14, '011': 15,\n",
            "                            '0111650008': 16, '0112': 17, '01201968': 18,\n",
            "                            '01280423836': 19, '01289954776': 20, '0155': 21,\n",
            "                            '0165541351': 22, '0190555044': 23, '02': 24,\n",
            "                            '029': 25, '03': 26, '033': 27, '04': 28,\n",
            "                            '04681953': 29, ...})\n",
            "Модель для классификации - KNeighborsClassifier(algorithm='auto', leaf_size=30, metric='minkowski',\n",
            "                     metric_params=None, n_jobs=None, n_neighbors=5, p=2,\n",
            "                     weights='uniform')\n",
            "Accuracy = 0.6544244315332183\n",
            "F1 = 0.5972908213361873\n",
            "===========================\n"
          ],
          "name": "stdout"
        }
      ]
    },
    {
      "cell_type": "code",
      "metadata": {
        "id": "NmaJ8_8aMoUv",
        "colab_type": "code",
        "colab": {
          "base_uri": "https://localhost:8080/",
          "height": 268
        },
        "outputId": "2f56e0a1-7a0b-48c5-cab5-755f44601192"
      },
      "source": [
        "plt.hist(data['target'])\n",
        "plt.show()"
      ],
      "execution_count": 19,
      "outputs": [
        {
          "output_type": "display_data",
          "data": {
            "image/png": "[encoded data removed]",
            "text/plain": [
              "<Figure size 432x288 with 1 Axes>"
            ]
          },
          "metadata": {
            "tags": [],
            "needs_background": "light"
          }
        }
      ]
    },
    {
      "cell_type": "markdown",
      "metadata": {
        "id": "1GBx6CTpW6s8",
        "colab_type": "text"
      },
      "source": [
        "Мы собираемся разделить наши данные между данными обучения и тестирования в пропорции 0,7."
      ]
    },
    {
      "cell_type": "code",
      "metadata": {
        "id": "Rxcdkp51_8Qc",
        "colab_type": "code",
        "colab": {}
      },
      "source": [
        "X_train, X_test, y_train, y_test = train_test_split(data['text'], data['target'], test_size=0.3, random_state=1)"
      ],
      "execution_count": 0,
      "outputs": []
    },
    {
      "cell_type": "code",
      "metadata": {
        "id": "uaZ4ZJzdCHdr",
        "colab_type": "code",
        "colab": {}
      },
      "source": [
        "def sentiment(v, c):\n",
        "    model = Pipeline(\n",
        "        [(\"vectorizer\", v), \n",
        "         (\"classifier\", c)])\n",
        "    model.fit(X_train, y_train)\n",
        "    y_pred = model.predict(X_test)\n",
        "    print_accuracy_score_for_classes(y_test, y_pred)\n",
        "    labels=['NEG', 'NEUTRAL', 'OBJ', 'POS']\n",
        "    plot_confusion_matrix(model,X_test, y_test,display_labels=['NEG', 'NEUTRAL', 'OBJ', 'POS'],normalize='true',cmap=plt.cm.Blues)"
      ],
      "execution_count": 0,
      "outputs": []
    },
    {
      "cell_type": "markdown",
      "metadata": {
        "id": "vEiC5stjXE0x",
        "colab_type": "text"
      },
      "source": [
        "##Использование Tfid Vectorizer и логистической регрессии"
      ]
    },
    {
      "cell_type": "code",
      "metadata": {
        "id": "KVufhyklCHa1",
        "colab_type": "code",
        "outputId": "4c85fdd2-e49a-447b-8484-53a11b468bc9",
        "colab": {
          "base_uri": "https://localhost:8080/",
          "height": 370
        }
      },
      "source": [
        "sentiment(TfidfVectorizer(), LogisticRegression(C=3.0))"
      ],
      "execution_count": 22,
      "outputs": [
        {
          "output_type": "stream",
          "text": [
            "Метка \t \t  Accuracy \t \t \t f1_score\n",
            "NEG \t \t 0.24329896907216494 \t \t 0.3913764510779436\n",
            "NEUT \t \t 0.04888888888888889 \t \t 0.09322033898305083\n",
            "OBJ \t \t 0.9449021627188465 \t \t 0.9716706380725444\n",
            "POS \t \t 0.10894941634241245 \t \t 0.19649122807017544\n"
          ],
          "name": "stdout"
        },
        {
          "output_type": "display_data",
          "data": {
            "image/png": "[encoded data removed]",
            "text/plain": [
              "<Figure size 432x288 with 2 Axes>"
            ]
          },
          "metadata": {
            "tags": [],
            "needs_background": "light"
          }
        }
      ]
    },
    {
      "cell_type": "code",
      "metadata": {
        "id": "utWo3Z18CHYM",
        "colab_type": "code",
        "outputId": "db242545-be3f-4152-e08f-244b3c6fce6c",
        "colab": {
          "base_uri": "https://localhost:8080/",
          "height": 370
        }
      },
      "source": [
        "sentiment(TfidfVectorizer(ngram_range=(1,3)), LogisticRegression(C=3.0))"
      ],
      "execution_count": 23,
      "outputs": [
        {
          "output_type": "stream",
          "text": [
            "Метка \t \t  Accuracy \t \t \t f1_score\n",
            "NEG \t \t 0.24536082474226803 \t \t 0.3940397350993377\n",
            "NEUT \t \t 0.035555555555555556 \t \t 0.06866952789699571\n",
            "OBJ \t \t 0.9490216271884655 \t \t 0.9738441215323645\n",
            "POS \t \t 0.06614785992217899 \t \t 0.12408759124087591\n"
          ],
          "name": "stdout"
        },
        {
          "output_type": "display_data",
          "data": {
            "image/png": "[encoded data removed]",
            "text/plain": [
              "<Figure size 432x288 with 2 Axes>"
            ]
          },
          "metadata": {
            "tags": [],
            "needs_background": "light"
          }
        }
      ]
    },
    {
      "cell_type": "code",
      "metadata": {
        "id": "yiTnOXpkCdo4",
        "colab_type": "code",
        "outputId": "b212d347-e07b-4b06-dd4b-20ec3ce5f4ba",
        "colab": {
          "base_uri": "https://localhost:8080/",
          "height": 370
        }
      },
      "source": [
        "sentiment(TfidfVectorizer(ngram_range=(1,2)), LogisticRegression(C=3.0))"
      ],
      "execution_count": 24,
      "outputs": [
        {
          "output_type": "stream",
          "text": [
            "Метка \t \t  Accuracy \t \t \t f1_score\n",
            "NEG \t \t 0.23505154639175257 \t \t 0.3806343906510851\n",
            "NEUT \t \t 0.044444444444444446 \t \t 0.08510638297872339\n",
            "OBJ \t \t 0.9485066941297632 \t \t 0.9735729386892178\n",
            "POS \t \t 0.07392996108949416 \t \t 0.13768115942028986\n"
          ],
          "name": "stdout"
        },
        {
          "output_type": "display_data",
          "data": {
            "image/png": "[encoded data removed]",
            "text/plain": [
              "<Figure size 432x288 with 2 Axes>"
            ]
          },
          "metadata": {
            "tags": [],
            "needs_background": "light"
          }
        }
      ]
    },
    {
      "cell_type": "code",
      "metadata": {
        "id": "lzHqWXm6GXT1",
        "colab_type": "code",
        "colab": {
          "base_uri": "https://localhost:8080/",
          "height": 370
        },
        "outputId": "2fdd3c02-07a0-42db-ad92-7472ae930fb2"
      },
      "source": [
        "sentiment(TfidfVectorizer(ngram_range=(1,4)), LogisticRegression(C=3.0))"
      ],
      "execution_count": 25,
      "outputs": [
        {
          "output_type": "stream",
          "text": [
            "Метка \t \t  Accuracy \t \t \t f1_score\n",
            "NEG \t \t 0.23711340206185566 \t \t 0.3833333333333333\n",
            "NEUT \t \t 0.035555555555555556 \t \t 0.06866952789699571\n",
            "OBJ \t \t 0.9521112255406797 \t \t 0.9754682141915062\n",
            "POS \t \t 0.058365758754863814 \t \t 0.11029411764705882\n"
          ],
          "name": "stdout"
        },
        {
          "output_type": "display_data",
          "data": {
            "image/png": "[encoded data removed]",
            "text/plain": [
              "<Figure size 432x288 with 2 Axes>"
            ]
          },
          "metadata": {
            "tags": [],
            "needs_background": "light"
          }
        }
      ]
    },
    {
      "cell_type": "code",
      "metadata": {
        "id": "e8hSoIkxCiwm",
        "colab_type": "code",
        "outputId": "4213decc-f730-495e-dcc1-001391c2b721",
        "colab": {
          "base_uri": "https://localhost:8080/",
          "height": 370
        }
      },
      "source": [
        "sentiment(TfidfVectorizer(ngram_range=(2,4)), LogisticRegression(C=3.0))"
      ],
      "execution_count": 26,
      "outputs": [
        {
          "output_type": "stream",
          "text": [
            "Метка \t \t  Accuracy \t \t \t f1_score\n",
            "NEG \t \t 0.030927835051546393 \t \t 0.06000000000000001\n",
            "NEUT \t \t 0.013333333333333334 \t \t 0.02631578947368421\n",
            "OBJ \t \t 0.9969104016477858 \t \t 0.9984528107271788\n",
            "POS \t \t 0.0038910505836575876 \t \t 0.007751937984496124\n"
          ],
          "name": "stdout"
        },
        {
          "output_type": "display_data",
          "data": {
            "image/png": "[encoded data removed]",
            "text/plain": [
              "<Figure size 432x288 with 2 Axes>"
            ]
          },
          "metadata": {
            "tags": [],
            "needs_background": "light"
          }
        }
      ]
    },
    {
      "cell_type": "markdown",
      "metadata": {
        "id": "8huHDFFeP7-r",
        "colab_type": "text"
      },
      "source": [
        "##Использование Tfid Vectorizer и полиномиального наивного байесовского"
      ]
    },
    {
      "cell_type": "code",
      "metadata": {
        "id": "dppaDx3VEOVb",
        "colab_type": "code",
        "outputId": "7637a0b3-f3aa-454a-8537-e297b0dd6e75",
        "colab": {
          "base_uri": "https://localhost:8080/",
          "height": 374
        }
      },
      "source": [
        "sentiment(TfidfVectorizer(ngram_range=(1,2)), MultinomialNB())"
      ],
      "execution_count": 27,
      "outputs": [
        {
          "output_type": "stream",
          "text": [
            "Метка \t \t  Accuracy \t \t \t f1_score\n",
            "NEG \t \t 0.0 \t \t 0.0\n",
            "NEUT \t \t 0.0 \t \t 0.0\n",
            "OBJ \t \t 1.0 \t \t 1.0\n",
            "POS \t \t 0.0 \t \t 0.0\n"
          ],
          "name": "stdout"
        },
        {
          "output_type": "display_data",
          "data": {
            "image/png": "[encoded data removed]",
            "text/plain": [
              "<Figure size 432x288 with 2 Axes>"
            ]
          },
          "metadata": {
            "tags": [],
            "needs_background": "light"
          }
        }
      ]
    },
    {
      "cell_type": "markdown",
      "metadata": {
        "id": "VY-73HJZRyE-",
        "colab_type": "text"
      },
      "source": [
        "##Использование Tfid Vectorizer и наивного байесовского Бернулли"
      ]
    },
    {
      "cell_type": "code",
      "metadata": {
        "id": "c6EBc9DfRxpD",
        "colab_type": "code",
        "colab": {
          "base_uri": "https://localhost:8080/",
          "height": 374
        },
        "outputId": "4affa219-e3c5-4f97-d4ea-79f5ff2bb2cc"
      },
      "source": [
        "sentiment(TfidfVectorizer(ngram_range=(1,2)), BernoulliNB())"
      ],
      "execution_count": 28,
      "outputs": [
        {
          "output_type": "stream",
          "text": [
            "Метка \t \t  Accuracy \t \t \t f1_score\n",
            "NEG \t \t 0.002061855670103093 \t \t 0.00411522633744856\n",
            "NEUT \t \t 0.0 \t \t 0.0\n",
            "OBJ \t \t 0.9984552008238929 \t \t 0.9992270033496522\n",
            "POS \t \t 0.0 \t \t 0.0\n"
          ],
          "name": "stdout"
        },
        {
          "output_type": "display_data",
          "data": {
            "image/png": "[encoded data removed]",
            "text/plain": [
              "<Figure size 432x288 with 2 Axes>"
            ]
          },
          "metadata": {
            "tags": [],
            "needs_background": "light"
          }
        }
      ]
    },
    {
      "cell_type": "markdown",
      "metadata": {
        "id": "i9VemlRJSJBW",
        "colab_type": "text"
      },
      "source": [
        "##Использование Tfid Vectorizer и дополнения наивного байесовского"
      ]
    },
    {
      "cell_type": "code",
      "metadata": {
        "id": "4OgiA_qkFnVg",
        "colab_type": "code",
        "outputId": "8cc1e871-a7f7-476a-b124-fb74dd113a90",
        "colab": {
          "base_uri": "https://localhost:8080/",
          "height": 370
        }
      },
      "source": [
        "sentiment(TfidfVectorizer(ngram_range=(1,2)), ComplementNB())"
      ],
      "execution_count": 29,
      "outputs": [
        {
          "output_type": "stream",
          "text": [
            "Метка \t \t  Accuracy \t \t \t f1_score\n",
            "NEG \t \t 0.1134020618556701 \t \t 0.2037037037037037\n",
            "NEUT \t \t 0.044444444444444446 \t \t 0.08510638297872339\n",
            "OBJ \t \t 0.9598352214212152 \t \t 0.9795060430898582\n",
            "POS \t \t 0.07003891050583658 \t \t 0.13090909090909092\n"
          ],
          "name": "stdout"
        },
        {
          "output_type": "display_data",
          "data": {
            "image/png": "[encoded data removed]",
            "text/plain": [
              "<Figure size 432x288 with 2 Axes>"
            ]
          },
          "metadata": {
            "tags": [],
            "needs_background": "light"
          }
        }
      ]
    },
    {
      "cell_type": "markdown",
      "metadata": {
        "id": "VhQY007AcHjW",
        "colab_type": "text"
      },
      "source": [
        "#Вывод\n",
        "Мы видим, что лучшим классификатором при работе с данными был LogisticRegression, потому что это было более подходящим для классификации всех различных типов классов.\n",
        "Но мы можем заметить, что у всех классификаторов была проблема с классификацией текста из классов (положительный, отрицательный, нейтральный), и причина этого заключается в отсутствии информации из тех классов, где 66% из твитов классифицируются как объективные и 33% принадлежат в оставшиеся три класса.\n",
        "Таким образом, классификатор всегда склонен обнаруживать объективный класс."
      ]
    },
    {
      "cell_type": "code",
      "metadata": {
        "id": "H5squY-jG3jJ",
        "colab_type": "code",
        "colab": {}
      },
      "source": [
        ""
      ],
      "execution_count": 0,
      "outputs": []
    }
  ]
}