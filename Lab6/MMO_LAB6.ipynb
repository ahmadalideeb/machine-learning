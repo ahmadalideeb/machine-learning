{
  "nbformat": 4,
  "nbformat_minor": 0,
  "metadata": {
    "colab": {
      "name": "MMO_LAB6.ipynb",
      "provenance": [],
      "include_colab_link": true
    },
    "kernelspec": {
      "name": "python3",
      "display_name": "Python 3"
    },
    "accelerator": "GPU"
  },
  "cells": [
    {
      "cell_type": "markdown",
      "metadata": {
        "id": "view-in-github",
        "colab_type": "text"
      },
      "source": [
        "<a href=\"https://colab.research.google.com/github/ahmadalideeb/machine-learning/blob/master/Lab6/MMO_LAB6.ipynb\" target=\"_parent\"><img src=\"https://colab.research.google.com/assets/colab-badge.svg\" alt=\"Open In Colab\"/></a>"
      ]
    },
    {
      "cell_type": "markdown",
      "metadata": {
        "id": "39g5UxJiW7Qk",
        "colab_type": "text"
      },
      "source": [
        "#Цель лабораторной работы\n",
        "Изучение ансамблей моделей машинного обучения."
      ]
    },
    {
      "cell_type": "code",
      "metadata": {
        "id": "Meu2ir1j-3FV",
        "colab_type": "code",
        "colab": {}
      },
      "source": [
        "from datetime import datetime\n",
        "import matplotlib.pyplot as plt\n",
        "import numpy as np\n",
        "import pandas as pd\n",
        "from sklearn.ensemble import GradientBoostingRegressor\n",
        "from sklearn.ensemble import RandomForestRegressor\n",
        "from sklearn.metrics import mean_absolute_error\n",
        "from sklearn.metrics import median_absolute_error, r2_score\n",
        "from sklearn.model_selection import GridSearchCV\n",
        "from sklearn.model_selection import ShuffleSplit\n",
        "from sklearn.model_selection import train_test_split\n",
        "from sklearn.preprocessing import StandardScaler\n",
        "from sklearn.preprocessing import LabelEncoder, OneHotEncoder\n",
        "# Enable inline plots\n",
        "%matplotlib inline\n",
        "# Set plots formats to save high resolution PNG\n",
        "from IPython.display import set_matplotlib_formats\n",
        "set_matplotlib_formats(\"retina\")\n",
        "%matplotlib inline \n"
      ],
      "execution_count": 0,
      "outputs": []
    },
    {
      "cell_type": "markdown",
      "metadata": {
        "id": "t4bSpxJPXwZq",
        "colab_type": "text"
      },
      "source": [
        "#Набор данных\n",
        "Наш набор данных касается относительных данных о производительности процессора, описанных с точки зрения времени его цикла, объема памяти и т. Д.\n",
        "\n",
        "Информация об атрибутах:\n",
        "\n",
        "1. vendor name\n",
        "2. Model Name: many unique symbols\n",
        "3. MYCT: machine cycle time in nanoseconds (integer)\n",
        "4. MMIN: minimum main memory in kilobytes (integer)\n",
        "5. MMAX: maximum main memory in kilobytes (integer)\n",
        "6. CACH: cache memory in kilobytes (integer)\n",
        "7. CHMIN: minimum channels in units (integer)\n",
        "8. CHMAX: maximum channels in units (integer)\n",
        "9. PRP: published relative performance (integer)\n",
        "10. ERP: estimated relative performance from the original article (integer)"
      ]
    },
    {
      "cell_type": "code",
      "metadata": {
        "id": "n33iM8pP--x-",
        "colab_type": "code",
        "outputId": "aef9c836-cf52-421a-da2f-bd6400cbfc4b",
        "colab": {
          "base_uri": "https://localhost:8080/",
          "height": 204
        }
      },
      "source": [
        "data=pd.read_csv('https://archive.ics.uci.edu/ml/machine-learning-databases/cpu-performance/machine.data',header=None,names=['vendor_name','Model_Name','MYCT','MMIN','MMAX','CACH','CHMIN','CHMAX','PRP','ERP'])\n",
        "data.head()"
      ],
      "execution_count": 2,
      "outputs": [
        {
          "output_type": "execute_result",
          "data": {
            "text/html": [
              "<div>\n",
              "<style scoped>\n",
              "    .dataframe tbody tr th:only-of-type {\n",
              "        vertical-align: middle;\n",
              "    }\n",
              "\n",
              "    .dataframe tbody tr th {\n",
              "        vertical-align: top;\n",
              "    }\n",
              "\n",
              "    .dataframe thead th {\n",
              "        text-align: right;\n",
              "    }\n",
              "</style>\n",
              "<table border=\"1\" class=\"dataframe\">\n",
              "  <thead>\n",
              "    <tr style=\"text-align: right;\">\n",
              "      <th></th>\n",
              "      <th>vendor_name</th>\n",
              "      <th>Model_Name</th>\n",
              "      <th>MYCT</th>\n",
              "      <th>MMIN</th>\n",
              "      <th>MMAX</th>\n",
              "      <th>CACH</th>\n",
              "      <th>CHMIN</th>\n",
              "      <th>CHMAX</th>\n",
              "      <th>PRP</th>\n",
              "      <th>ERP</th>\n",
              "    </tr>\n",
              "  </thead>\n",
              "  <tbody>\n",
              "    <tr>\n",
              "      <th>0</th>\n",
              "      <td>adviser</td>\n",
              "      <td>32/60</td>\n",
              "      <td>125</td>\n",
              "      <td>256</td>\n",
              "      <td>6000</td>\n",
              "      <td>256</td>\n",
              "      <td>16</td>\n",
              "      <td>128</td>\n",
              "      <td>198</td>\n",
              "      <td>199</td>\n",
              "    </tr>\n",
              "    <tr>\n",
              "      <th>1</th>\n",
              "      <td>amdahl</td>\n",
              "      <td>470v/7</td>\n",
              "      <td>29</td>\n",
              "      <td>8000</td>\n",
              "      <td>32000</td>\n",
              "      <td>32</td>\n",
              "      <td>8</td>\n",
              "      <td>32</td>\n",
              "      <td>269</td>\n",
              "      <td>253</td>\n",
              "    </tr>\n",
              "    <tr>\n",
              "      <th>2</th>\n",
              "      <td>amdahl</td>\n",
              "      <td>470v/7a</td>\n",
              "      <td>29</td>\n",
              "      <td>8000</td>\n",
              "      <td>32000</td>\n",
              "      <td>32</td>\n",
              "      <td>8</td>\n",
              "      <td>32</td>\n",
              "      <td>220</td>\n",
              "      <td>253</td>\n",
              "    </tr>\n",
              "    <tr>\n",
              "      <th>3</th>\n",
              "      <td>amdahl</td>\n",
              "      <td>470v/7b</td>\n",
              "      <td>29</td>\n",
              "      <td>8000</td>\n",
              "      <td>32000</td>\n",
              "      <td>32</td>\n",
              "      <td>8</td>\n",
              "      <td>32</td>\n",
              "      <td>172</td>\n",
              "      <td>253</td>\n",
              "    </tr>\n",
              "    <tr>\n",
              "      <th>4</th>\n",
              "      <td>amdahl</td>\n",
              "      <td>470v/7c</td>\n",
              "      <td>29</td>\n",
              "      <td>8000</td>\n",
              "      <td>16000</td>\n",
              "      <td>32</td>\n",
              "      <td>8</td>\n",
              "      <td>16</td>\n",
              "      <td>132</td>\n",
              "      <td>132</td>\n",
              "    </tr>\n",
              "  </tbody>\n",
              "</table>\n",
              "</div>"
            ],
            "text/plain": [
              "  vendor_name Model_Name  MYCT  MMIN   MMAX  CACH  CHMIN  CHMAX  PRP  ERP\n",
              "0     adviser      32/60   125   256   6000   256     16    128  198  199\n",
              "1      amdahl     470v/7    29  8000  32000    32      8     32  269  253\n",
              "2      amdahl    470v/7a    29  8000  32000    32      8     32  220  253\n",
              "3      amdahl    470v/7b    29  8000  32000    32      8     32  172  253\n",
              "4      amdahl    470v/7c    29  8000  16000    32      8     16  132  132"
            ]
          },
          "metadata": {
            "tags": []
          },
          "execution_count": 2
        }
      ]
    },
    {
      "cell_type": "code",
      "metadata": {
        "id": "6_uLcHHLEV92",
        "colab_type": "code",
        "outputId": "6d6d385f-a340-4b43-dfa7-959457134e70",
        "colab": {
          "base_uri": "https://localhost:8080/",
          "height": 68
        }
      },
      "source": [
        "data.columns"
      ],
      "execution_count": 3,
      "outputs": [
        {
          "output_type": "execute_result",
          "data": {
            "text/plain": [
              "Index(['vendor_name', 'Model_Name', 'MYCT', 'MMIN', 'MMAX', 'CACH', 'CHMIN',\n",
              "       'CHMAX', 'PRP', 'ERP'],\n",
              "      dtype='object')"
            ]
          },
          "metadata": {
            "tags": []
          },
          "execution_count": 3
        }
      ]
    },
    {
      "cell_type": "code",
      "metadata": {
        "id": "oL6GpILMEjFy",
        "colab_type": "code",
        "outputId": "9222ce0d-0699-4823-b3c6-0c700d63f755",
        "colab": {
          "base_uri": "https://localhost:8080/",
          "height": 204
        }
      },
      "source": [
        "data.dtypes"
      ],
      "execution_count": 4,
      "outputs": [
        {
          "output_type": "execute_result",
          "data": {
            "text/plain": [
              "vendor_name    object\n",
              "Model_Name     object\n",
              "MYCT            int64\n",
              "MMIN            int64\n",
              "MMAX            int64\n",
              "CACH            int64\n",
              "CHMIN           int64\n",
              "CHMAX           int64\n",
              "PRP             int64\n",
              "ERP             int64\n",
              "dtype: object"
            ]
          },
          "metadata": {
            "tags": []
          },
          "execution_count": 4
        }
      ]
    },
    {
      "cell_type": "code",
      "metadata": {
        "id": "JFk47EzwEkiX",
        "colab_type": "code",
        "outputId": "2899e97e-da45-4d34-eb9a-9abb9b53487a",
        "colab": {
          "base_uri": "https://localhost:8080/",
          "height": 204
        }
      },
      "source": [
        "data.isnull().sum()"
      ],
      "execution_count": 5,
      "outputs": [
        {
          "output_type": "execute_result",
          "data": {
            "text/plain": [
              "vendor_name    0\n",
              "Model_Name     0\n",
              "MYCT           0\n",
              "MMIN           0\n",
              "MMAX           0\n",
              "CACH           0\n",
              "CHMIN          0\n",
              "CHMAX          0\n",
              "PRP            0\n",
              "ERP            0\n",
              "dtype: int64"
            ]
          },
          "metadata": {
            "tags": []
          },
          "execution_count": 5
        }
      ]
    },
    {
      "cell_type": "markdown",
      "metadata": {
        "id": "VFi1lnJTYS2w",
        "colab_type": "text"
      },
      "source": [
        "наш набор данных не содержит пропущенных значений. поэтому не надо обрабатывать их.    \n",
        "но мы должны иметь дело со столбцами объектов в нашем наборе данных."
      ]
    },
    {
      "cell_type": "markdown",
      "metadata": {
        "id": "Xx_DbuZ7Y9PH",
        "colab_type": "text"
      },
      "source": [
        "#Кодирование категориальных признаков"
      ]
    },
    {
      "cell_type": "code",
      "metadata": {
        "id": "zrXxjz9QEn2C",
        "colab_type": "code",
        "colab": {}
      },
      "source": [
        "LE=LabelEncoder()"
      ],
      "execution_count": 0,
      "outputs": []
    },
    {
      "cell_type": "code",
      "metadata": {
        "id": "S5sSyIOZFN_m",
        "colab_type": "code",
        "colab": {}
      },
      "source": [
        "data_vendor_name=LE.fit_transform(data['vendor_name'])\n",
        "data['vendor_name']=data_vendor_name"
      ],
      "execution_count": 0,
      "outputs": []
    },
    {
      "cell_type": "code",
      "metadata": {
        "id": "G9sa-ovKHJe4",
        "colab_type": "code",
        "colab": {}
      },
      "source": [
        "data_Model_Name=LE.fit_transform(data['Model_Name'])\n",
        "data['Model_Name']=data_Model_Name"
      ],
      "execution_count": 0,
      "outputs": []
    },
    {
      "cell_type": "code",
      "metadata": {
        "id": "pTSgjiB-Hk-5",
        "colab_type": "code",
        "outputId": "1f1e0053-3106-4388-a651-f9979e17372b",
        "colab": {
          "base_uri": "https://localhost:8080/",
          "height": 204
        }
      },
      "source": [
        "data.dtypes"
      ],
      "execution_count": 9,
      "outputs": [
        {
          "output_type": "execute_result",
          "data": {
            "text/plain": [
              "vendor_name    int64\n",
              "Model_Name     int64\n",
              "MYCT           int64\n",
              "MMIN           int64\n",
              "MMAX           int64\n",
              "CACH           int64\n",
              "CHMIN          int64\n",
              "CHMAX          int64\n",
              "PRP            int64\n",
              "ERP            int64\n",
              "dtype: object"
            ]
          },
          "metadata": {
            "tags": []
          },
          "execution_count": 9
        }
      ]
    },
    {
      "cell_type": "markdown",
      "metadata": {
        "id": "2I8yfmxAZIz_",
        "colab_type": "text"
      },
      "source": [
        "#разделиние выборку на обучающую и тестовую."
      ]
    },
    {
      "cell_type": "code",
      "metadata": {
        "id": "ll1md3Z3HoxU",
        "colab_type": "code",
        "colab": {}
      },
      "source": [
        "X_train, X_test, y_train, y_test = train_test_split(data[['vendor_name','Model_Name','MYCT','MMIN','MMAX','CACH','CHMIN','CHMAX','PRP']],data['ERP'],test_size=0.2, random_state=3)"
      ],
      "execution_count": 0,
      "outputs": []
    },
    {
      "cell_type": "code",
      "metadata": {
        "id": "jrWymjXdNjQ0",
        "colab_type": "code",
        "outputId": "1f7d5799-bcc1-439c-d66b-051e416106bd",
        "colab": {
          "base_uri": "https://localhost:8080/",
          "height": 85
        }
      },
      "source": [
        "print(X_train.shape)\n",
        "print(X_test.shape)\n",
        "print(y_train.shape)\n",
        "print(y_test.shape)"
      ],
      "execution_count": 11,
      "outputs": [
        {
          "output_type": "stream",
          "text": [
            "(167, 9)\n",
            "(42, 9)\n",
            "(167,)\n",
            "(42,)\n"
          ],
          "name": "stdout"
        }
      ]
    },
    {
      "cell_type": "markdown",
      "metadata": {
        "id": "_5NWXue5ZiTP",
        "colab_type": "text"
      },
      "source": [
        "#Выбор метрик для последующей оценки качества моделей"
      ]
    },
    {
      "cell_type": "markdown",
      "metadata": {
        "id": "ae_0nc80Zqia",
        "colab_type": "text"
      },
      "source": [
        "мы будем использовать среднюю абсолютную ошибку и медиану абсолютной ошибки"
      ]
    },
    {
      "cell_type": "code",
      "metadata": {
        "id": "-4O19SbNNqxx",
        "colab_type": "code",
        "colab": {}
      },
      "source": [
        "def test_model(model):\n",
        "  return {'mean_absolute_error':mean_absolute_error(y_test, model.predict(X_test)),\n",
        "          'median_absolute_error' : median_absolute_error(y_test, model.predict(X_test))}\n",
        "  "
      ],
      "execution_count": 0,
      "outputs": []
    },
    {
      "cell_type": "markdown",
      "metadata": {
        "id": "-LNiPBPmZzh6",
        "colab_type": "text"
      },
      "source": [
        "#Random Forest Regressor"
      ]
    },
    {
      "cell_type": "code",
      "metadata": {
        "id": "nZ4_H0mANv4H",
        "colab_type": "code",
        "outputId": "4c1d38fb-2b6d-4e19-cd3e-8b7a13a08104",
        "colab": {
          "base_uri": "https://localhost:8080/",
          "height": 136
        }
      },
      "source": [
        "ran_100 = RandomForestRegressor(n_estimators=100)\n",
        "ran_100.fit(X_train, y_train)"
      ],
      "execution_count": 13,
      "outputs": [
        {
          "output_type": "execute_result",
          "data": {
            "text/plain": [
              "RandomForestRegressor(bootstrap=True, ccp_alpha=0.0, criterion='mse',\n",
              "                      max_depth=None, max_features='auto', max_leaf_nodes=None,\n",
              "                      max_samples=None, min_impurity_decrease=0.0,\n",
              "                      min_impurity_split=None, min_samples_leaf=1,\n",
              "                      min_samples_split=2, min_weight_fraction_leaf=0.0,\n",
              "                      n_estimators=100, n_jobs=None, oob_score=False,\n",
              "                      random_state=None, verbose=0, warm_start=False)"
            ]
          },
          "metadata": {
            "tags": []
          },
          "execution_count": 13
        }
      ]
    },
    {
      "cell_type": "code",
      "metadata": {
        "id": "T6NofRHkN0nn",
        "colab_type": "code",
        "outputId": "86981592-c708-41cb-de55-7a4770ce0dbb",
        "colab": {
          "base_uri": "https://localhost:8080/",
          "height": 34
        }
      },
      "source": [
        "metrics_RF=test_model(ran_100)\n",
        "metrics_RF"
      ],
      "execution_count": 14,
      "outputs": [
        {
          "output_type": "execute_result",
          "data": {
            "text/plain": [
              "{'mean_absolute_error': 10.954999999999998, 'median_absolute_error': 2.5}"
            ]
          },
          "metadata": {
            "tags": []
          },
          "execution_count": 14
        }
      ]
    },
    {
      "cell_type": "markdown",
      "metadata": {
        "id": "Z6XIQcmTZ5-3",
        "colab_type": "text"
      },
      "source": [
        "#Gradient Boosting Regressor"
      ]
    },
    {
      "cell_type": "code",
      "metadata": {
        "id": "klv3VtEfOZac",
        "colab_type": "code",
        "outputId": "5eefa5a0-ba3d-4cf3-a8a2-776f09d540ba",
        "colab": {
          "base_uri": "https://localhost:8080/",
          "height": 170
        }
      },
      "source": [
        "gr_10 = GradientBoostingRegressor(n_estimators=100)\n",
        "gr_10.fit(X_train, y_train)"
      ],
      "execution_count": 15,
      "outputs": [
        {
          "output_type": "execute_result",
          "data": {
            "text/plain": [
              "GradientBoostingRegressor(alpha=0.9, ccp_alpha=0.0, criterion='friedman_mse',\n",
              "                          init=None, learning_rate=0.1, loss='ls', max_depth=3,\n",
              "                          max_features=None, max_leaf_nodes=None,\n",
              "                          min_impurity_decrease=0.0, min_impurity_split=None,\n",
              "                          min_samples_leaf=1, min_samples_split=2,\n",
              "                          min_weight_fraction_leaf=0.0, n_estimators=100,\n",
              "                          n_iter_no_change=None, presort='deprecated',\n",
              "                          random_state=None, subsample=1.0, tol=0.0001,\n",
              "                          validation_fraction=0.1, verbose=0, warm_start=False)"
            ]
          },
          "metadata": {
            "tags": []
          },
          "execution_count": 15
        }
      ]
    },
    {
      "cell_type": "code",
      "metadata": {
        "id": "cqZ6_ziCOcnO",
        "colab_type": "code",
        "outputId": "48346a1e-993b-4e4c-d34e-bb30e4dc3d07",
        "colab": {
          "base_uri": "https://localhost:8080/",
          "height": 51
        }
      },
      "source": [
        "metrics_GBR=test_model(gr_10)\n",
        "metrics_GBR"
      ],
      "execution_count": 16,
      "outputs": [
        {
          "output_type": "execute_result",
          "data": {
            "text/plain": [
              "{'mean_absolute_error': 10.228130540371126,\n",
              " 'median_absolute_error': 1.7911168435883713}"
            ]
          },
          "metadata": {
            "tags": []
          },
          "execution_count": 16
        }
      ]
    },
    {
      "cell_type": "markdown",
      "metadata": {
        "id": "VUBD9i5oZ-QN",
        "colab_type": "text"
      },
      "source": [
        "#Подбор гиперпараметров для выбранных моделей"
      ]
    },
    {
      "cell_type": "code",
      "metadata": {
        "id": "DQxUcwvgOeha",
        "colab_type": "code",
        "outputId": "8983d34a-532f-440b-88ac-c07a6e00466e",
        "colab": {
          "base_uri": "https://localhost:8080/",
          "height": 85
        }
      },
      "source": [
        "param_grid = {\n",
        "    'max_depth' : [1, 2, 3, 4, 5],\n",
        "    'max_samples' : [0.05, 0.1, 0.2, 0.5],\n",
        "    'max_leaf_nodes':[10, 15],\n",
        "    'n_estimators':np.array(range(1,100,10))\n",
        "}\n",
        "param_grid"
      ],
      "execution_count": 17,
      "outputs": [
        {
          "output_type": "execute_result",
          "data": {
            "text/plain": [
              "{'max_depth': [1, 2, 3, 4, 5],\n",
              " 'max_leaf_nodes': [10, 15],\n",
              " 'max_samples': [0.05, 0.1, 0.2, 0.5],\n",
              " 'n_estimators': array([ 1, 11, 21, 31, 41, 51, 61, 71, 81, 91])}"
            ]
          },
          "metadata": {
            "tags": []
          },
          "execution_count": 17
        }
      ]
    },
    {
      "cell_type": "code",
      "metadata": {
        "id": "wdYDpxhQOhWY",
        "colab_type": "code",
        "outputId": "4b957bd3-36d3-4dc0-b4e5-03381efb4d5d",
        "colab": {
          "base_uri": "https://localhost:8080/",
          "height": 136
        }
      },
      "source": [
        "gs = GridSearchCV(RandomForestRegressor(), param_grid,\n",
        "                  cv=ShuffleSplit(n_splits=10), scoring=\"neg_mean_squared_error\",\n",
        "                    return_train_score=True, n_jobs=-1)\n",
        "gs.fit(X_train, y_train)\n",
        "gs.best_estimator_"
      ],
      "execution_count": 18,
      "outputs": [
        {
          "output_type": "execute_result",
          "data": {
            "text/plain": [
              "RandomForestRegressor(bootstrap=True, ccp_alpha=0.0, criterion='mse',\n",
              "                      max_depth=4, max_features='auto', max_leaf_nodes=10,\n",
              "                      max_samples=0.5, min_impurity_decrease=0.0,\n",
              "                      min_impurity_split=None, min_samples_leaf=1,\n",
              "                      min_samples_split=2, min_weight_fraction_leaf=0.0,\n",
              "                      n_estimators=71, n_jobs=None, oob_score=False,\n",
              "                      random_state=None, verbose=0, warm_start=False)"
            ]
          },
          "metadata": {
            "tags": []
          },
          "execution_count": 18
        }
      ]
    },
    {
      "cell_type": "code",
      "metadata": {
        "id": "cwTON95IVfUJ",
        "colab_type": "code",
        "outputId": "589665c0-da48-4ef2-bce4-e1f79ae686c0",
        "colab": {
          "base_uri": "https://localhost:8080/",
          "height": 34
        }
      },
      "source": [
        "gs.best_params_"
      ],
      "execution_count": 19,
      "outputs": [
        {
          "output_type": "execute_result",
          "data": {
            "text/plain": [
              "{'max_depth': 4, 'max_leaf_nodes': 10, 'max_samples': 0.5, 'n_estimators': 71}"
            ]
          },
          "metadata": {
            "tags": []
          },
          "execution_count": 19
        }
      ]
    },
    {
      "cell_type": "code",
      "metadata": {
        "id": "PysxvbojO6i3",
        "colab_type": "code",
        "outputId": "5c2188a2-7746-4d02-e90e-e503833baf67",
        "colab": {
          "base_uri": "https://localhost:8080/",
          "height": 51
        }
      },
      "source": [
        "reg = gs.best_estimator_\n",
        "reg.fit(X_train, y_train)\n",
        "new_metrics_RF=test_model(reg)\n",
        "new_metrics_RF"
      ],
      "execution_count": 20,
      "outputs": [
        {
          "output_type": "execute_result",
          "data": {
            "text/plain": [
              "{'mean_absolute_error': 15.760364301003799,\n",
              " 'median_absolute_error': 7.665092253800962}"
            ]
          },
          "metadata": {
            "tags": []
          },
          "execution_count": 20
        }
      ]
    },
    {
      "cell_type": "code",
      "metadata": {
        "id": "kNuKb289O8lH",
        "colab_type": "code",
        "colab": {}
      },
      "source": [
        "param_grid = {\n",
        "    'max_depth' : [1, 2, 3, 4, 5],\n",
        "    'max_leaf_nodes':[10, 15],\n",
        "    'n_estimators':np.array(range(1,100,10))\n",
        "}"
      ],
      "execution_count": 0,
      "outputs": []
    },
    {
      "cell_type": "code",
      "metadata": {
        "id": "ZezVtmdwPF8O",
        "colab_type": "code",
        "outputId": "ba1f4907-0135-4d06-8eca-b888a574d928",
        "colab": {
          "base_uri": "https://localhost:8080/",
          "height": 170
        }
      },
      "source": [
        "gbr = GridSearchCV(GradientBoostingRegressor(), param_grid,\n",
        "                            cv=ShuffleSplit(n_splits=10), scoring=\"neg_mean_squared_error\",\n",
        "                              return_train_score=True, n_jobs=-1)\n",
        "gbr.fit(X_train, y_train)\n",
        "gbr.best_estimator_"
      ],
      "execution_count": 22,
      "outputs": [
        {
          "output_type": "execute_result",
          "data": {
            "text/plain": [
              "GradientBoostingRegressor(alpha=0.9, ccp_alpha=0.0, criterion='friedman_mse',\n",
              "                          init=None, learning_rate=0.1, loss='ls', max_depth=4,\n",
              "                          max_features=None, max_leaf_nodes=10,\n",
              "                          min_impurity_decrease=0.0, min_impurity_split=None,\n",
              "                          min_samples_leaf=1, min_samples_split=2,\n",
              "                          min_weight_fraction_leaf=0.0, n_estimators=61,\n",
              "                          n_iter_no_change=None, presort='deprecated',\n",
              "                          random_state=None, subsample=1.0, tol=0.0001,\n",
              "                          validation_fraction=0.1, verbose=0, warm_start=False)"
            ]
          },
          "metadata": {
            "tags": []
          },
          "execution_count": 22
        }
      ]
    },
    {
      "cell_type": "code",
      "metadata": {
        "id": "zDZr_EhyPPO8",
        "colab_type": "code",
        "outputId": "1faae7a1-cf40-4a96-f75d-94759e34f183",
        "colab": {
          "base_uri": "https://localhost:8080/",
          "height": 51
        }
      },
      "source": [
        "reg = gbr.best_estimator_\n",
        "reg.fit(X_train, y_train)\n",
        "new_metrics_GBR=test_model(reg)\n",
        "new_metrics_GBR"
      ],
      "execution_count": 23,
      "outputs": [
        {
          "output_type": "execute_result",
          "data": {
            "text/plain": [
              "{'mean_absolute_error': 10.908652611618384,\n",
              " 'median_absolute_error': 2.9295372090949954}"
            ]
          },
          "metadata": {
            "tags": []
          },
          "execution_count": 23
        }
      ]
    },
    {
      "cell_type": "markdown",
      "metadata": {
        "id": "9C0AsgZZdpuf",
        "colab_type": "text"
      },
      "source": [
        "#Сравниние качество полученных моделей"
      ]
    },
    {
      "cell_type": "code",
      "metadata": {
        "id": "xULyTXXtPRdv",
        "colab_type": "code",
        "outputId": "9b32c79a-7790-47b8-b0bc-92bf020dfd79",
        "colab": {
          "base_uri": "https://localhost:8080/",
          "height": 51
        }
      },
      "source": [
        "print(metrics_RF)\n",
        "print(new_metrics_RF)"
      ],
      "execution_count": 24,
      "outputs": [
        {
          "output_type": "stream",
          "text": [
            "{'mean_absolute_error': 10.954999999999998, 'median_absolute_error': 2.5}\n",
            "{'mean_absolute_error': 15.760364301003799, 'median_absolute_error': 7.665092253800962}\n"
          ],
          "name": "stdout"
        }
      ]
    },
    {
      "cell_type": "code",
      "metadata": {
        "id": "LxsdcASreH_W",
        "colab_type": "code",
        "outputId": "9d0cf003-bb5b-4179-ffa7-df1c22e7174e",
        "colab": {
          "base_uri": "https://localhost:8080/",
          "height": 51
        }
      },
      "source": [
        "print(metrics_GBR)\n",
        "print(new_metrics_GBR)"
      ],
      "execution_count": 25,
      "outputs": [
        {
          "output_type": "stream",
          "text": [
            "{'mean_absolute_error': 10.228130540371126, 'median_absolute_error': 1.7911168435883713}\n",
            "{'mean_absolute_error': 10.908652611618384, 'median_absolute_error': 2.9295372090949954}\n"
          ],
          "name": "stdout"
        }
      ]
    },
    {
      "cell_type": "code",
      "metadata": {
        "id": "LskUJ54O5ntU",
        "colab_type": "code",
        "colab": {}
      },
      "source": [
        ""
      ],
      "execution_count": 0,
      "outputs": []
    }
  ]
}