{
  "nbformat": 4,
  "nbformat_minor": 0,
  "metadata": {
    "colab": {
      "name": "MMO_LAB3.ipynb",
      "provenance": [],
      "collapsed_sections": [],
      "toc_visible": true,
      "include_colab_link": true
    },
    "kernelspec": {
      "name": "python3",
      "display_name": "Python 3"
    }
  },
  "cells": [
    {
      "cell_type": "markdown",
      "metadata": {
        "id": "view-in-github",
        "colab_type": "text"
      },
      "source": [
        "<a href=\"https://colab.research.google.com/github/ahmadalideeb/machine-learning/blob/master/MMO_LAB3.ipynb\" target=\"_parent\"><img src=\"https://colab.research.google.com/assets/colab-badge.svg\" alt=\"Open In Colab\"/></a>"
      ]
    },
    {
      "cell_type": "markdown",
      "metadata": {
        "id": "oVREwfwQn3Rl",
        "colab_type": "text"
      },
      "source": [
        "## набор данных"
      ]
    },
    {
      "cell_type": "markdown",
      "metadata": {
        "id": "vf_2lWryyJCJ",
        "colab_type": "text"
      },
      "source": [
        "Мы собираемся изучить набор данных о футбольных матчах, которые проходили на чемпионате мира 2018 года в России.  \n",
        "База данных состоит из информации о производительности каждой команды в каждом футбольном матче, который он сыграл. Эта информация будет частью построения модели машинного обучения, которая будет предсказывать, получит ли эта команда награду «Man of the Match.  \n",
        "Давайте сначала посмотрим на наш набор данных и увидим некоторые его строки."
      ]
    },
    {
      "cell_type": "code",
      "metadata": {
        "id": "0dpZLo7GH-fr",
        "colab_type": "code",
        "outputId": "ed492088-9f67-431d-bee3-2fa8ba145039",
        "colab": {
          "base_uri": "https://localhost:8080/",
          "height": 71
        }
      },
      "source": [
        "import numpy as np\n",
        "import pandas as pd\n",
        "import seaborn as sns\n",
        "import matplotlib.pyplot as plt\n",
        "%matplotlib inline \n",
        "sns.set(style=\"ticks\")"
      ],
      "execution_count": 1,
      "outputs": [
        {
          "output_type": "stream",
          "text": [
            "/usr/local/lib/python3.6/dist-packages/statsmodels/tools/_testing.py:19: FutureWarning: pandas.util.testing is deprecated. Use the functions in the public API at pandas.testing instead.\n",
            "  import pandas.util.testing as tm\n"
          ],
          "name": "stderr"
        }
      ]
    },
    {
      "cell_type": "code",
      "metadata": {
        "id": "unz9RYaYHvtU",
        "colab_type": "code",
        "colab": {}
      },
      "source": [
        "data = pd.read_csv('FIFA 2018 Statistics.csv', sep=\",\")"
      ],
      "execution_count": 0,
      "outputs": []
    },
    {
      "cell_type": "code",
      "metadata": {
        "id": "43V_kW6VOWif",
        "colab_type": "code",
        "outputId": "a5485af8-11f5-4420-e0dd-4f1ca0bd4cd1",
        "colab": {
          "base_uri": "https://localhost:8080/",
          "height": 445
        }
      },
      "source": [
        "data.head()"
      ],
      "execution_count": 3,
      "outputs": [
        {
          "output_type": "execute_result",
          "data": {
            "text/html": [
              "<div>\n",
              "<style scoped>\n",
              "    .dataframe tbody tr th:only-of-type {\n",
              "        vertical-align: middle;\n",
              "    }\n",
              "\n",
              "    .dataframe tbody tr th {\n",
              "        vertical-align: top;\n",
              "    }\n",
              "\n",
              "    .dataframe thead th {\n",
              "        text-align: right;\n",
              "    }\n",
              "</style>\n",
              "<table border=\"1\" class=\"dataframe\">\n",
              "  <thead>\n",
              "    <tr style=\"text-align: right;\">\n",
              "      <th></th>\n",
              "      <th>Date</th>\n",
              "      <th>Team</th>\n",
              "      <th>Opponent</th>\n",
              "      <th>Goal Scored</th>\n",
              "      <th>Ball Possession %</th>\n",
              "      <th>Attempts</th>\n",
              "      <th>On-Target</th>\n",
              "      <th>Off-Target</th>\n",
              "      <th>Blocked</th>\n",
              "      <th>Corners</th>\n",
              "      <th>Offsides</th>\n",
              "      <th>Free Kicks</th>\n",
              "      <th>Saves</th>\n",
              "      <th>Pass Accuracy %</th>\n",
              "      <th>Passes</th>\n",
              "      <th>Distance Covered (Kms)</th>\n",
              "      <th>Fouls Committed</th>\n",
              "      <th>Yellow Card</th>\n",
              "      <th>Yellow &amp; Red</th>\n",
              "      <th>Red</th>\n",
              "      <th>Man of the Match</th>\n",
              "      <th>1st Goal</th>\n",
              "      <th>Round</th>\n",
              "      <th>PSO</th>\n",
              "      <th>Goals in PSO</th>\n",
              "      <th>Own goals</th>\n",
              "      <th>Own goal Time</th>\n",
              "    </tr>\n",
              "  </thead>\n",
              "  <tbody>\n",
              "    <tr>\n",
              "      <th>0</th>\n",
              "      <td>14-06-2018</td>\n",
              "      <td>Russia</td>\n",
              "      <td>Saudi Arabia</td>\n",
              "      <td>5</td>\n",
              "      <td>40</td>\n",
              "      <td>13</td>\n",
              "      <td>7</td>\n",
              "      <td>3</td>\n",
              "      <td>3</td>\n",
              "      <td>6</td>\n",
              "      <td>3</td>\n",
              "      <td>11</td>\n",
              "      <td>0</td>\n",
              "      <td>78</td>\n",
              "      <td>306</td>\n",
              "      <td>118</td>\n",
              "      <td>22</td>\n",
              "      <td>0</td>\n",
              "      <td>0</td>\n",
              "      <td>0</td>\n",
              "      <td>Yes</td>\n",
              "      <td>12.0</td>\n",
              "      <td>Group Stage</td>\n",
              "      <td>No</td>\n",
              "      <td>0</td>\n",
              "      <td>NaN</td>\n",
              "      <td>NaN</td>\n",
              "    </tr>\n",
              "    <tr>\n",
              "      <th>1</th>\n",
              "      <td>14-06-2018</td>\n",
              "      <td>Saudi Arabia</td>\n",
              "      <td>Russia</td>\n",
              "      <td>0</td>\n",
              "      <td>60</td>\n",
              "      <td>6</td>\n",
              "      <td>0</td>\n",
              "      <td>3</td>\n",
              "      <td>3</td>\n",
              "      <td>2</td>\n",
              "      <td>1</td>\n",
              "      <td>25</td>\n",
              "      <td>2</td>\n",
              "      <td>86</td>\n",
              "      <td>511</td>\n",
              "      <td>105</td>\n",
              "      <td>10</td>\n",
              "      <td>0</td>\n",
              "      <td>0</td>\n",
              "      <td>0</td>\n",
              "      <td>No</td>\n",
              "      <td>NaN</td>\n",
              "      <td>Group Stage</td>\n",
              "      <td>No</td>\n",
              "      <td>0</td>\n",
              "      <td>NaN</td>\n",
              "      <td>NaN</td>\n",
              "    </tr>\n",
              "    <tr>\n",
              "      <th>2</th>\n",
              "      <td>15-06-2018</td>\n",
              "      <td>Egypt</td>\n",
              "      <td>Uruguay</td>\n",
              "      <td>0</td>\n",
              "      <td>43</td>\n",
              "      <td>8</td>\n",
              "      <td>3</td>\n",
              "      <td>3</td>\n",
              "      <td>2</td>\n",
              "      <td>0</td>\n",
              "      <td>1</td>\n",
              "      <td>7</td>\n",
              "      <td>3</td>\n",
              "      <td>78</td>\n",
              "      <td>395</td>\n",
              "      <td>112</td>\n",
              "      <td>12</td>\n",
              "      <td>2</td>\n",
              "      <td>0</td>\n",
              "      <td>0</td>\n",
              "      <td>No</td>\n",
              "      <td>NaN</td>\n",
              "      <td>Group Stage</td>\n",
              "      <td>No</td>\n",
              "      <td>0</td>\n",
              "      <td>NaN</td>\n",
              "      <td>NaN</td>\n",
              "    </tr>\n",
              "    <tr>\n",
              "      <th>3</th>\n",
              "      <td>15-06-2018</td>\n",
              "      <td>Uruguay</td>\n",
              "      <td>Egypt</td>\n",
              "      <td>1</td>\n",
              "      <td>57</td>\n",
              "      <td>14</td>\n",
              "      <td>4</td>\n",
              "      <td>6</td>\n",
              "      <td>4</td>\n",
              "      <td>5</td>\n",
              "      <td>1</td>\n",
              "      <td>13</td>\n",
              "      <td>3</td>\n",
              "      <td>86</td>\n",
              "      <td>589</td>\n",
              "      <td>111</td>\n",
              "      <td>6</td>\n",
              "      <td>0</td>\n",
              "      <td>0</td>\n",
              "      <td>0</td>\n",
              "      <td>Yes</td>\n",
              "      <td>89.0</td>\n",
              "      <td>Group Stage</td>\n",
              "      <td>No</td>\n",
              "      <td>0</td>\n",
              "      <td>NaN</td>\n",
              "      <td>NaN</td>\n",
              "    </tr>\n",
              "    <tr>\n",
              "      <th>4</th>\n",
              "      <td>15-06-2018</td>\n",
              "      <td>Morocco</td>\n",
              "      <td>Iran</td>\n",
              "      <td>0</td>\n",
              "      <td>64</td>\n",
              "      <td>13</td>\n",
              "      <td>3</td>\n",
              "      <td>6</td>\n",
              "      <td>4</td>\n",
              "      <td>5</td>\n",
              "      <td>0</td>\n",
              "      <td>14</td>\n",
              "      <td>2</td>\n",
              "      <td>86</td>\n",
              "      <td>433</td>\n",
              "      <td>101</td>\n",
              "      <td>22</td>\n",
              "      <td>1</td>\n",
              "      <td>0</td>\n",
              "      <td>0</td>\n",
              "      <td>No</td>\n",
              "      <td>NaN</td>\n",
              "      <td>Group Stage</td>\n",
              "      <td>No</td>\n",
              "      <td>0</td>\n",
              "      <td>1.0</td>\n",
              "      <td>90.0</td>\n",
              "    </tr>\n",
              "  </tbody>\n",
              "</table>\n",
              "</div>"
            ],
            "text/plain": [
              "         Date          Team  ... Own goals  Own goal Time\n",
              "0  14-06-2018        Russia  ...       NaN            NaN\n",
              "1  14-06-2018  Saudi Arabia  ...       NaN            NaN\n",
              "2  15-06-2018         Egypt  ...       NaN            NaN\n",
              "3  15-06-2018       Uruguay  ...       NaN            NaN\n",
              "4  15-06-2018       Morocco  ...       1.0           90.0\n",
              "\n",
              "[5 rows x 27 columns]"
            ]
          },
          "metadata": {
            "tags": []
          },
          "execution_count": 3
        }
      ]
    },
    {
      "cell_type": "markdown",
      "metadata": {
        "id": "jkESBiml1c9q",
        "colab_type": "text"
      },
      "source": [
        "Вот все атрибуты, которые наш набор данных содержит с их объяснениями."
      ]
    },
    {
      "cell_type": "markdown",
      "metadata": {
        "id": "8frinFFG0G-F",
        "colab_type": "text"
      },
      "source": [
        "1. **Date:** Match Date\n",
        "2. ***Team:*** Playing Team\n",
        "3. ***Opponent:*** Opponent Team\n",
        "4. ***Goal Scored:*** Number of goals scored by this team\n",
        "5. ***Ball Possession %:*** Amount of time ball was in control by the team\n",
        "5. ***Attempts:*** Number of attempts to score goal\n",
        "6. ***On-Target:*** Number of shots on-target\n",
        "7. ***Off-Target:*** Number of shots that went off-target\n",
        "8. ***Blocked:*** Number of opponent team's attempts blocked by the team\n",
        "9. ***Corners:*** Number of corner shots used\n",
        "10. ***Offsides:*** Number of off-side events\n",
        "11. ***Free Kicks:*** Number of free-kicks used\n",
        "12. ***Saves:*** Number saves by the goal keeper\n",
        "13. ***Pass Accuracy %:*** Percentage of passes that reached the same team player as aimed\n",
        "14. ***Passes:*** Total number of passes by the team\n",
        "15. ***Distance Covered (Kms):*** Total distance covered by the team members in this game\n",
        "15. ***Fouls Committed:*** Number of fouls committed by the team members\n",
        "16. ***Yellow Card:*** Number of Yellow warning received\n",
        "17. ***Yellow & Red:*** Number of Yellow & Red warning received\n",
        "18. ***Red:*** Number of Red cards received\n",
        "17. ***Man of the Match:*** Did this team member win Man of the Match?\n",
        "18. ***1st Goal:*** When did the team score the 1st goal?\n",
        "19. ***Round:*** Stage of the match\n",
        "19. ***PSO:*** Was there a penalty shootout (PSO) in this match?\n",
        "20. ***Goals in PSO:*** Number of goals scored in the Penalty shootout\n",
        "21. ***Own goals:*** Number of own goals\n",
        "22. ***Own goal Time:*** When did the team score own goal?"
      ]
    },
    {
      "cell_type": "code",
      "metadata": {
        "id": "wGqFtN43IDQU",
        "colab_type": "code",
        "outputId": "e2c70029-4cfc-424e-a4b7-970b817ae4e0",
        "colab": {
          "base_uri": "https://localhost:8080/",
          "height": 34
        }
      },
      "source": [
        "data.shape"
      ],
      "execution_count": 4,
      "outputs": [
        {
          "output_type": "execute_result",
          "data": {
            "text/plain": [
              "(128, 27)"
            ]
          },
          "metadata": {
            "tags": []
          },
          "execution_count": 4
        }
      ]
    },
    {
      "cell_type": "code",
      "metadata": {
        "id": "KAyDReK8NoNr",
        "colab_type": "code",
        "outputId": "5a8c63e0-3c05-4f3e-ac62-63d35b438488",
        "colab": {
          "base_uri": "https://localhost:8080/",
          "height": 493
        }
      },
      "source": [
        "data.dtypes"
      ],
      "execution_count": 5,
      "outputs": [
        {
          "output_type": "execute_result",
          "data": {
            "text/plain": [
              "Date                       object\n",
              "Team                       object\n",
              "Opponent                   object\n",
              "Goal Scored                 int64\n",
              "Ball Possession %           int64\n",
              "Attempts                    int64\n",
              "On-Target                   int64\n",
              "Off-Target                  int64\n",
              "Blocked                     int64\n",
              "Corners                     int64\n",
              "Offsides                    int64\n",
              "Free Kicks                  int64\n",
              "Saves                       int64\n",
              "Pass Accuracy %             int64\n",
              "Passes                      int64\n",
              "Distance Covered (Kms)      int64\n",
              "Fouls Committed             int64\n",
              "Yellow Card                 int64\n",
              "Yellow & Red                int64\n",
              "Red                         int64\n",
              "Man of the Match           object\n",
              "1st Goal                  float64\n",
              "Round                      object\n",
              "PSO                        object\n",
              "Goals in PSO                int64\n",
              "Own goals                 float64\n",
              "Own goal Time             float64\n",
              "dtype: object"
            ]
          },
          "metadata": {
            "tags": []
          },
          "execution_count": 5
        }
      ]
    },
    {
      "cell_type": "markdown",
      "metadata": {
        "id": "nhoiNr8YPDRL",
        "colab_type": "text"
      },
      "source": [
        "## 1. Обработка пропусков в данных¶\n"
      ]
    },
    {
      "cell_type": "code",
      "metadata": {
        "id": "s2097XrxOPcp",
        "colab_type": "code",
        "outputId": "c09c23bd-6fd6-4f88-8360-36de61cd0ea2",
        "colab": {
          "base_uri": "https://localhost:8080/",
          "height": 493
        }
      },
      "source": [
        "data.isnull().sum()"
      ],
      "execution_count": 6,
      "outputs": [
        {
          "output_type": "execute_result",
          "data": {
            "text/plain": [
              "Date                        0\n",
              "Team                        0\n",
              "Opponent                    0\n",
              "Goal Scored                 0\n",
              "Ball Possession %           0\n",
              "Attempts                    0\n",
              "On-Target                   0\n",
              "Off-Target                  0\n",
              "Blocked                     0\n",
              "Corners                     0\n",
              "Offsides                    0\n",
              "Free Kicks                  0\n",
              "Saves                       0\n",
              "Pass Accuracy %             0\n",
              "Passes                      0\n",
              "Distance Covered (Kms)      0\n",
              "Fouls Committed             0\n",
              "Yellow Card                 0\n",
              "Yellow & Red                0\n",
              "Red                         0\n",
              "Man of the Match            0\n",
              "1st Goal                   34\n",
              "Round                       0\n",
              "PSO                         0\n",
              "Goals in PSO                0\n",
              "Own goals                 116\n",
              "Own goal Time             116\n",
              "dtype: int64"
            ]
          },
          "metadata": {
            "tags": []
          },
          "execution_count": 6
        }
      ]
    },
    {
      "cell_type": "markdown",
      "metadata": {
        "id": "fMgwMZ7p2kR5",
        "colab_type": "text"
      },
      "source": [
        "Мы видим, что только три из наших столбцов имеют нулевое значение."
      ]
    },
    {
      "cell_type": "code",
      "metadata": {
        "id": "AUVL8HvGOSft",
        "colab_type": "code",
        "outputId": "ffe70742-4cbe-438d-c92a-994f1efe81c1",
        "colab": {
          "base_uri": "https://localhost:8080/",
          "height": 34
        }
      },
      "source": [
        "total_count = data.shape[0]\n",
        "print('Всего строк: {}'.format(total_count))"
      ],
      "execution_count": 7,
      "outputs": [
        {
          "output_type": "stream",
          "text": [
            "Всего строк: 128\n"
          ],
          "name": "stdout"
        }
      ]
    },
    {
      "cell_type": "code",
      "metadata": {
        "id": "9cMV-cYSOvXJ",
        "colab_type": "code",
        "outputId": "450027f3-aa62-4a78-b505-1ab6de8acfe4",
        "colab": {
          "base_uri": "https://localhost:8080/",
          "height": 34
        }
      },
      "source": [
        "data_new_1 = data.dropna(axis=1, how='any')\n",
        "(data.shape, data_new_1.shape)"
      ],
      "execution_count": 8,
      "outputs": [
        {
          "output_type": "execute_result",
          "data": {
            "text/plain": [
              "((128, 27), (128, 24))"
            ]
          },
          "metadata": {
            "tags": []
          },
          "execution_count": 8
        }
      ]
    },
    {
      "cell_type": "code",
      "metadata": {
        "id": "tHf6ZaihRK61",
        "colab_type": "code",
        "outputId": "e37eb417-45e1-4559-c709-2385988b596c",
        "colab": {
          "base_uri": "https://localhost:8080/",
          "height": 34
        }
      },
      "source": [
        "data_new_2 = data.dropna(axis=0, how='any')\n",
        "(data.shape, data_new_2.shape)"
      ],
      "execution_count": 9,
      "outputs": [
        {
          "output_type": "execute_result",
          "data": {
            "text/plain": [
              "((128, 27), (7, 27))"
            ]
          },
          "metadata": {
            "tags": []
          },
          "execution_count": 9
        }
      ]
    },
    {
      "cell_type": "markdown",
      "metadata": {
        "id": "oxv8PZso24v7",
        "colab_type": "text"
      },
      "source": [
        "Если мы удалили столбцы, содержащие нулевое значение, мы получим 24 вместо 27.  \n",
        "Если мы удалили строку, содержащую нулевые значения, мы получим только 7 строк.  \n",
        "Процент пустых значений в трех столбцах:"
      ]
    },
    {
      "cell_type": "code",
      "metadata": {
        "id": "3DZojzt9ROfY",
        "colab_type": "code",
        "outputId": "07fa561a-7073-45a8-f4d7-1b2bd116b529",
        "colab": {
          "base_uri": "https://localhost:8080/",
          "height": 68
        }
      },
      "source": [
        "num_cols = []\n",
        "for col in data.columns:\n",
        "    # Количество пустых значений \n",
        "    temp_null_count = data[data[col].isnull()].shape[0]\n",
        "    dt = str(data[col].dtype)\n",
        "    if temp_null_count>0:\n",
        "        num_cols.append(col)\n",
        "        temp_perc = round((temp_null_count / total_count) * 100.0, 2)\n",
        "        print('Колонка {}. Тип данных {}. Количество пустых значений {}, {}%.'.format(col, dt, temp_null_count, temp_perc))"
      ],
      "execution_count": 10,
      "outputs": [
        {
          "output_type": "stream",
          "text": [
            "Колонка 1st Goal. Тип данных float64. Количество пустых значений 34, 26.56%.\n",
            "Колонка Own goals. Тип данных float64. Количество пустых значений 116, 90.62%.\n",
            "Колонка Own goal Time. Тип данных float64. Количество пустых значений 116, 90.62%.\n"
          ],
          "name": "stdout"
        }
      ]
    },
    {
      "cell_type": "markdown",
      "metadata": {
        "id": "44wCfEhSkk5W",
        "colab_type": "text"
      },
      "source": [
        "В первом столбце указано время для первого гола, забитого командой. Это называется '1st Goal'.  \n",
        "Во втором столбце указано количество голов, которые команда поставила в пользу команды соперника (внутри своей сети). Это называется 'Own goals'.  \n",
        "Третий описывает время, когда команда забила гол против себя. Это называется 'Own goal Time'"
      ]
    },
    {
      "cell_type": "code",
      "metadata": {
        "id": "-jPA8_aXRqS_",
        "colab_type": "code",
        "outputId": "4d0bfe38-2b92-4b40-8c3b-ee0789e87aeb",
        "colab": {
          "base_uri": "https://localhost:8080/",
          "height": 419
        }
      },
      "source": [
        "data_num = data[num_cols]\n",
        "data_num"
      ],
      "execution_count": 11,
      "outputs": [
        {
          "output_type": "execute_result",
          "data": {
            "text/html": [
              "<div>\n",
              "<style scoped>\n",
              "    .dataframe tbody tr th:only-of-type {\n",
              "        vertical-align: middle;\n",
              "    }\n",
              "\n",
              "    .dataframe tbody tr th {\n",
              "        vertical-align: top;\n",
              "    }\n",
              "\n",
              "    .dataframe thead th {\n",
              "        text-align: right;\n",
              "    }\n",
              "</style>\n",
              "<table border=\"1\" class=\"dataframe\">\n",
              "  <thead>\n",
              "    <tr style=\"text-align: right;\">\n",
              "      <th></th>\n",
              "      <th>1st Goal</th>\n",
              "      <th>Own goals</th>\n",
              "      <th>Own goal Time</th>\n",
              "    </tr>\n",
              "  </thead>\n",
              "  <tbody>\n",
              "    <tr>\n",
              "      <th>0</th>\n",
              "      <td>12.0</td>\n",
              "      <td>NaN</td>\n",
              "      <td>NaN</td>\n",
              "    </tr>\n",
              "    <tr>\n",
              "      <th>1</th>\n",
              "      <td>NaN</td>\n",
              "      <td>NaN</td>\n",
              "      <td>NaN</td>\n",
              "    </tr>\n",
              "    <tr>\n",
              "      <th>2</th>\n",
              "      <td>NaN</td>\n",
              "      <td>NaN</td>\n",
              "      <td>NaN</td>\n",
              "    </tr>\n",
              "    <tr>\n",
              "      <th>3</th>\n",
              "      <td>89.0</td>\n",
              "      <td>NaN</td>\n",
              "      <td>NaN</td>\n",
              "    </tr>\n",
              "    <tr>\n",
              "      <th>4</th>\n",
              "      <td>NaN</td>\n",
              "      <td>1.0</td>\n",
              "      <td>90.0</td>\n",
              "    </tr>\n",
              "    <tr>\n",
              "      <th>...</th>\n",
              "      <td>...</td>\n",
              "      <td>...</td>\n",
              "      <td>...</td>\n",
              "    </tr>\n",
              "    <tr>\n",
              "      <th>123</th>\n",
              "      <td>5.0</td>\n",
              "      <td>NaN</td>\n",
              "      <td>NaN</td>\n",
              "    </tr>\n",
              "    <tr>\n",
              "      <th>124</th>\n",
              "      <td>4.0</td>\n",
              "      <td>NaN</td>\n",
              "      <td>NaN</td>\n",
              "    </tr>\n",
              "    <tr>\n",
              "      <th>125</th>\n",
              "      <td>NaN</td>\n",
              "      <td>NaN</td>\n",
              "      <td>NaN</td>\n",
              "    </tr>\n",
              "    <tr>\n",
              "      <th>126</th>\n",
              "      <td>18.0</td>\n",
              "      <td>1.0</td>\n",
              "      <td>18.0</td>\n",
              "    </tr>\n",
              "    <tr>\n",
              "      <th>127</th>\n",
              "      <td>28.0</td>\n",
              "      <td>NaN</td>\n",
              "      <td>NaN</td>\n",
              "    </tr>\n",
              "  </tbody>\n",
              "</table>\n",
              "<p>128 rows × 3 columns</p>\n",
              "</div>"
            ],
            "text/plain": [
              "     1st Goal  Own goals  Own goal Time\n",
              "0        12.0        NaN            NaN\n",
              "1         NaN        NaN            NaN\n",
              "2         NaN        NaN            NaN\n",
              "3        89.0        NaN            NaN\n",
              "4         NaN        1.0           90.0\n",
              "..        ...        ...            ...\n",
              "123       5.0        NaN            NaN\n",
              "124       4.0        NaN            NaN\n",
              "125       NaN        NaN            NaN\n",
              "126      18.0        1.0           18.0\n",
              "127      28.0        NaN            NaN\n",
              "\n",
              "[128 rows x 3 columns]"
            ]
          },
          "metadata": {
            "tags": []
          },
          "execution_count": 11
        }
      ]
    },
    {
      "cell_type": "code",
      "metadata": {
        "id": "i5_3QlCrR7Qr",
        "colab_type": "code",
        "outputId": "ba10cf78-bac6-43c2-9720-ef806d346f62",
        "colab": {
          "base_uri": "https://localhost:8080/",
          "height": 889
        }
      },
      "source": [
        "for col in data_num:\n",
        "    plt.hist(data[col],50)\n",
        "    plt.xlabel(col)\n",
        "    plt.show()"
      ],
      "execution_count": 12,
      "outputs": [
        {
          "output_type": "stream",
          "text": [
            "/usr/local/lib/python3.6/dist-packages/numpy/lib/histograms.py:839: RuntimeWarning: invalid value encountered in greater_equal\n",
            "  keep = (tmp_a >= first_edge)\n",
            "/usr/local/lib/python3.6/dist-packages/numpy/lib/histograms.py:840: RuntimeWarning: invalid value encountered in less_equal\n",
            "  keep &= (tmp_a <= last_edge)\n"
          ],
          "name": "stderr"
        },
        {
          "output_type": "display_data",
          "data": {
            "image/png": "[encoded data removed]",
            "text/plain": [
              "<Figure size 432x288 with 1 Axes>"
            ]
          },
          "metadata": {
            "tags": [],
            "needs_background": "light"
          }
        },
        {
          "output_type": "display_data",
          "data": {
            "image/png": "[encoded data removed]",
            "text/plain": [
              "<Figure size 432x288 with 1 Axes>"
            ]
          },
          "metadata": {
            "tags": [],
            "needs_background": "light"
          }
        },
        {
          "output_type": "display_data",
          "data": {
            "image/png": "[encoded data removed]",
            "text/plain": [
              "<Figure size 432x288 with 1 Axes>"
            ]
          },
          "metadata": {
            "tags": [],
            "needs_background": "light"
          }
        }
      ]
    },
    {
      "cell_type": "code",
      "metadata": {
        "id": "RkQIMmrdSB6T",
        "colab_type": "code",
        "colab": {}
      },
      "source": [
        "flt_index1 = data[data['1st Goal'].isnull()].index\n",
        "flt_index2 = data[data['Own goals'].isnull()].index\n",
        "flt_index3 = data[data['Own goal Time'].isnull()].index"
      ],
      "execution_count": 0,
      "outputs": []
    },
    {
      "cell_type": "code",
      "metadata": {
        "id": "X8K_AxQifFOZ",
        "colab_type": "code",
        "outputId": "8c20bd95-77f7-43d8-bcc1-feef98dcb7c5",
        "colab": {
          "base_uri": "https://localhost:8080/",
          "height": 612
        }
      },
      "source": [
        "data_num[data_num.index.isin(flt_index1)]['1st Goal']"
      ],
      "execution_count": 14,
      "outputs": [
        {
          "output_type": "execute_result",
          "data": {
            "text/plain": [
              "1     NaN\n",
              "2     NaN\n",
              "4     NaN\n",
              "12    NaN\n",
              "15    NaN\n",
              "16    NaN\n",
              "18    NaN\n",
              "23    NaN\n",
              "25    NaN\n",
              "35    NaN\n",
              "37    NaN\n",
              "38    NaN\n",
              "43    NaN\n",
              "44    NaN\n",
              "47    NaN\n",
              "49    NaN\n",
              "62    NaN\n",
              "65    NaN\n",
              "72    NaN\n",
              "73    NaN\n",
              "74    NaN\n",
              "81    NaN\n",
              "82    NaN\n",
              "84    NaN\n",
              "88    NaN\n",
              "90    NaN\n",
              "94    NaN\n",
              "105   NaN\n",
              "109   NaN\n",
              "112   NaN\n",
              "114   NaN\n",
              "116   NaN\n",
              "121   NaN\n",
              "125   NaN\n",
              "Name: 1st Goal, dtype: float64"
            ]
          },
          "metadata": {
            "tags": []
          },
          "execution_count": 14
        }
      ]
    },
    {
      "cell_type": "code",
      "metadata": {
        "id": "Jd_h_SDzg9bs",
        "colab_type": "code",
        "outputId": "683de6a1-42e8-4264-8bb1-0831a31bebe6",
        "colab": {
          "base_uri": "https://localhost:8080/",
          "height": 221
        }
      },
      "source": [
        "data_num[data_num.index.isin(flt_index2)]['Own goals']"
      ],
      "execution_count": 15,
      "outputs": [
        {
          "output_type": "execute_result",
          "data": {
            "text/plain": [
              "0     NaN\n",
              "1     NaN\n",
              "2     NaN\n",
              "3     NaN\n",
              "5     NaN\n",
              "       ..\n",
              "122   NaN\n",
              "123   NaN\n",
              "124   NaN\n",
              "125   NaN\n",
              "127   NaN\n",
              "Name: Own goals, Length: 116, dtype: float64"
            ]
          },
          "metadata": {
            "tags": []
          },
          "execution_count": 15
        }
      ]
    },
    {
      "cell_type": "code",
      "metadata": {
        "id": "si89ZvEAhYh4",
        "colab_type": "code",
        "outputId": "f667c866-3245-4bb2-9911-d6bb5bbb4e50",
        "colab": {
          "base_uri": "https://localhost:8080/",
          "height": 221
        }
      },
      "source": [
        "data_num[data_num.index.isin(flt_index3)]['Own goal Time']"
      ],
      "execution_count": 16,
      "outputs": [
        {
          "output_type": "execute_result",
          "data": {
            "text/plain": [
              "0     NaN\n",
              "1     NaN\n",
              "2     NaN\n",
              "3     NaN\n",
              "5     NaN\n",
              "       ..\n",
              "122   NaN\n",
              "123   NaN\n",
              "124   NaN\n",
              "125   NaN\n",
              "127   NaN\n",
              "Name: Own goal Time, Length: 116, dtype: float64"
            ]
          },
          "metadata": {
            "tags": []
          },
          "execution_count": 16
        }
      ]
    },
    {
      "cell_type": "code",
      "metadata": {
        "id": "MCidMDA9hlKu",
        "colab_type": "code",
        "outputId": "fb597119-813d-4ac9-ec32-9dd32a9199a4",
        "colab": {
          "base_uri": "https://localhost:8080/",
          "height": 68
        }
      },
      "source": [
        "print (flt_index1.shape[0])\n",
        "print (flt_index2.shape[0])\n",
        "print (flt_index3.shape[0])"
      ],
      "execution_count": 17,
      "outputs": [
        {
          "output_type": "stream",
          "text": [
            "34\n",
            "116\n",
            "116\n"
          ],
          "name": "stdout"
        }
      ]
    },
    {
      "cell_type": "code",
      "metadata": {
        "id": "veKOwaITlJoB",
        "colab_type": "code",
        "outputId": "83839c18-3edc-4f0f-d3f9-5cb7f5491b9a",
        "colab": {
          "base_uri": "https://localhost:8080/",
          "height": 34
        }
      },
      "source": [
        "data['Own goal Time'].unique()"
      ],
      "execution_count": 18,
      "outputs": [
        {
          "output_type": "execute_result",
          "data": {
            "text/plain": [
              "array([nan, 90., 81., 32., 37., 47., 23., 74., 33., 12., 13., 18.])"
            ]
          },
          "metadata": {
            "tags": []
          },
          "execution_count": 18
        }
      ]
    },
    {
      "cell_type": "code",
      "metadata": {
        "id": "sRWz7cIMlYoG",
        "colab_type": "code",
        "outputId": "7c9138fd-d030-4c1c-896e-3f5482676e75",
        "colab": {
          "base_uri": "https://localhost:8080/",
          "height": 34
        }
      },
      "source": [
        "data['Own goals'].unique()"
      ],
      "execution_count": 19,
      "outputs": [
        {
          "output_type": "execute_result",
          "data": {
            "text/plain": [
              "array([nan,  1.])"
            ]
          },
          "metadata": {
            "tags": []
          },
          "execution_count": 19
        }
      ]
    },
    {
      "cell_type": "code",
      "metadata": {
        "id": "o8JypD-wlgne",
        "colab_type": "code",
        "outputId": "839096a5-5f4b-4699-9654-47631430a402",
        "colab": {
          "base_uri": "https://localhost:8080/",
          "height": 102
        }
      },
      "source": [
        "data['1st Goal'].unique()"
      ],
      "execution_count": 20,
      "outputs": [
        {
          "output_type": "execute_result",
          "data": {
            "text/plain": [
              "array([12., nan, 89., 90.,  4., 24., 58., 62., 19., 23., 59., 32., 56.,\n",
              "       35., 20., 50., 65., 47., 11., 39.,  6., 37., 60., 54.,  7., 38.,\n",
              "       34., 53., 49.,  5., 52., 18., 26., 48.,  8., 78., 40., 10., 45.,\n",
              "       22., 14., 51., 76., 36., 31., 74., 33., 13., 41., 55.,  1., 69.,\n",
              "       66., 57., 30., 68., 28.])"
            ]
          },
          "metadata": {
            "tags": []
          },
          "execution_count": 20
        }
      ]
    },
    {
      "cell_type": "markdown",
      "metadata": {
        "id": "z0OXd58Z5APZ",
        "colab_type": "text"
      },
      "source": [
        "Столбец «Own goal» имеет значения один или нан. Из спортивной информации мы видим, что возможность забить более одного гола за команду против себя редка. Таким образом, мы можем ожидать, что для всех значений Nan логическое значение равно 0."
      ]
    },
    {
      "cell_type": "code",
      "metadata": {
        "id": "XRmmzMVOllyx",
        "colab_type": "code",
        "outputId": "e395ca01-8395-4803-9b2a-affd9823f964",
        "colab": {
          "base_uri": "https://localhost:8080/",
          "height": 34
        }
      },
      "source": [
        "data_num[data_num['Own goals'].isnull()]['Own goal Time'].isnull().sum()"
      ],
      "execution_count": 21,
      "outputs": [
        {
          "output_type": "execute_result",
          "data": {
            "text/plain": [
              "116"
            ]
          },
          "metadata": {
            "tags": []
          },
          "execution_count": 21
        }
      ]
    },
    {
      "cell_type": "markdown",
      "metadata": {
        "id": "Wue_VkiX5kaX",
        "colab_type": "text"
      },
      "source": [
        "Здесь мы увидели, что когда значение «Own goals» равно нулю, тогда значение столбца «Own goal Time» также равно нулю. Таким образом, если мы заменим значения Nan на нули, тогда мы должны установить время также равным нулю. Что будет указывать на то, что это событие никогда не происходило."
      ]
    },
    {
      "cell_type": "code",
      "metadata": {
        "id": "9ANDMLn0mlCq",
        "colab_type": "code",
        "outputId": "fad5485b-ca40-4b82-c987-91c750a0b0f9",
        "colab": {
          "base_uri": "https://localhost:8080/",
          "height": 612
        }
      },
      "source": [
        "data[data_num['1st Goal'].isnull()]['Goal Scored']==0"
      ],
      "execution_count": 22,
      "outputs": [
        {
          "output_type": "execute_result",
          "data": {
            "text/plain": [
              "1       True\n",
              "2       True\n",
              "4       True\n",
              "12      True\n",
              "15      True\n",
              "16      True\n",
              "18      True\n",
              "23      True\n",
              "25      True\n",
              "35      True\n",
              "37      True\n",
              "38      True\n",
              "43      True\n",
              "44      True\n",
              "47      True\n",
              "49      True\n",
              "62      True\n",
              "65      True\n",
              "72      True\n",
              "73      True\n",
              "74      True\n",
              "81      True\n",
              "82      True\n",
              "84      True\n",
              "88      True\n",
              "90      True\n",
              "94      True\n",
              "105     True\n",
              "109     True\n",
              "112     True\n",
              "114    False\n",
              "116     True\n",
              "121     True\n",
              "125     True\n",
              "Name: Goal Scored, dtype: bool"
            ]
          },
          "metadata": {
            "tags": []
          },
          "execution_count": 22
        }
      ]
    },
    {
      "cell_type": "markdown",
      "metadata": {
        "id": "L1_Kmk087Mkm",
        "colab_type": "text"
      },
      "source": [
        "Чтобы понять, почему столбец целей «1st Goal» имеет нулевое значение, мы рассмотрим «Goal Scored», в которых описано, сколько голов забил команда. И мы видим, что когда команда не забила ни одного гола, тогда время первого гола устанавливается равным нулю, за исключением одного значения.  \n",
        "Мы попытаемся получить дополнительную информацию об этой точке, чтобы увидеть спецификацию совпадения через ее строку."
      ]
    },
    {
      "cell_type": "code",
      "metadata": {
        "id": "0xyQ9D4nm5el",
        "colab_type": "code",
        "outputId": "15ca256b-972f-4175-f335-4e96184e4c05",
        "colab": {
          "base_uri": "https://localhost:8080/",
          "height": 185
        }
      },
      "source": [
        "data.loc[[114]]"
      ],
      "execution_count": 23,
      "outputs": [
        {
          "output_type": "execute_result",
          "data": {
            "text/html": [
              "<div>\n",
              "<style scoped>\n",
              "    .dataframe tbody tr th:only-of-type {\n",
              "        vertical-align: middle;\n",
              "    }\n",
              "\n",
              "    .dataframe tbody tr th {\n",
              "        vertical-align: top;\n",
              "    }\n",
              "\n",
              "    .dataframe thead th {\n",
              "        text-align: right;\n",
              "    }\n",
              "</style>\n",
              "<table border=\"1\" class=\"dataframe\">\n",
              "  <thead>\n",
              "    <tr style=\"text-align: right;\">\n",
              "      <th></th>\n",
              "      <th>Date</th>\n",
              "      <th>Team</th>\n",
              "      <th>Opponent</th>\n",
              "      <th>Goal Scored</th>\n",
              "      <th>Ball Possession %</th>\n",
              "      <th>Attempts</th>\n",
              "      <th>On-Target</th>\n",
              "      <th>Off-Target</th>\n",
              "      <th>Blocked</th>\n",
              "      <th>Corners</th>\n",
              "      <th>Offsides</th>\n",
              "      <th>Free Kicks</th>\n",
              "      <th>Saves</th>\n",
              "      <th>Pass Accuracy %</th>\n",
              "      <th>Passes</th>\n",
              "      <th>Distance Covered (Kms)</th>\n",
              "      <th>Fouls Committed</th>\n",
              "      <th>Yellow Card</th>\n",
              "      <th>Yellow &amp; Red</th>\n",
              "      <th>Red</th>\n",
              "      <th>Man of the Match</th>\n",
              "      <th>1st Goal</th>\n",
              "      <th>Round</th>\n",
              "      <th>PSO</th>\n",
              "      <th>Goals in PSO</th>\n",
              "      <th>Own goals</th>\n",
              "      <th>Own goal Time</th>\n",
              "    </tr>\n",
              "  </thead>\n",
              "  <tbody>\n",
              "    <tr>\n",
              "      <th>114</th>\n",
              "      <td>06-07-2018</td>\n",
              "      <td>Brazil</td>\n",
              "      <td>Belgium</td>\n",
              "      <td>1</td>\n",
              "      <td>57</td>\n",
              "      <td>26</td>\n",
              "      <td>9</td>\n",
              "      <td>7</td>\n",
              "      <td>10</td>\n",
              "      <td>8</td>\n",
              "      <td>1</td>\n",
              "      <td>16</td>\n",
              "      <td>2</td>\n",
              "      <td>89</td>\n",
              "      <td>557</td>\n",
              "      <td>104</td>\n",
              "      <td>14</td>\n",
              "      <td>2</td>\n",
              "      <td>0</td>\n",
              "      <td>0</td>\n",
              "      <td>No</td>\n",
              "      <td>NaN</td>\n",
              "      <td>Quarter Finals</td>\n",
              "      <td>No</td>\n",
              "      <td>0</td>\n",
              "      <td>1.0</td>\n",
              "      <td>13.0</td>\n",
              "    </tr>\n",
              "  </tbody>\n",
              "</table>\n",
              "</div>"
            ],
            "text/plain": [
              "           Date    Team Opponent  ...  Goals in PSO  Own goals  Own goal Time\n",
              "114  06-07-2018  Brazil  Belgium  ...             0        1.0           13.0\n",
              "\n",
              "[1 rows x 27 columns]"
            ]
          },
          "metadata": {
            "tags": []
          },
          "execution_count": 23
        }
      ]
    },
    {
      "cell_type": "markdown",
      "metadata": {
        "id": "nWMfwf-CAiSb",
        "colab_type": "text"
      },
      "source": [
        "В этой строке есть значение атрибута 'Goals scored'. Таким образом, должно быть значение атрибута «1st Goal».   Давайте посмотрим описание значений в столбце «1st Goal»."
      ]
    },
    {
      "cell_type": "code",
      "metadata": {
        "id": "dD2ylignh8XC",
        "colab_type": "code",
        "outputId": "7abb3325-5531-491a-8525-6ab3cf435455",
        "colab": {
          "base_uri": "https://localhost:8080/",
          "height": 204
        }
      },
      "source": [
        "data_num_1stGoal = data_num[['1st Goal']]\n",
        "data_num_1stGoal.head()"
      ],
      "execution_count": 24,
      "outputs": [
        {
          "output_type": "execute_result",
          "data": {
            "text/html": [
              "<div>\n",
              "<style scoped>\n",
              "    .dataframe tbody tr th:only-of-type {\n",
              "        vertical-align: middle;\n",
              "    }\n",
              "\n",
              "    .dataframe tbody tr th {\n",
              "        vertical-align: top;\n",
              "    }\n",
              "\n",
              "    .dataframe thead th {\n",
              "        text-align: right;\n",
              "    }\n",
              "</style>\n",
              "<table border=\"1\" class=\"dataframe\">\n",
              "  <thead>\n",
              "    <tr style=\"text-align: right;\">\n",
              "      <th></th>\n",
              "      <th>1st Goal</th>\n",
              "    </tr>\n",
              "  </thead>\n",
              "  <tbody>\n",
              "    <tr>\n",
              "      <th>0</th>\n",
              "      <td>12.0</td>\n",
              "    </tr>\n",
              "    <tr>\n",
              "      <th>1</th>\n",
              "      <td>NaN</td>\n",
              "    </tr>\n",
              "    <tr>\n",
              "      <th>2</th>\n",
              "      <td>NaN</td>\n",
              "    </tr>\n",
              "    <tr>\n",
              "      <th>3</th>\n",
              "      <td>89.0</td>\n",
              "    </tr>\n",
              "    <tr>\n",
              "      <th>4</th>\n",
              "      <td>NaN</td>\n",
              "    </tr>\n",
              "  </tbody>\n",
              "</table>\n",
              "</div>"
            ],
            "text/plain": [
              "   1st Goal\n",
              "0      12.0\n",
              "1       NaN\n",
              "2       NaN\n",
              "3      89.0\n",
              "4       NaN"
            ]
          },
          "metadata": {
            "tags": []
          },
          "execution_count": 24
        }
      ]
    },
    {
      "cell_type": "code",
      "metadata": {
        "id": "Zp10QGULidqJ",
        "colab_type": "code",
        "outputId": "58ae85ab-088d-46a1-f7f2-cf1e33f50369",
        "colab": {
          "base_uri": "https://localhost:8080/",
          "height": 297
        }
      },
      "source": [
        "data_num_1stGoal.describe()"
      ],
      "execution_count": 25,
      "outputs": [
        {
          "output_type": "execute_result",
          "data": {
            "text/html": [
              "<div>\n",
              "<style scoped>\n",
              "    .dataframe tbody tr th:only-of-type {\n",
              "        vertical-align: middle;\n",
              "    }\n",
              "\n",
              "    .dataframe tbody tr th {\n",
              "        vertical-align: top;\n",
              "    }\n",
              "\n",
              "    .dataframe thead th {\n",
              "        text-align: right;\n",
              "    }\n",
              "</style>\n",
              "<table border=\"1\" class=\"dataframe\">\n",
              "  <thead>\n",
              "    <tr style=\"text-align: right;\">\n",
              "      <th></th>\n",
              "      <th>1st Goal</th>\n",
              "    </tr>\n",
              "  </thead>\n",
              "  <tbody>\n",
              "    <tr>\n",
              "      <th>count</th>\n",
              "      <td>94.000000</td>\n",
              "    </tr>\n",
              "    <tr>\n",
              "      <th>mean</th>\n",
              "      <td>39.457447</td>\n",
              "    </tr>\n",
              "    <tr>\n",
              "      <th>std</th>\n",
              "      <td>24.496506</td>\n",
              "    </tr>\n",
              "    <tr>\n",
              "      <th>min</th>\n",
              "      <td>1.000000</td>\n",
              "    </tr>\n",
              "    <tr>\n",
              "      <th>25%</th>\n",
              "      <td>18.250000</td>\n",
              "    </tr>\n",
              "    <tr>\n",
              "      <th>50%</th>\n",
              "      <td>39.000000</td>\n",
              "    </tr>\n",
              "    <tr>\n",
              "      <th>75%</th>\n",
              "      <td>54.750000</td>\n",
              "    </tr>\n",
              "    <tr>\n",
              "      <th>max</th>\n",
              "      <td>90.000000</td>\n",
              "    </tr>\n",
              "  </tbody>\n",
              "</table>\n",
              "</div>"
            ],
            "text/plain": [
              "        1st Goal\n",
              "count  94.000000\n",
              "mean   39.457447\n",
              "std    24.496506\n",
              "min     1.000000\n",
              "25%    18.250000\n",
              "50%    39.000000\n",
              "75%    54.750000\n",
              "max    90.000000"
            ]
          },
          "metadata": {
            "tags": []
          },
          "execution_count": 25
        }
      ]
    },
    {
      "cell_type": "markdown",
      "metadata": {
        "id": "4dtNyP5jBD3L",
        "colab_type": "text"
      },
      "source": [
        "Мы можем заполнить атрибут значением среднего или наиболее частым значением из столбца."
      ]
    },
    {
      "cell_type": "markdown",
      "metadata": {
        "id": "dGRxAUO6Bsmp",
        "colab_type": "text"
      },
      "source": [
        "Наконец, чтобы заменить значения NaN, мы решили:  \n",
        "1. Заполните все нулевые значения «Own goals» нулями\n",
        "2. Заполните все «Own goal Time» нулями\n",
        "3. Заполните все нулевые значения «1st Goal» нулями, ожидаемыми для значения в строке 114, которое должно быть заполнено средним значением."
      ]
    },
    {
      "cell_type": "code",
      "metadata": {
        "id": "7Fz7YSMuBqfX",
        "colab_type": "code",
        "colab": {}
      },
      "source": [
        "from sklearn.impute import SimpleImputer\n",
        "from sklearn.impute import MissingIndicator"
      ],
      "execution_count": 0,
      "outputs": []
    },
    {
      "cell_type": "code",
      "metadata": {
        "id": "QkBRr9BeCARN",
        "colab_type": "code",
        "colab": {}
      },
      "source": [
        "pd.options.mode.chained_assignment = None\n",
        "data['1st Goal'][114]=int(data_num_1stGoal.mean())"
      ],
      "execution_count": 0,
      "outputs": []
    },
    {
      "cell_type": "code",
      "metadata": {
        "id": "Hp8RBDzHIpTl",
        "colab_type": "code",
        "colab": {}
      },
      "source": [
        "def test_num_impute_col(dataset, column):\n",
        "    temp_data = dataset[[column]]\n",
        "    \n",
        "    indicator = MissingIndicator()\n",
        "    mask_missing_values_only = indicator.fit_transform(temp_data)\n",
        "    \n",
        "    imp_num = SimpleImputer(strategy='constant',fill_value=0)\n",
        "    data_num_imp = imp_num.fit_transform(temp_data)\n",
        "    \n",
        "    filled_data = data_num_imp[mask_missing_values_only]\n",
        "    \n",
        "    return column, filled_data.size,data_num_imp"
      ],
      "execution_count": 0,
      "outputs": []
    },
    {
      "cell_type": "code",
      "metadata": {
        "id": "uM_v6HCeI4th",
        "colab_type": "code",
        "colab": {}
      },
      "source": [
        "new_1s_Goal=test_num_impute_col(data, '1st Goal')"
      ],
      "execution_count": 0,
      "outputs": []
    },
    {
      "cell_type": "code",
      "metadata": {
        "id": "48QQUTqSKwHQ",
        "colab_type": "code",
        "colab": {}
      },
      "source": [
        "new_Own_goals=test_num_impute_col(data, 'Own goals')"
      ],
      "execution_count": 0,
      "outputs": []
    },
    {
      "cell_type": "code",
      "metadata": {
        "id": "BzQuuQ4EK6iP",
        "colab_type": "code",
        "colab": {}
      },
      "source": [
        "new_Own_goal_Time=test_num_impute_col(data, 'Own goal Time')"
      ],
      "execution_count": 0,
      "outputs": []
    },
    {
      "cell_type": "markdown",
      "metadata": {
        "id": "4ph-YYqmN0TU",
        "colab_type": "text"
      },
      "source": [
        "Для построения модели машинного обучения мы не должны зависеть от атрибута, который имеет высокий процент пропущенных данных. Таким образом, мы можем выполнить «Own goals» и «Own goal Time»"
      ]
    },
    {
      "cell_type": "markdown",
      "metadata": {
        "id": "9vOOp8DvPMR9",
        "colab_type": "text"
      },
      "source": [
        "## 2. Преобразование категориальных признаков в числовые"
      ]
    },
    {
      "cell_type": "markdown",
      "metadata": {
        "id": "peQCn71EXyzs",
        "colab_type": "text"
      },
      "source": [
        "В нашем наборе данных у нас есть шесть атрибутов типа объекта, которые необходимо преобразовать в числовые значения.  \n",
        "Прежде всего мы рассмотрим, сколько уникальных значений содержат эти атрибуты:"
      ]
    },
    {
      "cell_type": "code",
      "metadata": {
        "id": "xQYBjgq0PPAk",
        "colab_type": "code",
        "outputId": "d0022aca-fc45-4184-ac03-1bad3587c46f",
        "colab": {
          "base_uri": "https://localhost:8080/",
          "height": 136
        }
      },
      "source": [
        "data['Date'].unique()"
      ],
      "execution_count": 32,
      "outputs": [
        {
          "output_type": "execute_result",
          "data": {
            "text/plain": [
              "array(['14-06-2018', '15-06-2018', '16-06-2018', '17-06-2018',\n",
              "       '18-06-2018', '19-06-2018', '20-06-2018', '21-06-2018',\n",
              "       '22-06-2018', '23-06-2018', '24-06-2018', '25-06-2018',\n",
              "       '26-06-2018', '27-06-2018', '28-06-2018', '30-06-2018',\n",
              "       '01-07-2018', '02-07-2018', '03-07-2018', '06-07-2018',\n",
              "       '07-07-2018', '10-07-2018', '11-07-2018', '14-07-2018',\n",
              "       '15-07-2018'], dtype=object)"
            ]
          },
          "metadata": {
            "tags": []
          },
          "execution_count": 32
        }
      ]
    },
    {
      "cell_type": "code",
      "metadata": {
        "id": "XNxkUPrrQOXu",
        "colab_type": "code",
        "outputId": "42c49924-6203-4069-d5ba-da1fdb542d25",
        "colab": {
          "base_uri": "https://localhost:8080/",
          "height": 119
        }
      },
      "source": [
        "data['Team'].unique()"
      ],
      "execution_count": 33,
      "outputs": [
        {
          "output_type": "execute_result",
          "data": {
            "text/plain": [
              "array(['Russia', 'Saudi Arabia', 'Egypt', 'Uruguay', 'Morocco', 'Iran',\n",
              "       'Portugal', 'Spain', 'France', 'Australia', 'Argentina', 'Iceland',\n",
              "       'Peru', 'Denmark', 'Croatia', 'Nigeria', 'Costa Rica', 'Serbia',\n",
              "       'Germany', 'Mexico', 'Brazil', 'Switzerland', 'Sweden',\n",
              "       'Korea Republic', 'Belgium', 'Panama', 'Tunisia', 'England',\n",
              "       'Colombia', 'Japan', 'Poland', 'Senegal'], dtype=object)"
            ]
          },
          "metadata": {
            "tags": []
          },
          "execution_count": 33
        }
      ]
    },
    {
      "cell_type": "code",
      "metadata": {
        "id": "zpv-vtckQnVw",
        "colab_type": "code",
        "outputId": "665dabe9-731d-4222-9784-88d26a2e05f7",
        "colab": {
          "base_uri": "https://localhost:8080/",
          "height": 34
        }
      },
      "source": [
        "data['Opponent'].isin(data['Team']).sum()"
      ],
      "execution_count": 34,
      "outputs": [
        {
          "output_type": "execute_result",
          "data": {
            "text/plain": [
              "128"
            ]
          },
          "metadata": {
            "tags": []
          },
          "execution_count": 34
        }
      ]
    },
    {
      "cell_type": "markdown",
      "metadata": {
        "id": "ei4Wv70FYOvO",
        "colab_type": "text"
      },
      "source": [
        "Мы рассмотрели, что все страны, которые отображаются в столбце «Opponent», существуют также внутри столбца «Team», чтобы использовать одну кодировку для обоих атрибутов."
      ]
    },
    {
      "cell_type": "code",
      "metadata": {
        "id": "RzSNWtFEQVbN",
        "colab_type": "code",
        "outputId": "c9f22734-813c-4d58-d4dc-ac7260d7cf1d",
        "colab": {
          "base_uri": "https://localhost:8080/",
          "height": 34
        }
      },
      "source": [
        "data['Man of the Match'].unique()"
      ],
      "execution_count": 35,
      "outputs": [
        {
          "output_type": "execute_result",
          "data": {
            "text/plain": [
              "array(['Yes', 'No'], dtype=object)"
            ]
          },
          "metadata": {
            "tags": []
          },
          "execution_count": 35
        }
      ]
    },
    {
      "cell_type": "code",
      "metadata": {
        "id": "MiWJ0WOAQfur",
        "colab_type": "code",
        "outputId": "9c638485-fc78-45ad-a23d-1ffa9297671c",
        "colab": {
          "base_uri": "https://localhost:8080/",
          "height": 51
        }
      },
      "source": [
        "data['Round'].unique()"
      ],
      "execution_count": 36,
      "outputs": [
        {
          "output_type": "execute_result",
          "data": {
            "text/plain": [
              "array(['Group Stage', 'Round of 16', 'Quarter Finals', 'Semi- Finals',\n",
              "       '3rd Place', 'Final'], dtype=object)"
            ]
          },
          "metadata": {
            "tags": []
          },
          "execution_count": 36
        }
      ]
    },
    {
      "cell_type": "code",
      "metadata": {
        "id": "APSDq44PQiDj",
        "colab_type": "code",
        "outputId": "9504f666-cdcb-4631-9309-91f27759b3ef",
        "colab": {
          "base_uri": "https://localhost:8080/",
          "height": 34
        }
      },
      "source": [
        "data['PSO'].unique()"
      ],
      "execution_count": 37,
      "outputs": [
        {
          "output_type": "execute_result",
          "data": {
            "text/plain": [
              "array(['No', 'Yes'], dtype=object)"
            ]
          },
          "metadata": {
            "tags": []
          },
          "execution_count": 37
        }
      ]
    },
    {
      "cell_type": "markdown",
      "metadata": {
        "id": "eedlKV2YbRFo",
        "colab_type": "text"
      },
      "source": [
        "Мы будем использовать LabelEncoder со столбцами, которые имеют много значений, таких как команды, раунд и дата.  \n",
        "С Man of the Match и PSO, которые имеют только два значения, мы будем использовать фиктивный кодировщик."
      ]
    },
    {
      "cell_type": "code",
      "metadata": {
        "id": "JfVebDo3QlAT",
        "colab_type": "code",
        "colab": {}
      },
      "source": [
        "from sklearn.preprocessing import LabelEncoder"
      ],
      "execution_count": 0,
      "outputs": []
    },
    {
      "cell_type": "code",
      "metadata": {
        "id": "34tiuCyyTsEf",
        "colab_type": "code",
        "outputId": "faa6074a-f8f9-4c33-d363-75ea7add7fca",
        "colab": {
          "base_uri": "https://localhost:8080/",
          "height": 51
        }
      },
      "source": [
        "le = LabelEncoder()\n",
        "Teams_le = le.fit_transform(data['Team'])\n",
        "np.unique(Teams_le)"
      ],
      "execution_count": 39,
      "outputs": [
        {
          "output_type": "execute_result",
          "data": {
            "text/plain": [
              "array([ 0,  1,  2,  3,  4,  5,  6,  7,  8,  9, 10, 11, 12, 13, 14, 15, 16,\n",
              "       17, 18, 19, 20, 21, 22, 23, 24, 25, 26, 27, 28, 29, 30, 31])"
            ]
          },
          "metadata": {
            "tags": []
          },
          "execution_count": 39
        }
      ]
    },
    {
      "cell_type": "code",
      "metadata": {
        "id": "tGsco-gaXVQ6",
        "colab_type": "code",
        "outputId": "9503e096-933f-4d3e-91b6-9e9de01d0c59",
        "colab": {
          "base_uri": "https://localhost:8080/",
          "height": 34
        }
      },
      "source": [
        "Rounds_le = le.fit_transform(data['Round'])\n",
        "np.unique(Rounds_le)"
      ],
      "execution_count": 40,
      "outputs": [
        {
          "output_type": "execute_result",
          "data": {
            "text/plain": [
              "array([0, 1, 2, 3, 4, 5])"
            ]
          },
          "metadata": {
            "tags": []
          },
          "execution_count": 40
        }
      ]
    },
    {
      "cell_type": "code",
      "metadata": {
        "id": "u04zEPpvVv_2",
        "colab_type": "code",
        "outputId": "7ec2e36f-b5fe-4a55-d0f4-d9cc569220a0",
        "colab": {
          "base_uri": "https://localhost:8080/",
          "height": 204
        }
      },
      "source": [
        "pd.get_dummies(data['Man of the Match']).head()"
      ],
      "execution_count": 41,
      "outputs": [
        {
          "output_type": "execute_result",
          "data": {
            "text/html": [
              "<div>\n",
              "<style scoped>\n",
              "    .dataframe tbody tr th:only-of-type {\n",
              "        vertical-align: middle;\n",
              "    }\n",
              "\n",
              "    .dataframe tbody tr th {\n",
              "        vertical-align: top;\n",
              "    }\n",
              "\n",
              "    .dataframe thead th {\n",
              "        text-align: right;\n",
              "    }\n",
              "</style>\n",
              "<table border=\"1\" class=\"dataframe\">\n",
              "  <thead>\n",
              "    <tr style=\"text-align: right;\">\n",
              "      <th></th>\n",
              "      <th>No</th>\n",
              "      <th>Yes</th>\n",
              "    </tr>\n",
              "  </thead>\n",
              "  <tbody>\n",
              "    <tr>\n",
              "      <th>0</th>\n",
              "      <td>0</td>\n",
              "      <td>1</td>\n",
              "    </tr>\n",
              "    <tr>\n",
              "      <th>1</th>\n",
              "      <td>1</td>\n",
              "      <td>0</td>\n",
              "    </tr>\n",
              "    <tr>\n",
              "      <th>2</th>\n",
              "      <td>1</td>\n",
              "      <td>0</td>\n",
              "    </tr>\n",
              "    <tr>\n",
              "      <th>3</th>\n",
              "      <td>0</td>\n",
              "      <td>1</td>\n",
              "    </tr>\n",
              "    <tr>\n",
              "      <th>4</th>\n",
              "      <td>1</td>\n",
              "      <td>0</td>\n",
              "    </tr>\n",
              "  </tbody>\n",
              "</table>\n",
              "</div>"
            ],
            "text/plain": [
              "   No  Yes\n",
              "0   0    1\n",
              "1   1    0\n",
              "2   1    0\n",
              "3   0    1\n",
              "4   1    0"
            ]
          },
          "metadata": {
            "tags": []
          },
          "execution_count": 41
        }
      ]
    },
    {
      "cell_type": "code",
      "metadata": {
        "id": "CCgNQWXuVyGm",
        "colab_type": "code",
        "outputId": "878d0651-b931-4b8a-ba4e-1239231dab6b",
        "colab": {
          "base_uri": "https://localhost:8080/",
          "height": 204
        }
      },
      "source": [
        "pd.get_dummies(data['PSO']).head()"
      ],
      "execution_count": 42,
      "outputs": [
        {
          "output_type": "execute_result",
          "data": {
            "text/html": [
              "<div>\n",
              "<style scoped>\n",
              "    .dataframe tbody tr th:only-of-type {\n",
              "        vertical-align: middle;\n",
              "    }\n",
              "\n",
              "    .dataframe tbody tr th {\n",
              "        vertical-align: top;\n",
              "    }\n",
              "\n",
              "    .dataframe thead th {\n",
              "        text-align: right;\n",
              "    }\n",
              "</style>\n",
              "<table border=\"1\" class=\"dataframe\">\n",
              "  <thead>\n",
              "    <tr style=\"text-align: right;\">\n",
              "      <th></th>\n",
              "      <th>No</th>\n",
              "      <th>Yes</th>\n",
              "    </tr>\n",
              "  </thead>\n",
              "  <tbody>\n",
              "    <tr>\n",
              "      <th>0</th>\n",
              "      <td>1</td>\n",
              "      <td>0</td>\n",
              "    </tr>\n",
              "    <tr>\n",
              "      <th>1</th>\n",
              "      <td>1</td>\n",
              "      <td>0</td>\n",
              "    </tr>\n",
              "    <tr>\n",
              "      <th>2</th>\n",
              "      <td>1</td>\n",
              "      <td>0</td>\n",
              "    </tr>\n",
              "    <tr>\n",
              "      <th>3</th>\n",
              "      <td>1</td>\n",
              "      <td>0</td>\n",
              "    </tr>\n",
              "    <tr>\n",
              "      <th>4</th>\n",
              "      <td>1</td>\n",
              "      <td>0</td>\n",
              "    </tr>\n",
              "  </tbody>\n",
              "</table>\n",
              "</div>"
            ],
            "text/plain": [
              "   No  Yes\n",
              "0   1    0\n",
              "1   1    0\n",
              "2   1    0\n",
              "3   1    0\n",
              "4   1    0"
            ]
          },
          "metadata": {
            "tags": []
          },
          "execution_count": 42
        }
      ]
    },
    {
      "cell_type": "markdown",
      "metadata": {
        "id": "2u0eIg4gbhRj",
        "colab_type": "text"
      },
      "source": [
        "## 3. Масштабирование данных"
      ]
    },
    {
      "cell_type": "markdown",
      "metadata": {
        "id": "Z1okaraZcdhG",
        "colab_type": "text"
      },
      "source": [
        "<img src=\"https://drive.google.com/uc?id=1ErsGINA9UUDExukzOsOAh4iT3Nv3Y6pu\">"
      ]
    },
    {
      "cell_type": "markdown",
      "metadata": {
        "id": "bfg80b8Xg2ro",
        "colab_type": "text"
      },
      "source": [
        "Поскольку между минимальным и максимальным значениями атрибута «Passes» имеется большой интервал, мы будем использовать MinMaxScalar ()."
      ]
    },
    {
      "cell_type": "code",
      "metadata": {
        "id": "KGE-7wvnhbNF",
        "colab_type": "code",
        "colab": {}
      },
      "source": [
        "from sklearn.preprocessing import StandardScaler, MinMaxScaler"
      ],
      "execution_count": 0,
      "outputs": []
    },
    {
      "cell_type": "code",
      "metadata": {
        "id": "T-6Fd_whbY-1",
        "colab_type": "code",
        "colab": {}
      },
      "source": [
        "sc = MinMaxScaler()\n",
        "Passes_sc = sc.fit_transform(data[['Passes']])"
      ],
      "execution_count": 0,
      "outputs": []
    },
    {
      "cell_type": "code",
      "metadata": {
        "id": "n-K6dn0nhZzs",
        "colab_type": "code",
        "outputId": "374463a0-e8e8-440b-a136-b71d8892f2bf",
        "colab": {
          "base_uri": "https://localhost:8080/",
          "height": 268
        }
      },
      "source": [
        "plt.hist(data['Passes'], 50)\n",
        "plt.show()"
      ],
      "execution_count": 45,
      "outputs": [
        {
          "output_type": "display_data",
          "data": {
            "image/png": "[encoded data removed]",
            "text/plain": [
              "<Figure size 432x288 with 1 Axes>"
            ]
          },
          "metadata": {
            "tags": [],
            "needs_background": "light"
          }
        }
      ]
    },
    {
      "cell_type": "code",
      "metadata": {
        "id": "N270arOXhlpP",
        "colab_type": "code",
        "outputId": "62c24ab9-4864-4324-ddca-51b8128eec00",
        "colab": {
          "base_uri": "https://localhost:8080/",
          "height": 268
        }
      },
      "source": [
        "plt.hist(Passes_sc, 50)\n",
        "plt.show()"
      ],
      "execution_count": 46,
      "outputs": [
        {
          "output_type": "display_data",
          "data": {
            "image/png": "[encoded data removed]",
            "text/plain": [
              "<Figure size 432x288 with 1 Axes>"
            ]
          },
          "metadata": {
            "tags": [],
            "needs_background": "light"
          }
        }
      ]
    },
    {
      "cell_type": "markdown",
      "metadata": {
        "id": "0_ZiDCUrmN_q",
        "colab_type": "text"
      },
      "source": [
        "чтобы лучше понять, как значения атрибута «Distance Covered» мы будем использовать нормализатор standardScalar"
      ]
    },
    {
      "cell_type": "code",
      "metadata": {
        "id": "YtTpB5sThrc3",
        "colab_type": "code",
        "colab": {}
      },
      "source": [
        "sc = StandardScaler()\n",
        "Distance_sc = sc.fit_transform(data[['Distance Covered (Kms)']])"
      ],
      "execution_count": 0,
      "outputs": []
    },
    {
      "cell_type": "code",
      "metadata": {
        "id": "Mse-ooe_jNYl",
        "colab_type": "code",
        "outputId": "5c32c51c-7c10-4801-bcbd-3410688a986b",
        "colab": {
          "base_uri": "https://localhost:8080/",
          "height": 268
        }
      },
      "source": [
        "plt.hist(data['Distance Covered (Kms)'], 50)\n",
        "plt.show()"
      ],
      "execution_count": 48,
      "outputs": [
        {
          "output_type": "display_data",
          "data": {
            "image/png": "[encoded data removed]",
            "text/plain": [
              "<Figure size 432x288 with 1 Axes>"
            ]
          },
          "metadata": {
            "tags": [],
            "needs_background": "light"
          }
        }
      ]
    },
    {
      "cell_type": "code",
      "metadata": {
        "id": "PxdjmNFVjgJj",
        "colab_type": "code",
        "outputId": "3aebe324-9e0c-45e5-b8d2-d6ece4b070a0",
        "colab": {
          "base_uri": "https://localhost:8080/",
          "height": 268
        }
      },
      "source": [
        "plt.hist(Distance_sc, 50)\n",
        "plt.show()"
      ],
      "execution_count": 49,
      "outputs": [
        {
          "output_type": "display_data",
          "data": {
            "image/png": "[encoded data removed]",
            "text/plain": [
              "<Figure size 432x288 with 1 Axes>"
            ]
          },
          "metadata": {
            "tags": [],
            "needs_background": "light"
          }
        }
      ]
    },
    {
      "cell_type": "code",
      "metadata": {
        "id": "EcxX_BWZklj0",
        "colab_type": "code",
        "colab": {}
      },
      "source": [
        ""
      ],
      "execution_count": 0,
      "outputs": []
    }
  ]
}