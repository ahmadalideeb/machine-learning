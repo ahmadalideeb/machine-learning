{
  "nbformat": 4,
  "nbformat_minor": 0,
  "metadata": {
    "colab": {
      "name": "MMO-PK1.ipynb",
      "provenance": [],
      "collapsed_sections": [],
      "toc_visible": true,
      "authorship_tag": "ABX9TyOueB05xO8P+HA2o8Kcw+wX",
      "include_colab_link": true
    },
    "kernelspec": {
      "name": "python3",
      "display_name": "Python 3"
    }
  },
  "cells": [
    {
      "cell_type": "markdown",
      "metadata": {
        "id": "view-in-github",
        "colab_type": "text"
      },
      "source": [
        "<a href=\"https://colab.research.google.com/github/ahmadalideeb/machine-learning/blob/master/MMO_PK1.ipynb\" target=\"_parent\"><img src=\"https://colab.research.google.com/assets/colab-badge.svg\" alt=\"Open In Colab\"/></a>"
      ]
    },
    {
      "cell_type": "markdown",
      "metadata": {
        "id": "BCPk53Ls9LNC",
        "colab_type": "text"
      },
      "source": [
        "## набор данных"
      ]
    },
    {
      "cell_type": "markdown",
      "metadata": {
        "id": "eMH33fHN9W-8",
        "colab_type": "text"
      },
      "source": [
        "Департамент здравоохранения разработал отчет о проверке и систему оценки. После проведения проверки объекта Инспектор здравоохранения рассчитывает балл на основе наблюдаемых нарушений. Нарушения могут относиться к: категории высокого риска: регистрируются конкретные нарушения, которые непосредственно связаны с передачей болезней пищевого происхождения, фальсификацией пищевых продуктов и загрязнением поверхностей, контактирующих с пищевыми продуктами. Категория умеренного риска: регистрирует конкретные нарушения, которые имеют умеренный риск в категорию общественного здравоохранения и безопасности. Низкая степень риска: регистрирует нарушения, которые имеют низкий уровень риска или не имеют непосредственного риска для здоровья и безопасности населения. Счетная карточка, которая будет выдана инспектором, хранится в продовольственном учреждении и доступна для публика в этом наборе данных.Эта информация будет частью построения модели машинного обучения, которая будет предсказывать, к какой категории относится каждое учреждение.\n",
        "Давайте сначала посмотрим на наш набор данных и увидим некоторые его строки."
      ]
    },
    {
      "cell_type": "code",
      "metadata": {
        "id": "t4uNY0LJ9JIb",
        "colab_type": "code",
        "outputId": "92597df3-ab08-4df2-954d-f9b7e108ebab",
        "colab": {
          "base_uri": "https://localhost:8080/",
          "height": 71
        }
      },
      "source": [
        "import numpy as np\n",
        "import pandas as pd\n",
        "import seaborn as sns\n",
        "import matplotlib.pyplot as plt\n",
        "%matplotlib inline \n",
        "sns.set(style=\"ticks\")\n",
        "from sklearn.impute import SimpleImputer\n",
        "from sklearn.impute import MissingIndicator"
      ],
      "execution_count": 0,
      "outputs": [
        {
          "output_type": "stream",
          "text": [
            "/usr/local/lib/python3.6/dist-packages/statsmodels/tools/_testing.py:19: FutureWarning: pandas.util.testing is deprecated. Use the functions in the public API at pandas.testing instead.\n",
            "  import pandas.util.testing as tm\n"
          ],
          "name": "stderr"
        }
      ]
    },
    {
      "cell_type": "code",
      "metadata": {
        "id": "HlXYPk1o9euY",
        "colab_type": "code",
        "colab": {}
      },
      "source": [
        "data = pd.read_csv('restaurant-scores-lives-standard.csv', sep=\",\")"
      ],
      "execution_count": 0,
      "outputs": []
    },
    {
      "cell_type": "code",
      "metadata": {
        "id": "iIZx_C9n9l3D",
        "colab_type": "code",
        "outputId": "03d5b468-dc37-4e3a-9b31-51571ff7e0da",
        "colab": {
          "base_uri": "https://localhost:8080/",
          "height": 326
        }
      },
      "source": [
        "data.head()"
      ],
      "execution_count": 0,
      "outputs": [
        {
          "output_type": "execute_result",
          "data": {
            "text/html": [
              "<div>\n",
              "<style scoped>\n",
              "    .dataframe tbody tr th:only-of-type {\n",
              "        vertical-align: middle;\n",
              "    }\n",
              "\n",
              "    .dataframe tbody tr th {\n",
              "        vertical-align: top;\n",
              "    }\n",
              "\n",
              "    .dataframe thead th {\n",
              "        text-align: right;\n",
              "    }\n",
              "</style>\n",
              "<table border=\"1\" class=\"dataframe\">\n",
              "  <thead>\n",
              "    <tr style=\"text-align: right;\">\n",
              "      <th></th>\n",
              "      <th>business_id</th>\n",
              "      <th>business_name</th>\n",
              "      <th>business_address</th>\n",
              "      <th>business_city</th>\n",
              "      <th>business_state</th>\n",
              "      <th>business_postal_code</th>\n",
              "      <th>business_latitude</th>\n",
              "      <th>business_longitude</th>\n",
              "      <th>business_location</th>\n",
              "      <th>business_phone_number</th>\n",
              "      <th>inspection_id</th>\n",
              "      <th>inspection_date</th>\n",
              "      <th>inspection_score</th>\n",
              "      <th>inspection_type</th>\n",
              "      <th>violation_id</th>\n",
              "      <th>violation_description</th>\n",
              "      <th>risk_category</th>\n",
              "    </tr>\n",
              "  </thead>\n",
              "  <tbody>\n",
              "    <tr>\n",
              "      <th>0</th>\n",
              "      <td>69618</td>\n",
              "      <td>Fancy Wheatfield Bakery</td>\n",
              "      <td>1362 Stockton St</td>\n",
              "      <td>San Francisco</td>\n",
              "      <td>CA</td>\n",
              "      <td>94133</td>\n",
              "      <td>NaN</td>\n",
              "      <td>NaN</td>\n",
              "      <td>NaN</td>\n",
              "      <td>NaN</td>\n",
              "      <td>69618_20190304</td>\n",
              "      <td>2019-03-04T00:00:00.000</td>\n",
              "      <td>NaN</td>\n",
              "      <td>Complaint</td>\n",
              "      <td>69618_20190304_103130</td>\n",
              "      <td>Inadequate sewage or wastewater disposal</td>\n",
              "      <td>Moderate Risk</td>\n",
              "    </tr>\n",
              "    <tr>\n",
              "      <th>1</th>\n",
              "      <td>97975</td>\n",
              "      <td>BREADBELLY</td>\n",
              "      <td>1408 Clement St</td>\n",
              "      <td>San Francisco</td>\n",
              "      <td>CA</td>\n",
              "      <td>94118</td>\n",
              "      <td>NaN</td>\n",
              "      <td>NaN</td>\n",
              "      <td>NaN</td>\n",
              "      <td>1.415724e+10</td>\n",
              "      <td>97975_20190725</td>\n",
              "      <td>2019-07-25T00:00:00.000</td>\n",
              "      <td>96.0</td>\n",
              "      <td>Routine - Unscheduled</td>\n",
              "      <td>97975_20190725_103124</td>\n",
              "      <td>Inadequately cleaned or sanitized food contact...</td>\n",
              "      <td>Moderate Risk</td>\n",
              "    </tr>\n",
              "    <tr>\n",
              "      <th>2</th>\n",
              "      <td>69487</td>\n",
              "      <td>Hakkasan San Francisco</td>\n",
              "      <td>1 Kearny St</td>\n",
              "      <td>San Francisco</td>\n",
              "      <td>CA</td>\n",
              "      <td>94108</td>\n",
              "      <td>NaN</td>\n",
              "      <td>NaN</td>\n",
              "      <td>NaN</td>\n",
              "      <td>NaN</td>\n",
              "      <td>69487_20180418</td>\n",
              "      <td>2018-04-18T00:00:00.000</td>\n",
              "      <td>88.0</td>\n",
              "      <td>Routine - Unscheduled</td>\n",
              "      <td>69487_20180418_103119</td>\n",
              "      <td>Inadequate and inaccessible handwashing facili...</td>\n",
              "      <td>Moderate Risk</td>\n",
              "    </tr>\n",
              "    <tr>\n",
              "      <th>3</th>\n",
              "      <td>91044</td>\n",
              "      <td>Chopsticks Restaurant</td>\n",
              "      <td>4615 Mission St</td>\n",
              "      <td>San Francisco</td>\n",
              "      <td>CA</td>\n",
              "      <td>94112</td>\n",
              "      <td>NaN</td>\n",
              "      <td>NaN</td>\n",
              "      <td>NaN</td>\n",
              "      <td>NaN</td>\n",
              "      <td>91044_20170818</td>\n",
              "      <td>2017-08-18T00:00:00.000</td>\n",
              "      <td>NaN</td>\n",
              "      <td>Non-inspection site visit</td>\n",
              "      <td>NaN</td>\n",
              "      <td>NaN</td>\n",
              "      <td>NaN</td>\n",
              "    </tr>\n",
              "    <tr>\n",
              "      <th>4</th>\n",
              "      <td>85987</td>\n",
              "      <td>Tselogs</td>\n",
              "      <td>552 Jones St</td>\n",
              "      <td>San Francisco</td>\n",
              "      <td>CA</td>\n",
              "      <td>94102</td>\n",
              "      <td>NaN</td>\n",
              "      <td>NaN</td>\n",
              "      <td>NaN</td>\n",
              "      <td>NaN</td>\n",
              "      <td>85987_20180412</td>\n",
              "      <td>2018-04-12T00:00:00.000</td>\n",
              "      <td>94.0</td>\n",
              "      <td>Routine - Unscheduled</td>\n",
              "      <td>85987_20180412_103132</td>\n",
              "      <td>Improper thawing methods</td>\n",
              "      <td>Moderate Risk</td>\n",
              "    </tr>\n",
              "  </tbody>\n",
              "</table>\n",
              "</div>"
            ],
            "text/plain": [
              "   business_id  ...  risk_category\n",
              "0        69618  ...  Moderate Risk\n",
              "1        97975  ...  Moderate Risk\n",
              "2        69487  ...  Moderate Risk\n",
              "3        91044  ...            NaN\n",
              "4        85987  ...  Moderate Risk\n",
              "\n",
              "[5 rows x 17 columns]"
            ]
          },
          "metadata": {
            "tags": []
          },
          "execution_count": 3
        }
      ]
    },
    {
      "cell_type": "code",
      "metadata": {
        "id": "rVfosvT39nf4",
        "colab_type": "code",
        "outputId": "fe6e3df3-b374-4ef6-eb80-d0ffdd1a3e9d",
        "colab": {
          "base_uri": "https://localhost:8080/",
          "height": 34
        }
      },
      "source": [
        "data.shape"
      ],
      "execution_count": 0,
      "outputs": [
        {
          "output_type": "execute_result",
          "data": {
            "text/plain": [
              "(53973, 17)"
            ]
          },
          "metadata": {
            "tags": []
          },
          "execution_count": 4
        }
      ]
    },
    {
      "cell_type": "markdown",
      "metadata": {
        "id": "Pk1ow_rE9-XX",
        "colab_type": "text"
      },
      "source": [
        "атрибуты набора данных с их описанием\n",
        "1. **business_id**\n",
        "2. **business_name**\n",
        "3. **business_address**\n",
        "4. **business_city**\n",
        "5. **business_state**\n",
        "6. **business_postal_code**\n",
        "7. **business_latitude**\n",
        "8. **business_longitude**\n",
        "9. **business_location**\n",
        "10. **business_phone_number**\n",
        "11. **inspection_id**\n",
        "12. **inspection_date**\n",
        "13. **inspection_score**\n",
        "14. **inspection_type**\n",
        "15. **violation_id**\n",
        "16. **violation_description**\n",
        "17. **risk_category**"
      ]
    },
    {
      "cell_type": "code",
      "metadata": {
        "id": "Rdwd4LXZ99uN",
        "colab_type": "code",
        "outputId": "c1c331d1-bcc4-4f6f-d426-49ac7be78226",
        "colab": {
          "base_uri": "https://localhost:8080/",
          "height": 323
        }
      },
      "source": [
        "data.dtypes"
      ],
      "execution_count": 0,
      "outputs": [
        {
          "output_type": "execute_result",
          "data": {
            "text/plain": [
              "business_id                int64\n",
              "business_name             object\n",
              "business_address          object\n",
              "business_city             object\n",
              "business_state            object\n",
              "business_postal_code      object\n",
              "business_latitude        float64\n",
              "business_longitude       float64\n",
              "business_location         object\n",
              "business_phone_number    float64\n",
              "inspection_id             object\n",
              "inspection_date           object\n",
              "inspection_score         float64\n",
              "inspection_type           object\n",
              "violation_id              object\n",
              "violation_description     object\n",
              "risk_category             object\n",
              "dtype: object"
            ]
          },
          "metadata": {
            "tags": []
          },
          "execution_count": 5
        }
      ]
    },
    {
      "cell_type": "markdown",
      "metadata": {
        "id": "LYr5MBja-FTp",
        "colab_type": "text"
      },
      "source": [
        "## **1. Обработка пропусков в данных**\n"
      ]
    },
    {
      "cell_type": "markdown",
      "metadata": {
        "id": "J6cPXmQtk2J_",
        "colab_type": "text"
      },
      "source": [
        "#### **1.1. Обработка пропусков в числовых данных**"
      ]
    },
    {
      "cell_type": "code",
      "metadata": {
        "id": "N6vpQWnw-HmW",
        "colab_type": "code",
        "outputId": "1d509808-3ea3-4292-b2d2-03b079f0cddc",
        "colab": {
          "base_uri": "https://localhost:8080/",
          "height": 323
        }
      },
      "source": [
        "data.isnull().sum()"
      ],
      "execution_count": 0,
      "outputs": [
        {
          "output_type": "execute_result",
          "data": {
            "text/plain": [
              "business_id                  0\n",
              "business_name                0\n",
              "business_address             0\n",
              "business_city                0\n",
              "business_state               0\n",
              "business_postal_code      1083\n",
              "business_latitude        24095\n",
              "business_longitude       24095\n",
              "business_location        24095\n",
              "business_phone_number    36539\n",
              "inspection_id                0\n",
              "inspection_date              0\n",
              "inspection_score         14114\n",
              "inspection_type              0\n",
              "violation_id             13462\n",
              "violation_description    13462\n",
              "risk_category            13462\n",
              "dtype: int64"
            ]
          },
          "metadata": {
            "tags": []
          },
          "execution_count": 6
        }
      ]
    },
    {
      "cell_type": "markdown",
      "metadata": {
        "id": "iQlh7G_G-Lvg",
        "colab_type": "text"
      },
      "source": [
        "Мы видим, что девять из наших столбцов имеют нулевое значение."
      ]
    },
    {
      "cell_type": "code",
      "metadata": {
        "id": "4W0RBLnr-Meb",
        "colab_type": "code",
        "outputId": "1da5a851-8945-4174-d170-56cf87daded0",
        "colab": {
          "base_uri": "https://localhost:8080/",
          "height": 34
        }
      },
      "source": [
        "total_count = data.shape[0]\n",
        "print('Всего строк: {}'.format(total_count))"
      ],
      "execution_count": 0,
      "outputs": [
        {
          "output_type": "stream",
          "text": [
            "Всего строк: 53973\n"
          ],
          "name": "stdout"
        }
      ]
    },
    {
      "cell_type": "code",
      "metadata": {
        "id": "xZjWIhE3-RC0",
        "colab_type": "code",
        "outputId": "69b7bc9b-ed4f-49db-df58-fc1126962dfc",
        "colab": {
          "base_uri": "https://localhost:8080/",
          "height": 34
        }
      },
      "source": [
        "data_new_1 = data.dropna(axis=1, how='any')\n",
        "(data.shape, data_new_1.shape)"
      ],
      "execution_count": 0,
      "outputs": [
        {
          "output_type": "execute_result",
          "data": {
            "text/plain": [
              "((53973, 17), (53973, 8))"
            ]
          },
          "metadata": {
            "tags": []
          },
          "execution_count": 8
        }
      ]
    },
    {
      "cell_type": "code",
      "metadata": {
        "id": "nHoq-OIi-TyW",
        "colab_type": "code",
        "outputId": "c275c07f-f267-43b0-c6e0-67c894a90610",
        "colab": {
          "base_uri": "https://localhost:8080/",
          "height": 34
        }
      },
      "source": [
        "data_new_2 = data.dropna(axis=0, how='any')\n",
        "(data.shape, data_new_2.shape)"
      ],
      "execution_count": 0,
      "outputs": [
        {
          "output_type": "execute_result",
          "data": {
            "text/plain": [
              "((53973, 17), (5711, 17))"
            ]
          },
          "metadata": {
            "tags": []
          },
          "execution_count": 9
        }
      ]
    },
    {
      "cell_type": "markdown",
      "metadata": {
        "id": "PUTsYMVB-atR",
        "colab_type": "text"
      },
      "source": [
        "Если мы удалили столбцы, содержащие нулевое значение, мы получим 8 вместо 17.  \n",
        "Если мы удалили строку, содержащую нулевые значения, мы получим 5711 вместо 53973 строк."
      ]
    },
    {
      "cell_type": "markdown",
      "metadata": {
        "id": "nPafeZvA-8-k",
        "colab_type": "text"
      },
      "source": [
        "**Процент пустых значений в девяти столбцах:**"
      ]
    },
    {
      "cell_type": "code",
      "metadata": {
        "id": "7rLuH8fh-V57",
        "colab_type": "code",
        "outputId": "1b0b00f5-9f14-4fd4-d53f-07af1787e274",
        "colab": {
          "base_uri": "https://localhost:8080/",
          "height": 170
        }
      },
      "source": [
        "num_cols = []\n",
        "for col in data.columns:\n",
        "    # Количество пустых значений \n",
        "    temp_null_count = data[data[col].isnull()].shape[0]\n",
        "    dt = str(data[col].dtype)\n",
        "    if temp_null_count>0:\n",
        "        num_cols.append(col)\n",
        "        temp_perc = round((temp_null_count / total_count) * 100.0, 2)\n",
        "        print('Колонка {}. Тип данных {}. Количество пустых значений {}, {}%.'.format(col, dt, temp_null_count, temp_perc))"
      ],
      "execution_count": 0,
      "outputs": [
        {
          "output_type": "stream",
          "text": [
            "Колонка business_postal_code. Тип данных object. Количество пустых значений 1083, 2.01%.\n",
            "Колонка business_latitude. Тип данных float64. Количество пустых значений 24095, 44.64%.\n",
            "Колонка business_longitude. Тип данных float64. Количество пустых значений 24095, 44.64%.\n",
            "Колонка business_location. Тип данных object. Количество пустых значений 24095, 44.64%.\n",
            "Колонка business_phone_number. Тип данных float64. Количество пустых значений 36539, 67.7%.\n",
            "Колонка inspection_score. Тип данных float64. Количество пустых значений 14114, 26.15%.\n",
            "Колонка violation_id. Тип данных object. Количество пустых значений 13462, 24.94%.\n",
            "Колонка violation_description. Тип данных object. Количество пустых значений 13462, 24.94%.\n",
            "Колонка risk_category. Тип данных object. Количество пустых значений 13462, 24.94%.\n"
          ],
          "name": "stdout"
        }
      ]
    },
    {
      "cell_type": "code",
      "metadata": {
        "id": "efJuY6wL-_hs",
        "colab_type": "code",
        "outputId": "a54b51cc-e0c1-4870-91b7-c950c4fc42d2",
        "colab": {
          "base_uri": "https://localhost:8080/",
          "height": 592
        }
      },
      "source": [
        "data_num = data[num_cols]\n",
        "data_num"
      ],
      "execution_count": 0,
      "outputs": [
        {
          "output_type": "execute_result",
          "data": {
            "text/html": [
              "<div>\n",
              "<style scoped>\n",
              "    .dataframe tbody tr th:only-of-type {\n",
              "        vertical-align: middle;\n",
              "    }\n",
              "\n",
              "    .dataframe tbody tr th {\n",
              "        vertical-align: top;\n",
              "    }\n",
              "\n",
              "    .dataframe thead th {\n",
              "        text-align: right;\n",
              "    }\n",
              "</style>\n",
              "<table border=\"1\" class=\"dataframe\">\n",
              "  <thead>\n",
              "    <tr style=\"text-align: right;\">\n",
              "      <th></th>\n",
              "      <th>business_postal_code</th>\n",
              "      <th>business_latitude</th>\n",
              "      <th>business_longitude</th>\n",
              "      <th>business_location</th>\n",
              "      <th>business_phone_number</th>\n",
              "      <th>inspection_score</th>\n",
              "      <th>violation_id</th>\n",
              "      <th>violation_description</th>\n",
              "      <th>risk_category</th>\n",
              "    </tr>\n",
              "  </thead>\n",
              "  <tbody>\n",
              "    <tr>\n",
              "      <th>0</th>\n",
              "      <td>94133</td>\n",
              "      <td>NaN</td>\n",
              "      <td>NaN</td>\n",
              "      <td>NaN</td>\n",
              "      <td>NaN</td>\n",
              "      <td>NaN</td>\n",
              "      <td>69618_20190304_103130</td>\n",
              "      <td>Inadequate sewage or wastewater disposal</td>\n",
              "      <td>Moderate Risk</td>\n",
              "    </tr>\n",
              "    <tr>\n",
              "      <th>1</th>\n",
              "      <td>94118</td>\n",
              "      <td>NaN</td>\n",
              "      <td>NaN</td>\n",
              "      <td>NaN</td>\n",
              "      <td>1.415724e+10</td>\n",
              "      <td>96.0</td>\n",
              "      <td>97975_20190725_103124</td>\n",
              "      <td>Inadequately cleaned or sanitized food contact...</td>\n",
              "      <td>Moderate Risk</td>\n",
              "    </tr>\n",
              "    <tr>\n",
              "      <th>2</th>\n",
              "      <td>94108</td>\n",
              "      <td>NaN</td>\n",
              "      <td>NaN</td>\n",
              "      <td>NaN</td>\n",
              "      <td>NaN</td>\n",
              "      <td>88.0</td>\n",
              "      <td>69487_20180418_103119</td>\n",
              "      <td>Inadequate and inaccessible handwashing facili...</td>\n",
              "      <td>Moderate Risk</td>\n",
              "    </tr>\n",
              "    <tr>\n",
              "      <th>3</th>\n",
              "      <td>94112</td>\n",
              "      <td>NaN</td>\n",
              "      <td>NaN</td>\n",
              "      <td>NaN</td>\n",
              "      <td>NaN</td>\n",
              "      <td>NaN</td>\n",
              "      <td>NaN</td>\n",
              "      <td>NaN</td>\n",
              "      <td>NaN</td>\n",
              "    </tr>\n",
              "    <tr>\n",
              "      <th>4</th>\n",
              "      <td>94102</td>\n",
              "      <td>NaN</td>\n",
              "      <td>NaN</td>\n",
              "      <td>NaN</td>\n",
              "      <td>NaN</td>\n",
              "      <td>94.0</td>\n",
              "      <td>85987_20180412_103132</td>\n",
              "      <td>Improper thawing methods</td>\n",
              "      <td>Moderate Risk</td>\n",
              "    </tr>\n",
              "    <tr>\n",
              "      <th>...</th>\n",
              "      <td>...</td>\n",
              "      <td>...</td>\n",
              "      <td>...</td>\n",
              "      <td>...</td>\n",
              "      <td>...</td>\n",
              "      <td>...</td>\n",
              "      <td>...</td>\n",
              "      <td>...</td>\n",
              "      <td>...</td>\n",
              "    </tr>\n",
              "    <tr>\n",
              "      <th>53968</th>\n",
              "      <td>94110</td>\n",
              "      <td>NaN</td>\n",
              "      <td>NaN</td>\n",
              "      <td>NaN</td>\n",
              "      <td>1.415596e+10</td>\n",
              "      <td>94.0</td>\n",
              "      <td>80305_20190411_103149</td>\n",
              "      <td>Wiping cloths not clean or properly stored or ...</td>\n",
              "      <td>Low Risk</td>\n",
              "    </tr>\n",
              "    <tr>\n",
              "      <th>53969</th>\n",
              "      <td>94134</td>\n",
              "      <td>NaN</td>\n",
              "      <td>NaN</td>\n",
              "      <td>NaN</td>\n",
              "      <td>NaN</td>\n",
              "      <td>75.0</td>\n",
              "      <td>80233_20190417_103133</td>\n",
              "      <td>Foods not protected from contamination</td>\n",
              "      <td>Moderate Risk</td>\n",
              "    </tr>\n",
              "    <tr>\n",
              "      <th>53970</th>\n",
              "      <td>94103</td>\n",
              "      <td>NaN</td>\n",
              "      <td>NaN</td>\n",
              "      <td>NaN</td>\n",
              "      <td>1.415530e+10</td>\n",
              "      <td>84.0</td>\n",
              "      <td>100216_20190321_103119</td>\n",
              "      <td>Inadequate and inaccessible handwashing facili...</td>\n",
              "      <td>Moderate Risk</td>\n",
              "    </tr>\n",
              "    <tr>\n",
              "      <th>53971</th>\n",
              "      <td>94110</td>\n",
              "      <td>NaN</td>\n",
              "      <td>NaN</td>\n",
              "      <td>NaN</td>\n",
              "      <td>1.415544e+10</td>\n",
              "      <td>83.0</td>\n",
              "      <td>79430_20190418_103109</td>\n",
              "      <td>Unclean or unsanitary food contact surfaces</td>\n",
              "      <td>High Risk</td>\n",
              "    </tr>\n",
              "    <tr>\n",
              "      <th>53972</th>\n",
              "      <td>94122</td>\n",
              "      <td>NaN</td>\n",
              "      <td>NaN</td>\n",
              "      <td>NaN</td>\n",
              "      <td>1.415551e+10</td>\n",
              "      <td>NaN</td>\n",
              "      <td>NaN</td>\n",
              "      <td>NaN</td>\n",
              "      <td>NaN</td>\n",
              "    </tr>\n",
              "  </tbody>\n",
              "</table>\n",
              "<p>53973 rows × 9 columns</p>\n",
              "</div>"
            ],
            "text/plain": [
              "      business_postal_code  ...  risk_category\n",
              "0                    94133  ...  Moderate Risk\n",
              "1                    94118  ...  Moderate Risk\n",
              "2                    94108  ...  Moderate Risk\n",
              "3                    94112  ...            NaN\n",
              "4                    94102  ...  Moderate Risk\n",
              "...                    ...  ...            ...\n",
              "53968                94110  ...       Low Risk\n",
              "53969                94134  ...  Moderate Risk\n",
              "53970                94103  ...  Moderate Risk\n",
              "53971                94110  ...      High Risk\n",
              "53972                94122  ...            NaN\n",
              "\n",
              "[53973 rows x 9 columns]"
            ]
          },
          "metadata": {
            "tags": []
          },
          "execution_count": 11
        }
      ]
    },
    {
      "cell_type": "markdown",
      "metadata": {
        "id": "YDVXEwQvOPiw",
        "colab_type": "text"
      },
      "source": [
        "**гистограмма для числовых данных**"
      ]
    },
    {
      "cell_type": "code",
      "metadata": {
        "id": "jwZIleKL_B9r",
        "colab_type": "code",
        "outputId": "8f442428-346a-43cb-e4e1-23310adb6def",
        "colab": {
          "base_uri": "https://localhost:8080/",
          "height": 1000
        }
      },
      "source": [
        "for col in data_num:\n",
        "    if(data[col].dtype!='O'):\n",
        "      plt.hist(data[col],50)\n",
        "      plt.xlabel(col)\n",
        "      plt.show()"
      ],
      "execution_count": 0,
      "outputs": [
        {
          "output_type": "stream",
          "text": [
            "/usr/local/lib/python3.6/dist-packages/numpy/lib/histograms.py:839: RuntimeWarning: invalid value encountered in greater_equal\n",
            "  keep = (tmp_a >= first_edge)\n",
            "/usr/local/lib/python3.6/dist-packages/numpy/lib/histograms.py:840: RuntimeWarning: invalid value encountered in less_equal\n",
            "  keep &= (tmp_a <= last_edge)\n"
          ],
          "name": "stderr"
        },
        {
          "output_type": "display_data",
          "data": {
            "image/png": "[encoded data removed]",
            "text/plain": [
              "<Figure size 432x288 with 1 Axes>"
            ]
          },
          "metadata": {
            "tags": []
          }
        },
        {
          "output_type": "display_data",
          "data": {
            "image/png": "[encoded data removed]",
            "text/plain": [
              "<Figure size 432x288 with 1 Axes>"
            ]
          },
          "metadata": {
            "tags": []
          }
        },
        {
          "output_type": "display_data",
          "data": {
            "image/png": "[encoded data removed]",
            "text/plain": [
              "<Figure size 432x288 with 1 Axes>"
            ]
          },
          "metadata": {
            "tags": []
          }
        },
        {
          "output_type": "display_data",
          "data": {
            "image/png": "[encoded data removed]",
            "text/plain": [
              "<Figure size 432x288 with 1 Axes>"
            ]
          },
          "metadata": {
            "tags": []
          }
        }
      ]
    },
    {
      "cell_type": "markdown",
      "metadata": {
        "id": "ZB_orEStRxx4",
        "colab_type": "text"
      },
      "source": [
        "Мы знаем, что столбец postal_code должен быть уникальным для каждого здания, и мы можем заполнить нулевые значения, поэтому мы отбросим этот столбец.\n",
        "\n",
        "Также в столбцах (business_latitude, business_longitude, business_location) мы не можем предсказать нулевые значения в них, поэтому мы заполняем их нулевыми значениями.\n",
        "Все столбцы (postal_code, business_latitude, business_longitude, business_location) не имеют такого значения, поскольку столбец business_address не содержит нулевого значения, поэтому мы можем положиться на него при анализе данных вместо этих столбцов."
      ]
    },
    {
      "cell_type": "code",
      "metadata": {
        "id": "krjUYt4S_FAX",
        "colab_type": "code",
        "colab": {}
      },
      "source": [
        "data_num=data_num.drop(columns='business_postal_code')\n",
        "temp=data_num['business_latitude'].fillna(0)\n",
        "temp1=data_num['business_longitude'].fillna(0)\n",
        "temp2=data_num['business_location'].fillna('---')"
      ],
      "execution_count": 0,
      "outputs": []
    },
    {
      "cell_type": "code",
      "metadata": {
        "id": "RwrQXfziR_pb",
        "colab_type": "code",
        "colab": {}
      },
      "source": [
        "data_num[['business_latitude','business_longitude','business_location']]=pd.DataFrame({'business_latitude':temp,'business_longitude':temp1,'business_location':temp2})"
      ],
      "execution_count": 0,
      "outputs": []
    },
    {
      "cell_type": "code",
      "metadata": {
        "id": "Q97tSbzqTN4J",
        "colab_type": "code",
        "outputId": "8fc01b13-2817-4c51-e740-db5c401a1204",
        "colab": {
          "base_uri": "https://localhost:8080/",
          "height": 592
        }
      },
      "source": [
        "data_num"
      ],
      "execution_count": 0,
      "outputs": [
        {
          "output_type": "execute_result",
          "data": {
            "text/html": [
              "<div>\n",
              "<style scoped>\n",
              "    .dataframe tbody tr th:only-of-type {\n",
              "        vertical-align: middle;\n",
              "    }\n",
              "\n",
              "    .dataframe tbody tr th {\n",
              "        vertical-align: top;\n",
              "    }\n",
              "\n",
              "    .dataframe thead th {\n",
              "        text-align: right;\n",
              "    }\n",
              "</style>\n",
              "<table border=\"1\" class=\"dataframe\">\n",
              "  <thead>\n",
              "    <tr style=\"text-align: right;\">\n",
              "      <th></th>\n",
              "      <th>business_latitude</th>\n",
              "      <th>business_longitude</th>\n",
              "      <th>business_location</th>\n",
              "      <th>business_phone_number</th>\n",
              "      <th>inspection_score</th>\n",
              "      <th>violation_id</th>\n",
              "      <th>violation_description</th>\n",
              "      <th>risk_category</th>\n",
              "    </tr>\n",
              "  </thead>\n",
              "  <tbody>\n",
              "    <tr>\n",
              "      <th>0</th>\n",
              "      <td>0.0</td>\n",
              "      <td>0.0</td>\n",
              "      <td>---</td>\n",
              "      <td>NaN</td>\n",
              "      <td>NaN</td>\n",
              "      <td>69618_20190304_103130</td>\n",
              "      <td>Inadequate sewage or wastewater disposal</td>\n",
              "      <td>Moderate Risk</td>\n",
              "    </tr>\n",
              "    <tr>\n",
              "      <th>1</th>\n",
              "      <td>0.0</td>\n",
              "      <td>0.0</td>\n",
              "      <td>---</td>\n",
              "      <td>1.415724e+10</td>\n",
              "      <td>96.0</td>\n",
              "      <td>97975_20190725_103124</td>\n",
              "      <td>Inadequately cleaned or sanitized food contact...</td>\n",
              "      <td>Moderate Risk</td>\n",
              "    </tr>\n",
              "    <tr>\n",
              "      <th>2</th>\n",
              "      <td>0.0</td>\n",
              "      <td>0.0</td>\n",
              "      <td>---</td>\n",
              "      <td>NaN</td>\n",
              "      <td>88.0</td>\n",
              "      <td>69487_20180418_103119</td>\n",
              "      <td>Inadequate and inaccessible handwashing facili...</td>\n",
              "      <td>Moderate Risk</td>\n",
              "    </tr>\n",
              "    <tr>\n",
              "      <th>3</th>\n",
              "      <td>0.0</td>\n",
              "      <td>0.0</td>\n",
              "      <td>---</td>\n",
              "      <td>NaN</td>\n",
              "      <td>NaN</td>\n",
              "      <td>NaN</td>\n",
              "      <td>NaN</td>\n",
              "      <td>NaN</td>\n",
              "    </tr>\n",
              "    <tr>\n",
              "      <th>4</th>\n",
              "      <td>0.0</td>\n",
              "      <td>0.0</td>\n",
              "      <td>---</td>\n",
              "      <td>NaN</td>\n",
              "      <td>94.0</td>\n",
              "      <td>85987_20180412_103132</td>\n",
              "      <td>Improper thawing methods</td>\n",
              "      <td>Moderate Risk</td>\n",
              "    </tr>\n",
              "    <tr>\n",
              "      <th>...</th>\n",
              "      <td>...</td>\n",
              "      <td>...</td>\n",
              "      <td>...</td>\n",
              "      <td>...</td>\n",
              "      <td>...</td>\n",
              "      <td>...</td>\n",
              "      <td>...</td>\n",
              "      <td>...</td>\n",
              "    </tr>\n",
              "    <tr>\n",
              "      <th>53968</th>\n",
              "      <td>0.0</td>\n",
              "      <td>0.0</td>\n",
              "      <td>---</td>\n",
              "      <td>1.415596e+10</td>\n",
              "      <td>94.0</td>\n",
              "      <td>80305_20190411_103149</td>\n",
              "      <td>Wiping cloths not clean or properly stored or ...</td>\n",
              "      <td>Low Risk</td>\n",
              "    </tr>\n",
              "    <tr>\n",
              "      <th>53969</th>\n",
              "      <td>0.0</td>\n",
              "      <td>0.0</td>\n",
              "      <td>---</td>\n",
              "      <td>NaN</td>\n",
              "      <td>75.0</td>\n",
              "      <td>80233_20190417_103133</td>\n",
              "      <td>Foods not protected from contamination</td>\n",
              "      <td>Moderate Risk</td>\n",
              "    </tr>\n",
              "    <tr>\n",
              "      <th>53970</th>\n",
              "      <td>0.0</td>\n",
              "      <td>0.0</td>\n",
              "      <td>---</td>\n",
              "      <td>1.415530e+10</td>\n",
              "      <td>84.0</td>\n",
              "      <td>100216_20190321_103119</td>\n",
              "      <td>Inadequate and inaccessible handwashing facili...</td>\n",
              "      <td>Moderate Risk</td>\n",
              "    </tr>\n",
              "    <tr>\n",
              "      <th>53971</th>\n",
              "      <td>0.0</td>\n",
              "      <td>0.0</td>\n",
              "      <td>---</td>\n",
              "      <td>1.415544e+10</td>\n",
              "      <td>83.0</td>\n",
              "      <td>79430_20190418_103109</td>\n",
              "      <td>Unclean or unsanitary food contact surfaces</td>\n",
              "      <td>High Risk</td>\n",
              "    </tr>\n",
              "    <tr>\n",
              "      <th>53972</th>\n",
              "      <td>0.0</td>\n",
              "      <td>0.0</td>\n",
              "      <td>---</td>\n",
              "      <td>1.415551e+10</td>\n",
              "      <td>NaN</td>\n",
              "      <td>NaN</td>\n",
              "      <td>NaN</td>\n",
              "      <td>NaN</td>\n",
              "    </tr>\n",
              "  </tbody>\n",
              "</table>\n",
              "<p>53973 rows × 8 columns</p>\n",
              "</div>"
            ],
            "text/plain": [
              "       business_latitude  ...  risk_category\n",
              "0                    0.0  ...  Moderate Risk\n",
              "1                    0.0  ...  Moderate Risk\n",
              "2                    0.0  ...  Moderate Risk\n",
              "3                    0.0  ...            NaN\n",
              "4                    0.0  ...  Moderate Risk\n",
              "...                  ...  ...            ...\n",
              "53968                0.0  ...       Low Risk\n",
              "53969                0.0  ...  Moderate Risk\n",
              "53970                0.0  ...  Moderate Risk\n",
              "53971                0.0  ...      High Risk\n",
              "53972                0.0  ...            NaN\n",
              "\n",
              "[53973 rows x 8 columns]"
            ]
          },
          "metadata": {
            "tags": []
          },
          "execution_count": 15
        }
      ]
    },
    {
      "cell_type": "code",
      "metadata": {
        "id": "uMmR-v5pUHyK",
        "colab_type": "code",
        "colab": {}
      },
      "source": [
        "# Более сложная функция, которая позволяет задавать колонку и вид импьютации\n",
        "def test_num_impute_col(dataset, column, strategy_param,fillvalue=None):\n",
        "    temp_data = dataset[[column]]\n",
        "    \n",
        "    indicator = MissingIndicator()\n",
        "    mask_missing_values_only = indicator.fit_transform(temp_data)\n",
        "    \n",
        "    imp_num = SimpleImputer(missing_values=np.nan,strategy=strategy_param,fill_value=fillvalue)\n",
        "    data_num_imp = imp_num.fit_transform(temp_data)\n",
        "    \n",
        "    filled_data = data_num_imp[mask_missing_values_only]\n",
        "    data_num[[column]]=data_num_imp\n",
        "    \n",
        "    return column, strategy_param, filled_data.size, filled_data[0], filled_data[filled_data.size-1]"
      ],
      "execution_count": 0,
      "outputs": []
    },
    {
      "cell_type": "code",
      "metadata": {
        "id": "1ZQInssiWQzZ",
        "colab_type": "code",
        "colab": {}
      },
      "source": [
        "dic={}\n",
        "for i in data['business_name'].index:\n",
        "  if ~(data.loc[i,'business_phone_number'] != data.loc[i,'business_phone_number']):\n",
        "    dic[data.loc[i,'business_name']]=data.loc[i,'business_phone_number']"
      ],
      "execution_count": 0,
      "outputs": []
    },
    {
      "cell_type": "markdown",
      "metadata": {
        "id": "Nyd8TJ_ZV4IJ",
        "colab_type": "text"
      },
      "source": [
        "чтобы заполнить пустые значения столбца business_phone_number, мы сначала заполним его номером той же компании, который доступен в другой строке, и, если он недоступен, мы заполним его нулем."
      ]
    },
    {
      "cell_type": "code",
      "metadata": {
        "id": "Pc2k28u1UhAr",
        "colab_type": "code",
        "colab": {}
      },
      "source": [
        "for i in data['business_name'].index:\n",
        "  if (data.loc[i,'business_phone_number'] != data.loc[i,'business_phone_number']):\n",
        "    if data.loc[i,'business_name'] in dic:\n",
        "      data_num.loc[i,'business_phone_number']=dic[data.loc[i,'business_name']]"
      ],
      "execution_count": 0,
      "outputs": []
    },
    {
      "cell_type": "code",
      "metadata": {
        "id": "FAwvq-krUowx",
        "colab_type": "code",
        "outputId": "73ad39b6-d1ff-4f36-fb42-ac68aa2ccd47",
        "colab": {
          "base_uri": "https://localhost:8080/",
          "height": 34
        }
      },
      "source": [
        "test_num_impute_col(data, 'business_phone_number', strategy_param='constant',fillvalue=0)"
      ],
      "execution_count": 0,
      "outputs": [
        {
          "output_type": "execute_result",
          "data": {
            "text/plain": [
              "('business_phone_number', 'constant', 36539, 0.0, 0.0)"
            ]
          },
          "metadata": {
            "tags": []
          },
          "execution_count": 19
        }
      ]
    },
    {
      "cell_type": "code",
      "metadata": {
        "id": "c6j7bNMJfGTM",
        "colab_type": "code",
        "outputId": "2f769848-c83f-4116-be2c-d986c35c7829",
        "colab": {
          "base_uri": "https://localhost:8080/",
          "height": 34
        }
      },
      "source": [
        "test_num_impute_col(data, 'inspection_score', strategy_param='mean')"
      ],
      "execution_count": 0,
      "outputs": [
        {
          "output_type": "execute_result",
          "data": {
            "text/plain": [
              "('inspection_score', 'mean', 14114, 86.23525427130636, 86.23525427130636)"
            ]
          },
          "metadata": {
            "tags": []
          },
          "execution_count": 20
        }
      ]
    },
    {
      "cell_type": "markdown",
      "metadata": {
        "id": "8qew1OZfll0w",
        "colab_type": "text"
      },
      "source": [
        "#### **1.2. Обработка пропусков в категориальных данных**"
      ]
    },
    {
      "cell_type": "markdown",
      "metadata": {
        "id": "9EOrcK_pnGo5",
        "colab_type": "text"
      },
      "source": [
        "Мы заполняем нулевые значения в столбце protect_id константным значением Not_specified, потому что мы не можем предсказать идентификатор.\n",
        "Мы заполняем пустые значения в столбцах (protect_description, risk_category) наиболее частыми значениями, предполагая, что такая ситуация встречается чаще всего."
      ]
    },
    {
      "cell_type": "code",
      "metadata": {
        "id": "60XyhPakg_Zy",
        "colab_type": "code",
        "outputId": "3a47c098-5624-4ca9-9eb4-6b726d442f53",
        "colab": {
          "base_uri": "https://localhost:8080/",
          "height": 34
        }
      },
      "source": [
        "test_num_impute_col(data, 'violation_id', strategy_param='constant',fillvalue='Not_specified')\n",
        "test_num_impute_col(data, 'violation_description', strategy_param='most_frequent')\n",
        "test_num_impute_col(data, 'risk_category', strategy_param='most_frequent')"
      ],
      "execution_count": 0,
      "outputs": [
        {
          "output_type": "execute_result",
          "data": {
            "text/plain": [
              "('risk_category', 'most_frequent', 13462, 'Low Risk', 'Low Risk')"
            ]
          },
          "metadata": {
            "tags": []
          },
          "execution_count": 21
        }
      ]
    },
    {
      "cell_type": "markdown",
      "metadata": {
        "id": "njkCgfnzj_6l",
        "colab_type": "text"
      },
      "source": [
        "**Теперь мы анализируем данные, чтобы все столбцы не имели нулевых значений.**"
      ]
    },
    {
      "cell_type": "code",
      "metadata": {
        "id": "N3Yn0ItgiEQP",
        "colab_type": "code",
        "outputId": "c76a4990-ec57-49ec-b992-716433c2fb65",
        "colab": {
          "base_uri": "https://localhost:8080/",
          "height": 626
        }
      },
      "source": [
        "data_num"
      ],
      "execution_count": 0,
      "outputs": [
        {
          "output_type": "execute_result",
          "data": {
            "text/html": [
              "<div>\n",
              "<style scoped>\n",
              "    .dataframe tbody tr th:only-of-type {\n",
              "        vertical-align: middle;\n",
              "    }\n",
              "\n",
              "    .dataframe tbody tr th {\n",
              "        vertical-align: top;\n",
              "    }\n",
              "\n",
              "    .dataframe thead th {\n",
              "        text-align: right;\n",
              "    }\n",
              "</style>\n",
              "<table border=\"1\" class=\"dataframe\">\n",
              "  <thead>\n",
              "    <tr style=\"text-align: right;\">\n",
              "      <th></th>\n",
              "      <th>business_latitude</th>\n",
              "      <th>business_longitude</th>\n",
              "      <th>business_location</th>\n",
              "      <th>business_phone_number</th>\n",
              "      <th>inspection_score</th>\n",
              "      <th>violation_id</th>\n",
              "      <th>violation_description</th>\n",
              "      <th>risk_category</th>\n",
              "    </tr>\n",
              "  </thead>\n",
              "  <tbody>\n",
              "    <tr>\n",
              "      <th>0</th>\n",
              "      <td>0.0</td>\n",
              "      <td>0.0</td>\n",
              "      <td>---</td>\n",
              "      <td>0.000000e+00</td>\n",
              "      <td>86.235254</td>\n",
              "      <td>69618_20190304_103130</td>\n",
              "      <td>Inadequate sewage or wastewater disposal</td>\n",
              "      <td>Moderate Risk</td>\n",
              "    </tr>\n",
              "    <tr>\n",
              "      <th>1</th>\n",
              "      <td>0.0</td>\n",
              "      <td>0.0</td>\n",
              "      <td>---</td>\n",
              "      <td>1.415724e+10</td>\n",
              "      <td>96.000000</td>\n",
              "      <td>97975_20190725_103124</td>\n",
              "      <td>Inadequately cleaned or sanitized food contact...</td>\n",
              "      <td>Moderate Risk</td>\n",
              "    </tr>\n",
              "    <tr>\n",
              "      <th>2</th>\n",
              "      <td>0.0</td>\n",
              "      <td>0.0</td>\n",
              "      <td>---</td>\n",
              "      <td>0.000000e+00</td>\n",
              "      <td>88.000000</td>\n",
              "      <td>69487_20180418_103119</td>\n",
              "      <td>Inadequate and inaccessible handwashing facili...</td>\n",
              "      <td>Moderate Risk</td>\n",
              "    </tr>\n",
              "    <tr>\n",
              "      <th>3</th>\n",
              "      <td>0.0</td>\n",
              "      <td>0.0</td>\n",
              "      <td>---</td>\n",
              "      <td>0.000000e+00</td>\n",
              "      <td>86.235254</td>\n",
              "      <td>Not_specified</td>\n",
              "      <td>Unclean or degraded floors walls or ceilings</td>\n",
              "      <td>Low Risk</td>\n",
              "    </tr>\n",
              "    <tr>\n",
              "      <th>4</th>\n",
              "      <td>0.0</td>\n",
              "      <td>0.0</td>\n",
              "      <td>---</td>\n",
              "      <td>0.000000e+00</td>\n",
              "      <td>94.000000</td>\n",
              "      <td>85987_20180412_103132</td>\n",
              "      <td>Improper thawing methods</td>\n",
              "      <td>Moderate Risk</td>\n",
              "    </tr>\n",
              "    <tr>\n",
              "      <th>...</th>\n",
              "      <td>...</td>\n",
              "      <td>...</td>\n",
              "      <td>...</td>\n",
              "      <td>...</td>\n",
              "      <td>...</td>\n",
              "      <td>...</td>\n",
              "      <td>...</td>\n",
              "      <td>...</td>\n",
              "    </tr>\n",
              "    <tr>\n",
              "      <th>53968</th>\n",
              "      <td>0.0</td>\n",
              "      <td>0.0</td>\n",
              "      <td>---</td>\n",
              "      <td>1.415596e+10</td>\n",
              "      <td>94.000000</td>\n",
              "      <td>80305_20190411_103149</td>\n",
              "      <td>Wiping cloths not clean or properly stored or ...</td>\n",
              "      <td>Low Risk</td>\n",
              "    </tr>\n",
              "    <tr>\n",
              "      <th>53969</th>\n",
              "      <td>0.0</td>\n",
              "      <td>0.0</td>\n",
              "      <td>---</td>\n",
              "      <td>0.000000e+00</td>\n",
              "      <td>75.000000</td>\n",
              "      <td>80233_20190417_103133</td>\n",
              "      <td>Foods not protected from contamination</td>\n",
              "      <td>Moderate Risk</td>\n",
              "    </tr>\n",
              "    <tr>\n",
              "      <th>53970</th>\n",
              "      <td>0.0</td>\n",
              "      <td>0.0</td>\n",
              "      <td>---</td>\n",
              "      <td>1.415530e+10</td>\n",
              "      <td>84.000000</td>\n",
              "      <td>100216_20190321_103119</td>\n",
              "      <td>Inadequate and inaccessible handwashing facili...</td>\n",
              "      <td>Moderate Risk</td>\n",
              "    </tr>\n",
              "    <tr>\n",
              "      <th>53971</th>\n",
              "      <td>0.0</td>\n",
              "      <td>0.0</td>\n",
              "      <td>---</td>\n",
              "      <td>1.415544e+10</td>\n",
              "      <td>83.000000</td>\n",
              "      <td>79430_20190418_103109</td>\n",
              "      <td>Unclean or unsanitary food contact surfaces</td>\n",
              "      <td>High Risk</td>\n",
              "    </tr>\n",
              "    <tr>\n",
              "      <th>53972</th>\n",
              "      <td>0.0</td>\n",
              "      <td>0.0</td>\n",
              "      <td>---</td>\n",
              "      <td>1.415551e+10</td>\n",
              "      <td>86.235254</td>\n",
              "      <td>Not_specified</td>\n",
              "      <td>Unclean or degraded floors walls or ceilings</td>\n",
              "      <td>Low Risk</td>\n",
              "    </tr>\n",
              "  </tbody>\n",
              "</table>\n",
              "<p>53973 rows × 8 columns</p>\n",
              "</div>"
            ],
            "text/plain": [
              "       business_latitude  ...  risk_category\n",
              "0                    0.0  ...  Moderate Risk\n",
              "1                    0.0  ...  Moderate Risk\n",
              "2                    0.0  ...  Moderate Risk\n",
              "3                    0.0  ...       Low Risk\n",
              "4                    0.0  ...  Moderate Risk\n",
              "...                  ...  ...            ...\n",
              "53968                0.0  ...       Low Risk\n",
              "53969                0.0  ...  Moderate Risk\n",
              "53970                0.0  ...  Moderate Risk\n",
              "53971                0.0  ...      High Risk\n",
              "53972                0.0  ...       Low Risk\n",
              "\n",
              "[53973 rows x 8 columns]"
            ]
          },
          "metadata": {
            "tags": []
          },
          "execution_count": 22
        }
      ]
    },
    {
      "cell_type": "code",
      "metadata": {
        "id": "_7MELt4ejm47",
        "colab_type": "code",
        "outputId": "f3e56562-598f-4f90-e03b-420c58f833f2",
        "colab": {
          "base_uri": "https://localhost:8080/",
          "height": 170
        }
      },
      "source": [
        "data_num.isnull().sum()"
      ],
      "execution_count": 0,
      "outputs": [
        {
          "output_type": "execute_result",
          "data": {
            "text/plain": [
              "business_latitude        0\n",
              "business_longitude       0\n",
              "business_location        0\n",
              "business_phone_number    0\n",
              "inspection_score         0\n",
              "violation_id             0\n",
              "violation_description    0\n",
              "risk_category            0\n",
              "dtype: int64"
            ]
          },
          "metadata": {
            "tags": []
          },
          "execution_count": 23
        }
      ]
    },
    {
      "cell_type": "markdown",
      "metadata": {
        "id": "jH8mF59tnPT2",
        "colab_type": "text"
      },
      "source": [
        "## **2. Преобразование категориальных признаков в числовые**"
      ]
    },
    {
      "cell_type": "markdown",
      "metadata": {
        "id": "Btn4APH1nimB",
        "colab_type": "text"
      },
      "source": [
        "В нашем наборе данных у нас есть 11 атрибутов типа объекта, которые необходимо преобразовать в числовые значения."
      ]
    },
    {
      "cell_type": "code",
      "metadata": {
        "id": "EdjjwZDdkZk7",
        "colab_type": "code",
        "outputId": "eb072955-8281-42d4-c6ab-0046aa62c31e",
        "colab": {
          "base_uri": "https://localhost:8080/",
          "height": 221
        }
      },
      "source": [
        "for column in data:\n",
        "  if (data[column].dtype=='O'):\n",
        "    print(column,len(data[column].unique()))"
      ],
      "execution_count": 0,
      "outputs": [
        {
          "output_type": "stream",
          "text": [
            "business_name 5743\n",
            "business_address 5646\n",
            "business_city 1\n",
            "business_state 1\n",
            "business_postal_code 63\n",
            "business_location 2369\n",
            "inspection_id 24474\n",
            "inspection_date 807\n",
            "inspection_type 14\n",
            "violation_id 35842\n",
            "violation_description 66\n",
            "risk_category 4\n"
          ],
          "name": "stdout"
        }
      ]
    },
    {
      "cell_type": "markdown",
      "metadata": {
        "id": "sa6R4Qq9okwz",
        "colab_type": "text"
      },
      "source": [
        "Мы будем использовать LabelEncoder со столбцами, которые имеют много значений, таких как business_name, business_address, business_location, inspection_id, violation_id.  \n",
        "С business_city, business_state, inspection_date, inspection_type, violation_description, risk_category, которые не имеют много значений, мы будем использовать Кодирование категорий наборами бинарных значений - one-hot encoding."
      ]
    },
    {
      "cell_type": "code",
      "metadata": {
        "id": "pp7mZX9GnbbJ",
        "colab_type": "code",
        "colab": {}
      },
      "source": [
        "from sklearn.preprocessing import LabelEncoder, OneHotEncoder"
      ],
      "execution_count": 0,
      "outputs": []
    },
    {
      "cell_type": "code",
      "metadata": {
        "id": "nlakUBDhpDYp",
        "colab_type": "code",
        "outputId": "075c9fbb-21d9-4439-a3ee-bfd2e0fa6c70",
        "colab": {
          "base_uri": "https://localhost:8080/",
          "height": 34
        }
      },
      "source": [
        "le = LabelEncoder()\n",
        "name_le = le.fit_transform(data['business_name'])\n",
        "np.unique(name_le)"
      ],
      "execution_count": 0,
      "outputs": [
        {
          "output_type": "execute_result",
          "data": {
            "text/plain": [
              "array([   0,    1,    2, ..., 5740, 5741, 5742])"
            ]
          },
          "metadata": {
            "tags": []
          },
          "execution_count": 26
        }
      ]
    },
    {
      "cell_type": "code",
      "metadata": {
        "id": "I2vY-amJwxs1",
        "colab_type": "code",
        "outputId": "31d1b305-e3f9-4e88-abfe-19c43257d295",
        "colab": {
          "base_uri": "https://localhost:8080/",
          "height": 34
        }
      },
      "source": [
        "address_le = le.fit_transform(data['business_address'])\n",
        "np.unique(address_le)"
      ],
      "execution_count": 0,
      "outputs": [
        {
          "output_type": "execute_result",
          "data": {
            "text/plain": [
              "array([   0,    1,    2, ..., 5643, 5644, 5645])"
            ]
          },
          "metadata": {
            "tags": []
          },
          "execution_count": 27
        }
      ]
    },
    {
      "cell_type": "code",
      "metadata": {
        "id": "NcbYjs7Kr6lm",
        "colab_type": "code",
        "outputId": "41feedcf-872c-42ac-9f2e-f319c27f8d45",
        "colab": {
          "base_uri": "https://localhost:8080/",
          "height": 34
        }
      },
      "source": [
        "location_le = le.fit_transform(data_num['business_location'])\n",
        "np.unique(location_le)"
      ],
      "execution_count": 0,
      "outputs": [
        {
          "output_type": "execute_result",
          "data": {
            "text/plain": [
              "array([   0,    1,    2, ..., 2366, 2367, 2368])"
            ]
          },
          "metadata": {
            "tags": []
          },
          "execution_count": 28
        }
      ]
    },
    {
      "cell_type": "code",
      "metadata": {
        "id": "foPFC8A2vprT",
        "colab_type": "code",
        "outputId": "c01abdff-71f1-4ea1-cc32-4301066e2b1c",
        "colab": {
          "base_uri": "https://localhost:8080/",
          "height": 34
        }
      },
      "source": [
        "inspection_le = le.fit_transform(data['inspection_id'])\n",
        "np.unique(inspection_le)"
      ],
      "execution_count": 0,
      "outputs": [
        {
          "output_type": "execute_result",
          "data": {
            "text/plain": [
              "array([    0,     1,     2, ..., 24471, 24472, 24473])"
            ]
          },
          "metadata": {
            "tags": []
          },
          "execution_count": 29
        }
      ]
    },
    {
      "cell_type": "code",
      "metadata": {
        "id": "bAvootjav_00",
        "colab_type": "code",
        "outputId": "82c07e0e-4335-4ea3-f87c-2c11290d6a1a",
        "colab": {
          "base_uri": "https://localhost:8080/",
          "height": 34
        }
      },
      "source": [
        "violation_le = le.fit_transform(data_num['violation_id'])\n",
        "np.unique(violation_le)"
      ],
      "execution_count": 0,
      "outputs": [
        {
          "output_type": "execute_result",
          "data": {
            "text/plain": [
              "array([    0,     1,     2, ..., 35839, 35840, 35841])"
            ]
          },
          "metadata": {
            "tags": []
          },
          "execution_count": 30
        }
      ]
    },
    {
      "cell_type": "code",
      "metadata": {
        "id": "k_R6-BGkwSkD",
        "colab_type": "code",
        "outputId": "8e8ab495-7b70-4951-8d48-339c54bc78ab",
        "colab": {
          "base_uri": "https://localhost:8080/",
          "height": 85
        }
      },
      "source": [
        "ohe = OneHotEncoder()\n",
        "city_ohe = ohe.fit_transform(data[['business_city']])\n",
        "print(city_ohe.shape)\n",
        "city_ohe.toarray()[0:3]"
      ],
      "execution_count": 0,
      "outputs": [
        {
          "output_type": "stream",
          "text": [
            "(53973, 1)\n"
          ],
          "name": "stdout"
        },
        {
          "output_type": "execute_result",
          "data": {
            "text/plain": [
              "array([[1.],\n",
              "       [1.],\n",
              "       [1.]])"
            ]
          },
          "metadata": {
            "tags": []
          },
          "execution_count": 31
        }
      ]
    },
    {
      "cell_type": "code",
      "metadata": {
        "id": "CoSa35G-xN_f",
        "colab_type": "code",
        "outputId": "9f6fa3a5-e52e-4016-a899-8b65d7331a76",
        "colab": {
          "base_uri": "https://localhost:8080/",
          "height": 85
        }
      },
      "source": [
        "state_ohe = ohe.fit_transform(data[['business_state']])\n",
        "print(state_ohe.shape)\n",
        "state_ohe.toarray()[0:3]"
      ],
      "execution_count": 0,
      "outputs": [
        {
          "output_type": "stream",
          "text": [
            "(53973, 1)\n"
          ],
          "name": "stdout"
        },
        {
          "output_type": "execute_result",
          "data": {
            "text/plain": [
              "array([[1.],\n",
              "       [1.],\n",
              "       [1.]])"
            ]
          },
          "metadata": {
            "tags": []
          },
          "execution_count": 32
        }
      ]
    },
    {
      "cell_type": "code",
      "metadata": {
        "id": "1zrBzS1c0fZd",
        "colab_type": "code",
        "outputId": "aad09d40-af66-478f-9125-5478c4961d93",
        "colab": {
          "base_uri": "https://localhost:8080/",
          "height": 85
        }
      },
      "source": [
        "inspection_date_ohe = ohe.fit_transform(data[['inspection_date']])\n",
        "print(inspection_date_ohe.shape)\n",
        "inspection_date_ohe.toarray()[0:3]"
      ],
      "execution_count": 0,
      "outputs": [
        {
          "output_type": "stream",
          "text": [
            "(53973, 807)\n"
          ],
          "name": "stdout"
        },
        {
          "output_type": "execute_result",
          "data": {
            "text/plain": [
              "array([[0., 0., 0., ..., 0., 0., 0.],\n",
              "       [0., 0., 0., ..., 0., 0., 0.],\n",
              "       [0., 0., 0., ..., 0., 0., 0.]])"
            ]
          },
          "metadata": {
            "tags": []
          },
          "execution_count": 33
        }
      ]
    },
    {
      "cell_type": "code",
      "metadata": {
        "id": "KtwkhkV61wj_",
        "colab_type": "code",
        "outputId": "19812b3b-e516-43b6-ad44-7e591bf57243",
        "colab": {
          "base_uri": "https://localhost:8080/",
          "height": 85
        }
      },
      "source": [
        "inspection_type_ohe = ohe.fit_transform(data[['inspection_type']])\n",
        "print(inspection_type_ohe.shape)\n",
        "inspection_type_ohe.toarray()[0:3]"
      ],
      "execution_count": 0,
      "outputs": [
        {
          "output_type": "stream",
          "text": [
            "(53973, 14)\n"
          ],
          "name": "stdout"
        },
        {
          "output_type": "execute_result",
          "data": {
            "text/plain": [
              "array([[0., 1., 0., 0., 0., 0., 0., 0., 0., 0., 0., 0., 0., 0.],\n",
              "       [0., 0., 0., 0., 0., 0., 0., 0., 0., 0., 0., 1., 0., 0.],\n",
              "       [0., 0., 0., 0., 0., 0., 0., 0., 0., 0., 0., 1., 0., 0.]])"
            ]
          },
          "metadata": {
            "tags": []
          },
          "execution_count": 34
        }
      ]
    },
    {
      "cell_type": "code",
      "metadata": {
        "id": "aZ7IJH7A3mXZ",
        "colab_type": "code",
        "outputId": "00bd49b4-dbcb-4922-f6b6-5bfa542e6560",
        "colab": {
          "base_uri": "https://localhost:8080/",
          "height": 289
        }
      },
      "source": [
        "violation_description_ohe = ohe.fit_transform(data_num[['violation_description']])\n",
        "print(violation_description_ohe.shape)\n",
        "violation_description_ohe.toarray()[0:3]"
      ],
      "execution_count": 0,
      "outputs": [
        {
          "output_type": "stream",
          "text": [
            "(53973, 65)\n"
          ],
          "name": "stdout"
        },
        {
          "output_type": "execute_result",
          "data": {
            "text/plain": [
              "array([[0., 0., 0., 0., 0., 0., 0., 0., 0., 0., 0., 0., 0., 0., 0., 0.,\n",
              "        0., 0., 0., 0., 0., 0., 0., 0., 0., 0., 1., 0., 0., 0., 0., 0.,\n",
              "        0., 0., 0., 0., 0., 0., 0., 0., 0., 0., 0., 0., 0., 0., 0., 0.,\n",
              "        0., 0., 0., 0., 0., 0., 0., 0., 0., 0., 0., 0., 0., 0., 0., 0.,\n",
              "        0.],\n",
              "       [0., 0., 0., 0., 0., 0., 0., 0., 0., 0., 0., 0., 0., 0., 0., 0.,\n",
              "        0., 0., 0., 0., 0., 0., 0., 0., 0., 0., 0., 0., 0., 1., 0., 0.,\n",
              "        0., 0., 0., 0., 0., 0., 0., 0., 0., 0., 0., 0., 0., 0., 0., 0.,\n",
              "        0., 0., 0., 0., 0., 0., 0., 0., 0., 0., 0., 0., 0., 0., 0., 0.,\n",
              "        0.],\n",
              "       [0., 0., 0., 0., 0., 0., 0., 0., 0., 0., 0., 0., 0., 0., 0., 0.,\n",
              "        0., 0., 0., 0., 0., 1., 0., 0., 0., 0., 0., 0., 0., 0., 0., 0.,\n",
              "        0., 0., 0., 0., 0., 0., 0., 0., 0., 0., 0., 0., 0., 0., 0., 0.,\n",
              "        0., 0., 0., 0., 0., 0., 0., 0., 0., 0., 0., 0., 0., 0., 0., 0.,\n",
              "        0.]])"
            ]
          },
          "metadata": {
            "tags": []
          },
          "execution_count": 35
        }
      ]
    },
    {
      "cell_type": "code",
      "metadata": {
        "id": "ink_P6sp34QP",
        "colab_type": "code",
        "outputId": "37a1dbd6-6930-450a-f7e5-7e8acdb903a0",
        "colab": {
          "base_uri": "https://localhost:8080/",
          "height": 85
        }
      },
      "source": [
        "risk_category_ohe = ohe.fit_transform(data_num[['risk_category']])\n",
        "print(risk_category_ohe.shape)\n",
        "risk_category_ohe.toarray()[0:3]"
      ],
      "execution_count": 0,
      "outputs": [
        {
          "output_type": "stream",
          "text": [
            "(53973, 3)\n"
          ],
          "name": "stdout"
        },
        {
          "output_type": "execute_result",
          "data": {
            "text/plain": [
              "array([[0., 0., 1.],\n",
              "       [0., 0., 1.],\n",
              "       [0., 0., 1.]])"
            ]
          },
          "metadata": {
            "tags": []
          },
          "execution_count": 36
        }
      ]
    },
    {
      "cell_type": "markdown",
      "metadata": {
        "id": "mAvIQ-mc40aT",
        "colab_type": "text"
      },
      "source": [
        "Теперь у нас есть все категориальные данные как числовые после того, как мы их закодировали. Теперь мы можем применять алгоритмы машинного обучения, которые принимают только числовые данные."
      ]
    },
    {
      "cell_type": "markdown",
      "metadata": {
        "id": "ajp0sTqK5DqB",
        "colab_type": "text"
      },
      "source": [
        "## **3. Масштабирование данных**"
      ]
    },
    {
      "cell_type": "code",
      "metadata": {
        "id": "DW5ecieT4Fqf",
        "colab_type": "code",
        "colab": {}
      },
      "source": [
        "from sklearn.preprocessing import StandardScaler, MinMaxScaler"
      ],
      "execution_count": 0,
      "outputs": []
    },
    {
      "cell_type": "markdown",
      "metadata": {
        "id": "Q0cTmYoA72Ld",
        "colab_type": "text"
      },
      "source": [
        " #### **3.1. MinMax масштабирование**"
      ]
    },
    {
      "cell_type": "code",
      "metadata": {
        "id": "mRYUnjyr4-Rx",
        "colab_type": "code",
        "colab": {}
      },
      "source": [
        "mm = MinMaxScaler()\n",
        "business_id_mm = mm.fit_transform(data[['business_id']])"
      ],
      "execution_count": 0,
      "outputs": []
    },
    {
      "cell_type": "code",
      "metadata": {
        "id": "L346anq16d1M",
        "colab_type": "code",
        "outputId": "0eb905af-9ab0-4ea4-cdd7-99a773107279",
        "colab": {
          "base_uri": "https://localhost:8080/",
          "height": 268
        }
      },
      "source": [
        "plt.hist(data['business_id'], 50)\n",
        "plt.show()"
      ],
      "execution_count": 0,
      "outputs": [
        {
          "output_type": "display_data",
          "data": {
            "image/png": "[encoded data removed]",
            "text/plain": [
              "<Figure size 432x288 with 1 Axes>"
            ]
          },
          "metadata": {
            "tags": []
          }
        }
      ]
    },
    {
      "cell_type": "code",
      "metadata": {
        "id": "LwR9qObW6tX0",
        "colab_type": "code",
        "outputId": "c2f5f40c-9ca5-49e6-c354-43fde9e2950a",
        "colab": {
          "base_uri": "https://localhost:8080/",
          "height": 268
        }
      },
      "source": [
        "plt.hist(business_id_mm, 50)\n",
        "plt.show()"
      ],
      "execution_count": 0,
      "outputs": [
        {
          "output_type": "display_data",
          "data": {
            "image/png": "[encoded data removed]",
            "text/plain": [
              "<Figure size 432x288 with 1 Axes>"
            ]
          },
          "metadata": {
            "tags": []
          }
        }
      ]
    },
    {
      "cell_type": "markdown",
      "metadata": {
        "id": "JeJOdllM7_Fp",
        "colab_type": "text"
      },
      "source": [
        " #### **3.2. Масштабирование данных на основе Z-оценки - StandardScaler**"
      ]
    },
    {
      "cell_type": "code",
      "metadata": {
        "id": "AH39HTPL6xVf",
        "colab_type": "code",
        "colab": {}
      },
      "source": [
        "sc = StandardScaler()\n",
        "inspection_score_sc = sc.fit_transform(data[['inspection_score']])"
      ],
      "execution_count": 0,
      "outputs": []
    },
    {
      "cell_type": "code",
      "metadata": {
        "id": "Msvrbqlz7W7b",
        "colab_type": "code",
        "outputId": "a89f3813-9ac0-42ea-e4d0-fbd5bf8c23a9",
        "colab": {
          "base_uri": "https://localhost:8080/",
          "height": 336
        }
      },
      "source": [
        "plt.hist(data['inspection_score'], 50)\n",
        "plt.show()"
      ],
      "execution_count": 0,
      "outputs": [
        {
          "output_type": "stream",
          "text": [
            "/usr/local/lib/python3.6/dist-packages/numpy/lib/histograms.py:839: RuntimeWarning: invalid value encountered in greater_equal\n",
            "  keep = (tmp_a >= first_edge)\n",
            "/usr/local/lib/python3.6/dist-packages/numpy/lib/histograms.py:840: RuntimeWarning: invalid value encountered in less_equal\n",
            "  keep &= (tmp_a <= last_edge)\n"
          ],
          "name": "stderr"
        },
        {
          "output_type": "display_data",
          "data": {
            "image/png": "[encoded data removed]",
            "text/plain": [
              "<Figure size 432x288 with 1 Axes>"
            ]
          },
          "metadata": {
            "tags": []
          }
        }
      ]
    },
    {
      "cell_type": "code",
      "metadata": {
        "id": "e6gwI2MD7abk",
        "colab_type": "code",
        "outputId": "b49452fe-5e11-413b-e2b7-87f3fcd124d3",
        "colab": {
          "base_uri": "https://localhost:8080/",
          "height": 336
        }
      },
      "source": [
        "plt.hist(inspection_score_sc, 50)\n",
        "plt.show()"
      ],
      "execution_count": 0,
      "outputs": [
        {
          "output_type": "stream",
          "text": [
            "/usr/local/lib/python3.6/dist-packages/numpy/lib/histograms.py:839: RuntimeWarning: invalid value encountered in greater_equal\n",
            "  keep = (tmp_a >= first_edge)\n",
            "/usr/local/lib/python3.6/dist-packages/numpy/lib/histograms.py:840: RuntimeWarning: invalid value encountered in less_equal\n",
            "  keep &= (tmp_a <= last_edge)\n"
          ],
          "name": "stderr"
        },
        {
          "output_type": "display_data",
          "data": {
            "image/png": "[encoded data removed]",
            "text/plain": [
              "<Figure size 432x288 with 1 Axes>"
            ]
          },
          "metadata": {
            "tags": []
          }
        }
      ]
    }
  ]
}